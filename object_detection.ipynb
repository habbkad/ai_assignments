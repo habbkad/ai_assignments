{
 "cells": [
  {
   "cell_type": "code",
   "execution_count": 14,
   "metadata": {},
   "outputs": [],
   "source": [
    "from ultralytics import YOLO\n"
   ]
  },
  {
   "cell_type": "code",
   "execution_count": 15,
   "metadata": {},
   "outputs": [],
   "source": [
    "# Load a model\n",
    "model = YOLO(\"yolo11n-seg.pt\")  # load a pretrained model (recommended for training)"
   ]
  },
  {
   "cell_type": "code",
   "execution_count": 16,
   "metadata": {},
   "outputs": [
    {
     "name": "stdout",
     "output_type": "stream",
     "text": [
      "Transferred 499/499 items from pretrained weights\n"
     ]
    }
   ],
   "source": [
    "# Load a model\n",
    "model = YOLO(\"yolo11n.yaml\")  # build a new model from YAML\n",
    "model = YOLO(\"yolo11n.pt\")  # load a pretrained model (recommended for training)\n",
    "model = YOLO(\"yolo11n.yaml\").load(\"yolo11n.pt\")  # build from YAML and transfer weights"
   ]
  },
  {
   "cell_type": "code",
   "execution_count": 17,
   "metadata": {},
   "outputs": [
    {
     "name": "stdout",
     "output_type": "stream",
     "text": [
      "New https://pypi.org/project/ultralytics/8.3.86 available 😃 Update with 'pip install -U ultralytics'\n",
      "Ultralytics 8.3.85 🚀 Python-3.11.7 torch-2.6.0 CPU (arm64)\n",
      "\u001b[34m\u001b[1mengine/trainer: \u001b[0mtask=detect, mode=train, model=yolo11n.yaml, data=coco8.yaml, epochs=100, time=None, patience=100, batch=16, imgsz=640, save=True, save_period=-1, cache=False, device=None, workers=8, project=None, name=train, exist_ok=False, pretrained=yolo11n.pt, optimizer=auto, verbose=True, seed=0, deterministic=True, single_cls=False, rect=False, cos_lr=False, close_mosaic=10, resume=False, amp=True, fraction=1.0, profile=False, freeze=None, multi_scale=False, overlap_mask=True, mask_ratio=4, dropout=0.0, val=True, split=val, save_json=False, save_hybrid=False, conf=None, iou=0.7, max_det=300, half=False, dnn=False, plots=True, source=None, vid_stride=1, stream_buffer=False, visualize=False, augment=False, agnostic_nms=False, classes=None, retina_masks=False, embed=None, show=False, save_frames=False, save_txt=False, save_conf=False, save_crop=False, show_labels=True, show_conf=True, show_boxes=True, line_width=None, format=torchscript, keras=False, optimize=False, int8=False, dynamic=False, simplify=True, opset=None, workspace=None, nms=False, lr0=0.01, lrf=0.01, momentum=0.937, weight_decay=0.0005, warmup_epochs=3.0, warmup_momentum=0.8, warmup_bias_lr=0.1, box=7.5, cls=0.5, dfl=1.5, pose=12.0, kobj=1.0, nbs=64, hsv_h=0.015, hsv_s=0.7, hsv_v=0.4, degrees=0.0, translate=0.1, scale=0.5, shear=0.0, perspective=0.0, flipud=0.0, fliplr=0.5, bgr=0.0, mosaic=1.0, mixup=0.0, copy_paste=0.0, copy_paste_mode=flip, auto_augment=randaugment, erasing=0.4, crop_fraction=1.0, cfg=None, tracker=botsort.yaml, save_dir=runs/detect/train\n",
      "\n",
      "Dataset 'coco8.yaml' images not found ⚠️, missing path '/Users/habib/Desktop/ai_assignments/datasets/coco8/images/val'\n",
      "Downloading https://ultralytics.com/assets/coco8.zip to '/Users/habib/Desktop/ai_assignments/datasets/coco8.zip'...\n"
     ]
    },
    {
     "name": "stderr",
     "output_type": "stream",
     "text": [
      "100%|██████████| 433k/433k [00:00<00:00, 931kB/s]\n",
      "Unzipping /Users/habib/Desktop/ai_assignments/datasets/coco8.zip to /Users/habib/Desktop/ai_assignments/datasets/coco8...: 100%|██████████| 25/25 [00:00<00:00, 2787.36file/s]"
     ]
    },
    {
     "name": "stdout",
     "output_type": "stream",
     "text": [
      "Dataset download success ✅ (2.1s), saved to \u001b[1m/Users/habib/Desktop/ai_assignments/datasets\u001b[0m\n",
      "\n"
     ]
    },
    {
     "name": "stderr",
     "output_type": "stream",
     "text": [
      "\n"
     ]
    },
    {
     "name": "stdout",
     "output_type": "stream",
     "text": [
      "\n",
      "                   from  n    params  module                                       arguments                     \n",
      "  0                  -1  1       464  ultralytics.nn.modules.conv.Conv             [3, 16, 3, 2]                 \n",
      "  1                  -1  1      4672  ultralytics.nn.modules.conv.Conv             [16, 32, 3, 2]                \n",
      "  2                  -1  1      6640  ultralytics.nn.modules.block.C3k2            [32, 64, 1, False, 0.25]      \n",
      "  3                  -1  1     36992  ultralytics.nn.modules.conv.Conv             [64, 64, 3, 2]                \n",
      "  4                  -1  1     26080  ultralytics.nn.modules.block.C3k2            [64, 128, 1, False, 0.25]     \n",
      "  5                  -1  1    147712  ultralytics.nn.modules.conv.Conv             [128, 128, 3, 2]              \n",
      "  6                  -1  1     87040  ultralytics.nn.modules.block.C3k2            [128, 128, 1, True]           \n",
      "  7                  -1  1    295424  ultralytics.nn.modules.conv.Conv             [128, 256, 3, 2]              \n",
      "  8                  -1  1    346112  ultralytics.nn.modules.block.C3k2            [256, 256, 1, True]           \n",
      "  9                  -1  1    164608  ultralytics.nn.modules.block.SPPF            [256, 256, 5]                 \n",
      " 10                  -1  1    249728  ultralytics.nn.modules.block.C2PSA           [256, 256, 1]                 \n",
      " 11                  -1  1         0  torch.nn.modules.upsampling.Upsample         [None, 2, 'nearest']          \n",
      " 12             [-1, 6]  1         0  ultralytics.nn.modules.conv.Concat           [1]                           \n",
      " 13                  -1  1    111296  ultralytics.nn.modules.block.C3k2            [384, 128, 1, False]          \n",
      " 14                  -1  1         0  torch.nn.modules.upsampling.Upsample         [None, 2, 'nearest']          \n",
      " 15             [-1, 4]  1         0  ultralytics.nn.modules.conv.Concat           [1]                           \n",
      " 16                  -1  1     32096  ultralytics.nn.modules.block.C3k2            [256, 64, 1, False]           \n",
      " 17                  -1  1     36992  ultralytics.nn.modules.conv.Conv             [64, 64, 3, 2]                \n",
      " 18            [-1, 13]  1         0  ultralytics.nn.modules.conv.Concat           [1]                           \n",
      " 19                  -1  1     86720  ultralytics.nn.modules.block.C3k2            [192, 128, 1, False]          \n",
      " 20                  -1  1    147712  ultralytics.nn.modules.conv.Conv             [128, 128, 3, 2]              \n",
      " 21            [-1, 10]  1         0  ultralytics.nn.modules.conv.Concat           [1]                           \n",
      " 22                  -1  1    378880  ultralytics.nn.modules.block.C3k2            [384, 256, 1, True]           \n",
      " 23        [16, 19, 22]  1    464912  ultralytics.nn.modules.head.Detect           [80, [64, 128, 256]]          \n",
      "YOLO11n summary: 181 layers, 2,624,080 parameters, 2,624,064 gradients, 6.6 GFLOPs\n",
      "\n",
      "Transferred 499/499 items from pretrained weights\n",
      "\u001b[34m\u001b[1mTensorBoard: \u001b[0mStart with 'tensorboard --logdir runs/detect/train', view at http://localhost:6006/\n",
      "Freezing layer 'model.23.dfl.conv.weight'\n"
     ]
    },
    {
     "name": "stderr",
     "output_type": "stream",
     "text": [
      "\u001b[34m\u001b[1mtrain: \u001b[0mScanning /Users/habib/Desktop/ai_assignments/datasets/coco8/labels/train... 4 images, 0 backgrounds, 0 corrupt: 100%|██████████| 4/4 [00:00<00:00, 30.81it/s]"
     ]
    },
    {
     "name": "stdout",
     "output_type": "stream",
     "text": [
      "\u001b[34m\u001b[1mtrain: \u001b[0mNew cache created: /Users/habib/Desktop/ai_assignments/datasets/coco8/labels/train.cache\n"
     ]
    },
    {
     "name": "stderr",
     "output_type": "stream",
     "text": [
      "\n",
      "\u001b[34m\u001b[1mval: \u001b[0mScanning /Users/habib/Desktop/ai_assignments/datasets/coco8/labels/val... 4 images, 0 backgrounds, 0 corrupt: 100%|██████████| 4/4 [00:00<00:00, 3430.22it/s]"
     ]
    },
    {
     "name": "stdout",
     "output_type": "stream",
     "text": [
      "\u001b[34m\u001b[1mval: \u001b[0mNew cache created: /Users/habib/Desktop/ai_assignments/datasets/coco8/labels/val.cache\n"
     ]
    },
    {
     "name": "stderr",
     "output_type": "stream",
     "text": [
      "\n"
     ]
    },
    {
     "name": "stdout",
     "output_type": "stream",
     "text": [
      "Plotting labels to runs/detect/train/labels.jpg... \n",
      "\u001b[34m\u001b[1moptimizer:\u001b[0m 'optimizer=auto' found, ignoring 'lr0=0.01' and 'momentum=0.937' and determining best 'optimizer', 'lr0' and 'momentum' automatically... \n",
      "\u001b[34m\u001b[1moptimizer:\u001b[0m AdamW(lr=0.000119, momentum=0.9) with parameter groups 81 weight(decay=0.0), 88 weight(decay=0.0005), 87 bias(decay=0.0)\n",
      "\u001b[34m\u001b[1mTensorBoard: \u001b[0mmodel graph visualization added ✅\n",
      "Image sizes 640 train, 640 val\n",
      "Using 0 dataloader workers\n",
      "Logging results to \u001b[1mruns/detect/train\u001b[0m\n",
      "Starting training for 100 epochs...\n",
      "\n",
      "      Epoch    GPU_mem   box_loss   cls_loss   dfl_loss  Instances       Size\n"
     ]
    },
    {
     "name": "stderr",
     "output_type": "stream",
     "text": [
      "      1/100         0G      1.334      2.871      1.642         22        640: 100%|██████████| 1/1 [00:01<00:00,  1.47s/it]\n",
      "                 Class     Images  Instances      Box(P          R      mAP50  mAP50-95): 100%|██████████| 1/1 [00:00<00:00,  1.58it/s]"
     ]
    },
    {
     "name": "stdout",
     "output_type": "stream",
     "text": [
      "                   all          4         17      0.575       0.85      0.878      0.635\n"
     ]
    },
    {
     "name": "stderr",
     "output_type": "stream",
     "text": [
      "\n"
     ]
    },
    {
     "name": "stdout",
     "output_type": "stream",
     "text": [
      "\n",
      "      Epoch    GPU_mem   box_loss   cls_loss   dfl_loss  Instances       Size\n"
     ]
    },
    {
     "name": "stderr",
     "output_type": "stream",
     "text": [
      "      2/100         0G      1.204      2.718      1.518         23        640: 100%|██████████| 1/1 [00:01<00:00,  1.42s/it]\n",
      "                 Class     Images  Instances      Box(P          R      mAP50  mAP50-95): 100%|██████████| 1/1 [00:00<00:00,  2.22it/s]"
     ]
    },
    {
     "name": "stdout",
     "output_type": "stream",
     "text": [
      "                   all          4         17      0.566       0.85      0.849      0.632\n"
     ]
    },
    {
     "name": "stderr",
     "output_type": "stream",
     "text": [
      "\n"
     ]
    },
    {
     "name": "stdout",
     "output_type": "stream",
     "text": [
      "\n",
      "      Epoch    GPU_mem   box_loss   cls_loss   dfl_loss  Instances       Size\n"
     ]
    },
    {
     "name": "stderr",
     "output_type": "stream",
     "text": [
      "      3/100         0G       1.14       3.63      1.555         16        640: 100%|██████████| 1/1 [00:01<00:00,  1.22s/it]\n",
      "                 Class     Images  Instances      Box(P          R      mAP50  mAP50-95): 100%|██████████| 1/1 [00:00<00:00,  2.29it/s]"
     ]
    },
    {
     "name": "stdout",
     "output_type": "stream",
     "text": [
      "                   all          4         17      0.561       0.85      0.851      0.616\n"
     ]
    },
    {
     "name": "stderr",
     "output_type": "stream",
     "text": [
      "\n"
     ]
    },
    {
     "name": "stdout",
     "output_type": "stream",
     "text": [
      "\n",
      "      Epoch    GPU_mem   box_loss   cls_loss   dfl_loss  Instances       Size\n"
     ]
    },
    {
     "name": "stderr",
     "output_type": "stream",
     "text": [
      "      4/100         0G      1.281      2.756      1.392         35        640: 100%|██████████| 1/1 [00:01<00:00,  1.41s/it]\n",
      "                 Class     Images  Instances      Box(P          R      mAP50  mAP50-95): 100%|██████████| 1/1 [00:00<00:00,  2.09it/s]"
     ]
    },
    {
     "name": "stdout",
     "output_type": "stream",
     "text": [
      "                   all          4         17      0.561       0.85       0.85      0.616\n"
     ]
    },
    {
     "name": "stderr",
     "output_type": "stream",
     "text": [
      "\n"
     ]
    },
    {
     "name": "stdout",
     "output_type": "stream",
     "text": [
      "\n",
      "      Epoch    GPU_mem   box_loss   cls_loss   dfl_loss  Instances       Size\n"
     ]
    },
    {
     "name": "stderr",
     "output_type": "stream",
     "text": [
      "      5/100         0G      1.385      3.077      1.737         25        640: 100%|██████████| 1/1 [00:01<00:00,  1.51s/it]\n",
      "                 Class     Images  Instances      Box(P          R      mAP50  mAP50-95): 100%|██████████| 1/1 [00:00<00:00,  2.00it/s]"
     ]
    },
    {
     "name": "stdout",
     "output_type": "stream",
     "text": [
      "                   all          4         17      0.568       0.85      0.855      0.621\n"
     ]
    },
    {
     "name": "stderr",
     "output_type": "stream",
     "text": [
      "\n"
     ]
    },
    {
     "name": "stdout",
     "output_type": "stream",
     "text": [
      "\n",
      "      Epoch    GPU_mem   box_loss   cls_loss   dfl_loss  Instances       Size\n"
     ]
    },
    {
     "name": "stderr",
     "output_type": "stream",
     "text": [
      "      6/100         0G      1.535      4.159      1.979         31        640: 100%|██████████| 1/1 [00:01<00:00,  1.36s/it]\n",
      "                 Class     Images  Instances      Box(P          R      mAP50  mAP50-95): 100%|██████████| 1/1 [00:00<00:00,  1.90it/s]"
     ]
    },
    {
     "name": "stdout",
     "output_type": "stream",
     "text": [
      "                   all          4         17      0.543       0.85      0.894      0.624\n"
     ]
    },
    {
     "name": "stderr",
     "output_type": "stream",
     "text": [
      "\n"
     ]
    },
    {
     "name": "stdout",
     "output_type": "stream",
     "text": [
      "\n",
      "      Epoch    GPU_mem   box_loss   cls_loss   dfl_loss  Instances       Size\n"
     ]
    },
    {
     "name": "stderr",
     "output_type": "stream",
     "text": [
      "      7/100         0G      1.124      1.878      1.398         25        640: 100%|██████████| 1/1 [00:01<00:00,  1.46s/it]\n",
      "                 Class     Images  Instances      Box(P          R      mAP50  mAP50-95): 100%|██████████| 1/1 [00:00<00:00,  2.10it/s]"
     ]
    },
    {
     "name": "stdout",
     "output_type": "stream",
     "text": [
      "                   all          4         17      0.538       0.85      0.893      0.626\n"
     ]
    },
    {
     "name": "stderr",
     "output_type": "stream",
     "text": [
      "\n"
     ]
    },
    {
     "name": "stdout",
     "output_type": "stream",
     "text": [
      "\n",
      "      Epoch    GPU_mem   box_loss   cls_loss   dfl_loss  Instances       Size\n"
     ]
    },
    {
     "name": "stderr",
     "output_type": "stream",
     "text": [
      "      8/100         0G      1.381      4.018      1.609         14        640: 100%|██████████| 1/1 [00:01<00:00,  1.40s/it]\n",
      "                 Class     Images  Instances      Box(P          R      mAP50  mAP50-95): 100%|██████████| 1/1 [00:00<00:00,  1.96it/s]"
     ]
    },
    {
     "name": "stdout",
     "output_type": "stream",
     "text": [
      "                   all          4         17      0.549       0.86      0.859      0.613\n"
     ]
    },
    {
     "name": "stderr",
     "output_type": "stream",
     "text": [
      "\n"
     ]
    },
    {
     "name": "stdout",
     "output_type": "stream",
     "text": [
      "\n",
      "      Epoch    GPU_mem   box_loss   cls_loss   dfl_loss  Instances       Size\n"
     ]
    },
    {
     "name": "stderr",
     "output_type": "stream",
     "text": [
      "      9/100         0G      1.126      2.714      1.413         36        640: 100%|██████████| 1/1 [00:01<00:00,  1.41s/it]\n",
      "                 Class     Images  Instances      Box(P          R      mAP50  mAP50-95): 100%|██████████| 1/1 [00:00<00:00,  1.91it/s]"
     ]
    },
    {
     "name": "stdout",
     "output_type": "stream",
     "text": [
      "                   all          4         17      0.571      0.862      0.818      0.595\n"
     ]
    },
    {
     "name": "stderr",
     "output_type": "stream",
     "text": [
      "\n"
     ]
    },
    {
     "name": "stdout",
     "output_type": "stream",
     "text": [
      "\n",
      "      Epoch    GPU_mem   box_loss   cls_loss   dfl_loss  Instances       Size\n"
     ]
    },
    {
     "name": "stderr",
     "output_type": "stream",
     "text": [
      "     10/100         0G      1.193      3.507      1.596         27        640: 100%|██████████| 1/1 [00:01<00:00,  1.39s/it]\n",
      "                 Class     Images  Instances      Box(P          R      mAP50  mAP50-95): 100%|██████████| 1/1 [00:00<00:00,  2.26it/s]"
     ]
    },
    {
     "name": "stdout",
     "output_type": "stream",
     "text": [
      "                   all          4         17      0.581      0.862      0.814      0.595\n"
     ]
    },
    {
     "name": "stderr",
     "output_type": "stream",
     "text": [
      "\n"
     ]
    },
    {
     "name": "stdout",
     "output_type": "stream",
     "text": [
      "\n",
      "      Epoch    GPU_mem   box_loss   cls_loss   dfl_loss  Instances       Size\n"
     ]
    },
    {
     "name": "stderr",
     "output_type": "stream",
     "text": [
      "     11/100         0G      1.214      2.486      1.454         29        640: 100%|██████████| 1/1 [00:01<00:00,  1.31s/it]\n",
      "                 Class     Images  Instances      Box(P          R      mAP50  mAP50-95): 100%|██████████| 1/1 [00:00<00:00,  1.41it/s]"
     ]
    },
    {
     "name": "stdout",
     "output_type": "stream",
     "text": [
      "                   all          4         17      0.589      0.863      0.856       0.62\n"
     ]
    },
    {
     "name": "stderr",
     "output_type": "stream",
     "text": [
      "\n"
     ]
    },
    {
     "name": "stdout",
     "output_type": "stream",
     "text": [
      "\n",
      "      Epoch    GPU_mem   box_loss   cls_loss   dfl_loss  Instances       Size\n"
     ]
    },
    {
     "name": "stderr",
     "output_type": "stream",
     "text": [
      "     12/100         0G      1.004      2.031      1.379         21        640: 100%|██████████| 1/1 [00:01<00:00,  1.45s/it]\n",
      "                 Class     Images  Instances      Box(P          R      mAP50  mAP50-95): 100%|██████████| 1/1 [00:00<00:00,  2.27it/s]"
     ]
    },
    {
     "name": "stdout",
     "output_type": "stream",
     "text": [
      "                   all          4         17       0.59      0.861      0.856      0.621\n"
     ]
    },
    {
     "name": "stderr",
     "output_type": "stream",
     "text": [
      "\n"
     ]
    },
    {
     "name": "stdout",
     "output_type": "stream",
     "text": [
      "\n",
      "      Epoch    GPU_mem   box_loss   cls_loss   dfl_loss  Instances       Size\n"
     ]
    },
    {
     "name": "stderr",
     "output_type": "stream",
     "text": [
      "     13/100         0G     0.8656      2.235       1.14         40        640: 100%|██████████| 1/1 [00:01<00:00,  1.47s/it]\n",
      "                 Class     Images  Instances      Box(P          R      mAP50  mAP50-95): 100%|██████████| 1/1 [00:00<00:00,  2.37it/s]"
     ]
    },
    {
     "name": "stdout",
     "output_type": "stream",
     "text": [
      "                   all          4         17      0.597      0.865      0.855      0.621\n"
     ]
    },
    {
     "name": "stderr",
     "output_type": "stream",
     "text": [
      "\n"
     ]
    },
    {
     "name": "stdout",
     "output_type": "stream",
     "text": [
      "\n",
      "      Epoch    GPU_mem   box_loss   cls_loss   dfl_loss  Instances       Size\n"
     ]
    },
    {
     "name": "stderr",
     "output_type": "stream",
     "text": [
      "     14/100         0G      1.094      2.214      1.485         14        640: 100%|██████████| 1/1 [00:01<00:00,  1.43s/it]\n",
      "                 Class     Images  Instances      Box(P          R      mAP50  mAP50-95): 100%|██████████| 1/1 [00:00<00:00,  2.28it/s]"
     ]
    },
    {
     "name": "stdout",
     "output_type": "stream",
     "text": [
      "                   all          4         17      0.597      0.867      0.888      0.627\n"
     ]
    },
    {
     "name": "stderr",
     "output_type": "stream",
     "text": [
      "\n"
     ]
    },
    {
     "name": "stdout",
     "output_type": "stream",
     "text": [
      "\n",
      "      Epoch    GPU_mem   box_loss   cls_loss   dfl_loss  Instances       Size\n"
     ]
    },
    {
     "name": "stderr",
     "output_type": "stream",
     "text": [
      "     15/100         0G     0.9567      1.648      1.143         32        640: 100%|██████████| 1/1 [00:01<00:00,  1.29s/it]\n",
      "                 Class     Images  Instances      Box(P          R      mAP50  mAP50-95): 100%|██████████| 1/1 [00:00<00:00,  2.19it/s]"
     ]
    },
    {
     "name": "stdout",
     "output_type": "stream",
     "text": [
      "                   all          4         17      0.601      0.867      0.888      0.627\n"
     ]
    },
    {
     "name": "stderr",
     "output_type": "stream",
     "text": [
      "\n"
     ]
    },
    {
     "name": "stdout",
     "output_type": "stream",
     "text": [
      "\n",
      "      Epoch    GPU_mem   box_loss   cls_loss   dfl_loss  Instances       Size\n"
     ]
    },
    {
     "name": "stderr",
     "output_type": "stream",
     "text": [
      "     16/100         0G      1.222      2.479      1.625         28        640: 100%|██████████| 1/1 [00:01<00:00,  1.27s/it]\n",
      "                 Class     Images  Instances      Box(P          R      mAP50  mAP50-95): 100%|██████████| 1/1 [00:00<00:00,  2.27it/s]"
     ]
    },
    {
     "name": "stdout",
     "output_type": "stream",
     "text": [
      "                   all          4         17      0.777       0.65      0.879      0.623\n"
     ]
    },
    {
     "name": "stderr",
     "output_type": "stream",
     "text": [
      "\n"
     ]
    },
    {
     "name": "stdout",
     "output_type": "stream",
     "text": [
      "\n",
      "      Epoch    GPU_mem   box_loss   cls_loss   dfl_loss  Instances       Size\n"
     ]
    },
    {
     "name": "stderr",
     "output_type": "stream",
     "text": [
      "     17/100         0G     0.8236      1.829      1.182         26        640: 100%|██████████| 1/1 [00:01<00:00,  1.34s/it]\n",
      "                 Class     Images  Instances      Box(P          R      mAP50  mAP50-95): 100%|██████████| 1/1 [00:00<00:00,  2.40it/s]"
     ]
    },
    {
     "name": "stdout",
     "output_type": "stream",
     "text": [
      "                   all          4         17      0.768       0.65      0.873      0.627\n"
     ]
    },
    {
     "name": "stderr",
     "output_type": "stream",
     "text": [
      "\n"
     ]
    },
    {
     "name": "stdout",
     "output_type": "stream",
     "text": [
      "\n",
      "      Epoch    GPU_mem   box_loss   cls_loss   dfl_loss  Instances       Size\n"
     ]
    },
    {
     "name": "stderr",
     "output_type": "stream",
     "text": [
      "     18/100         0G      1.147      1.572       1.36         33        640: 100%|██████████| 1/1 [00:01<00:00,  1.25s/it]\n",
      "                 Class     Images  Instances      Box(P          R      mAP50  mAP50-95): 100%|██████████| 1/1 [00:00<00:00,  1.92it/s]"
     ]
    },
    {
     "name": "stdout",
     "output_type": "stream",
     "text": [
      "                   all          4         17      0.768       0.65      0.873      0.627\n"
     ]
    },
    {
     "name": "stderr",
     "output_type": "stream",
     "text": [
      "\n"
     ]
    },
    {
     "name": "stdout",
     "output_type": "stream",
     "text": [
      "\n",
      "      Epoch    GPU_mem   box_loss   cls_loss   dfl_loss  Instances       Size\n"
     ]
    },
    {
     "name": "stderr",
     "output_type": "stream",
     "text": [
      "     19/100         0G     0.9743      1.941      1.138         42        640: 100%|██████████| 1/1 [00:01<00:00,  1.36s/it]\n",
      "                 Class     Images  Instances      Box(P          R      mAP50  mAP50-95): 100%|██████████| 1/1 [00:00<00:00,  1.64it/s]"
     ]
    },
    {
     "name": "stdout",
     "output_type": "stream",
     "text": [
      "                   all          4         17      0.764       0.65      0.862      0.616\n"
     ]
    },
    {
     "name": "stderr",
     "output_type": "stream",
     "text": [
      "\n"
     ]
    },
    {
     "name": "stdout",
     "output_type": "stream",
     "text": [
      "\n",
      "      Epoch    GPU_mem   box_loss   cls_loss   dfl_loss  Instances       Size\n"
     ]
    },
    {
     "name": "stderr",
     "output_type": "stream",
     "text": [
      "     20/100         0G     0.8613      1.505      1.189         18        640: 100%|██████████| 1/1 [00:01<00:00,  1.58s/it]\n",
      "                 Class     Images  Instances      Box(P          R      mAP50  mAP50-95): 100%|██████████| 1/1 [00:00<00:00,  2.31it/s]"
     ]
    },
    {
     "name": "stdout",
     "output_type": "stream",
     "text": [
      "                   all          4         17      0.764       0.65      0.862      0.616\n"
     ]
    },
    {
     "name": "stderr",
     "output_type": "stream",
     "text": [
      "\n"
     ]
    },
    {
     "name": "stdout",
     "output_type": "stream",
     "text": [
      "\n",
      "      Epoch    GPU_mem   box_loss   cls_loss   dfl_loss  Instances       Size\n"
     ]
    },
    {
     "name": "stderr",
     "output_type": "stream",
     "text": [
      "     21/100         0G      1.269      2.585      1.681         16        640: 100%|██████████| 1/1 [00:01<00:00,  1.62s/it]\n",
      "                 Class     Images  Instances      Box(P          R      mAP50  mAP50-95): 100%|██████████| 1/1 [00:00<00:00,  2.23it/s]"
     ]
    },
    {
     "name": "stdout",
     "output_type": "stream",
     "text": [
      "                   all          4         17      0.757       0.65      0.855      0.614\n"
     ]
    },
    {
     "name": "stderr",
     "output_type": "stream",
     "text": [
      "\n"
     ]
    },
    {
     "name": "stdout",
     "output_type": "stream",
     "text": [
      "\n",
      "      Epoch    GPU_mem   box_loss   cls_loss   dfl_loss  Instances       Size\n"
     ]
    },
    {
     "name": "stderr",
     "output_type": "stream",
     "text": [
      "     22/100         0G      1.073       2.36      1.506         29        640: 100%|██████████| 1/1 [00:01<00:00,  1.30s/it]\n",
      "                 Class     Images  Instances      Box(P          R      mAP50  mAP50-95): 100%|██████████| 1/1 [00:00<00:00,  2.49it/s]"
     ]
    },
    {
     "name": "stdout",
     "output_type": "stream",
     "text": [
      "                   all          4         17      0.757       0.65      0.855      0.614\n"
     ]
    },
    {
     "name": "stderr",
     "output_type": "stream",
     "text": [
      "\n"
     ]
    },
    {
     "name": "stdout",
     "output_type": "stream",
     "text": [
      "\n",
      "      Epoch    GPU_mem   box_loss   cls_loss   dfl_loss  Instances       Size\n"
     ]
    },
    {
     "name": "stderr",
     "output_type": "stream",
     "text": [
      "     23/100         0G      1.045      1.889       1.47         27        640: 100%|██████████| 1/1 [00:01<00:00,  1.56s/it]\n",
      "                 Class     Images  Instances      Box(P          R      mAP50  mAP50-95): 100%|██████████| 1/1 [00:00<00:00,  2.11it/s]"
     ]
    },
    {
     "name": "stdout",
     "output_type": "stream",
     "text": [
      "                   all          4         17      0.733       0.65      0.855      0.619\n"
     ]
    },
    {
     "name": "stderr",
     "output_type": "stream",
     "text": [
      "\n"
     ]
    },
    {
     "name": "stdout",
     "output_type": "stream",
     "text": [
      "\n",
      "      Epoch    GPU_mem   box_loss   cls_loss   dfl_loss  Instances       Size\n"
     ]
    },
    {
     "name": "stderr",
     "output_type": "stream",
     "text": [
      "     24/100         0G      1.058      2.204       1.49         20        640: 100%|██████████| 1/1 [00:01<00:00,  1.27s/it]\n",
      "                 Class     Images  Instances      Box(P          R      mAP50  mAP50-95): 100%|██████████| 1/1 [00:00<00:00,  2.53it/s]"
     ]
    },
    {
     "name": "stdout",
     "output_type": "stream",
     "text": [
      "                   all          4         17      0.733       0.65      0.855      0.619\n"
     ]
    },
    {
     "name": "stderr",
     "output_type": "stream",
     "text": [
      "\n"
     ]
    },
    {
     "name": "stdout",
     "output_type": "stream",
     "text": [
      "\n",
      "      Epoch    GPU_mem   box_loss   cls_loss   dfl_loss  Instances       Size\n"
     ]
    },
    {
     "name": "stderr",
     "output_type": "stream",
     "text": [
      "     25/100         0G     0.8545      1.482      1.222         27        640: 100%|██████████| 1/1 [00:01<00:00,  1.32s/it]\n",
      "                 Class     Images  Instances      Box(P          R      mAP50  mAP50-95): 100%|██████████| 1/1 [00:00<00:00,  2.49it/s]"
     ]
    },
    {
     "name": "stdout",
     "output_type": "stream",
     "text": [
      "                   all          4         17      0.705      0.672      0.856      0.611\n"
     ]
    },
    {
     "name": "stderr",
     "output_type": "stream",
     "text": [
      "\n"
     ]
    },
    {
     "name": "stdout",
     "output_type": "stream",
     "text": [
      "\n",
      "      Epoch    GPU_mem   box_loss   cls_loss   dfl_loss  Instances       Size\n"
     ]
    },
    {
     "name": "stderr",
     "output_type": "stream",
     "text": [
      "     26/100         0G      1.132      1.847      1.448         28        640: 100%|██████████| 1/1 [00:01<00:00,  1.38s/it]\n",
      "                 Class     Images  Instances      Box(P          R      mAP50  mAP50-95): 100%|██████████| 1/1 [00:00<00:00,  2.34it/s]"
     ]
    },
    {
     "name": "stdout",
     "output_type": "stream",
     "text": [
      "                   all          4         17      0.705      0.672      0.856      0.611\n"
     ]
    },
    {
     "name": "stderr",
     "output_type": "stream",
     "text": [
      "\n"
     ]
    },
    {
     "name": "stdout",
     "output_type": "stream",
     "text": [
      "\n",
      "      Epoch    GPU_mem   box_loss   cls_loss   dfl_loss  Instances       Size\n"
     ]
    },
    {
     "name": "stderr",
     "output_type": "stream",
     "text": [
      "     27/100         0G     0.9096       1.75        1.4         24        640: 100%|██████████| 1/1 [00:01<00:00,  1.56s/it]\n",
      "                 Class     Images  Instances      Box(P          R      mAP50  mAP50-95): 100%|██████████| 1/1 [00:00<00:00,  2.48it/s]"
     ]
    },
    {
     "name": "stdout",
     "output_type": "stream",
     "text": [
      "                   all          4         17      0.693      0.677      0.856      0.611\n"
     ]
    },
    {
     "name": "stderr",
     "output_type": "stream",
     "text": [
      "\n"
     ]
    },
    {
     "name": "stdout",
     "output_type": "stream",
     "text": [
      "\n",
      "      Epoch    GPU_mem   box_loss   cls_loss   dfl_loss  Instances       Size\n"
     ]
    },
    {
     "name": "stderr",
     "output_type": "stream",
     "text": [
      "     28/100         0G      0.815      1.265      1.156         34        640: 100%|██████████| 1/1 [00:01<00:00,  1.72s/it]\n",
      "                 Class     Images  Instances      Box(P          R      mAP50  mAP50-95): 100%|██████████| 1/1 [00:00<00:00,  2.01it/s]"
     ]
    },
    {
     "name": "stdout",
     "output_type": "stream",
     "text": [
      "                   all          4         17      0.693      0.677      0.856      0.611\n"
     ]
    },
    {
     "name": "stderr",
     "output_type": "stream",
     "text": [
      "\n"
     ]
    },
    {
     "name": "stdout",
     "output_type": "stream",
     "text": [
      "\n",
      "      Epoch    GPU_mem   box_loss   cls_loss   dfl_loss  Instances       Size\n"
     ]
    },
    {
     "name": "stderr",
     "output_type": "stream",
     "text": [
      "     29/100         0G     0.9954      1.518      1.275         36        640: 100%|██████████| 1/1 [00:01<00:00,  1.45s/it]\n",
      "                 Class     Images  Instances      Box(P          R      mAP50  mAP50-95): 100%|██████████| 1/1 [00:00<00:00,  2.24it/s]"
     ]
    },
    {
     "name": "stdout",
     "output_type": "stream",
     "text": [
      "                   all          4         17      0.687      0.679      0.855      0.609\n"
     ]
    },
    {
     "name": "stderr",
     "output_type": "stream",
     "text": [
      "\n"
     ]
    },
    {
     "name": "stdout",
     "output_type": "stream",
     "text": [
      "\n",
      "      Epoch    GPU_mem   box_loss   cls_loss   dfl_loss  Instances       Size\n"
     ]
    },
    {
     "name": "stderr",
     "output_type": "stream",
     "text": [
      "     30/100         0G      1.288      2.337      1.625         33        640: 100%|██████████| 1/1 [00:01<00:00,  1.25s/it]\n",
      "                 Class     Images  Instances      Box(P          R      mAP50  mAP50-95): 100%|██████████| 1/1 [00:00<00:00,  2.45it/s]"
     ]
    },
    {
     "name": "stdout",
     "output_type": "stream",
     "text": [
      "                   all          4         17      0.687      0.679      0.855      0.609\n"
     ]
    },
    {
     "name": "stderr",
     "output_type": "stream",
     "text": [
      "\n"
     ]
    },
    {
     "name": "stdout",
     "output_type": "stream",
     "text": [
      "\n",
      "      Epoch    GPU_mem   box_loss   cls_loss   dfl_loss  Instances       Size\n"
     ]
    },
    {
     "name": "stderr",
     "output_type": "stream",
     "text": [
      "     31/100         0G      1.012      1.441      1.326         44        640: 100%|██████████| 1/1 [00:01<00:00,  1.37s/it]\n",
      "                 Class     Images  Instances      Box(P          R      mAP50  mAP50-95): 100%|██████████| 1/1 [00:00<00:00,  2.37it/s]"
     ]
    },
    {
     "name": "stdout",
     "output_type": "stream",
     "text": [
      "                   all          4         17      0.673      0.667      0.854      0.611\n"
     ]
    },
    {
     "name": "stderr",
     "output_type": "stream",
     "text": [
      "\n"
     ]
    },
    {
     "name": "stdout",
     "output_type": "stream",
     "text": [
      "\n",
      "      Epoch    GPU_mem   box_loss   cls_loss   dfl_loss  Instances       Size\n"
     ]
    },
    {
     "name": "stderr",
     "output_type": "stream",
     "text": [
      "     32/100         0G     0.8605      1.314      1.235         22        640: 100%|██████████| 1/1 [00:01<00:00,  1.12s/it]\n",
      "                 Class     Images  Instances      Box(P          R      mAP50  mAP50-95): 100%|██████████| 1/1 [00:00<00:00,  2.38it/s]"
     ]
    },
    {
     "name": "stdout",
     "output_type": "stream",
     "text": [
      "                   all          4         17      0.673      0.667      0.854      0.611\n"
     ]
    },
    {
     "name": "stderr",
     "output_type": "stream",
     "text": [
      "\n"
     ]
    },
    {
     "name": "stdout",
     "output_type": "stream",
     "text": [
      "\n",
      "      Epoch    GPU_mem   box_loss   cls_loss   dfl_loss  Instances       Size\n"
     ]
    },
    {
     "name": "stderr",
     "output_type": "stream",
     "text": [
      "     33/100         0G     0.8543      1.312      1.402         10        640: 100%|██████████| 1/1 [00:01<00:00,  1.39s/it]\n",
      "                 Class     Images  Instances      Box(P          R      mAP50  mAP50-95): 100%|██████████| 1/1 [00:00<00:00,  2.39it/s]"
     ]
    },
    {
     "name": "stdout",
     "output_type": "stream",
     "text": [
      "                   all          4         17      0.652        0.7       0.77      0.534\n"
     ]
    },
    {
     "name": "stderr",
     "output_type": "stream",
     "text": [
      "\n"
     ]
    },
    {
     "name": "stdout",
     "output_type": "stream",
     "text": [
      "\n",
      "      Epoch    GPU_mem   box_loss   cls_loss   dfl_loss  Instances       Size\n"
     ]
    },
    {
     "name": "stderr",
     "output_type": "stream",
     "text": [
      "     34/100         0G      1.025      1.251       1.29         33        640: 100%|██████████| 1/1 [00:01<00:00,  1.18s/it]\n",
      "                 Class     Images  Instances      Box(P          R      mAP50  mAP50-95): 100%|██████████| 1/1 [00:00<00:00,  2.45it/s]"
     ]
    },
    {
     "name": "stdout",
     "output_type": "stream",
     "text": [
      "                   all          4         17      0.652        0.7       0.77      0.534\n"
     ]
    },
    {
     "name": "stderr",
     "output_type": "stream",
     "text": [
      "\n"
     ]
    },
    {
     "name": "stdout",
     "output_type": "stream",
     "text": [
      "\n",
      "      Epoch    GPU_mem   box_loss   cls_loss   dfl_loss  Instances       Size\n"
     ]
    },
    {
     "name": "stderr",
     "output_type": "stream",
     "text": [
      "     35/100         0G      0.898       2.18      1.312         32        640: 100%|██████████| 1/1 [00:01<00:00,  1.18s/it]\n",
      "                 Class     Images  Instances      Box(P          R      mAP50  mAP50-95): 100%|██████████| 1/1 [00:00<00:00,  2.48it/s]"
     ]
    },
    {
     "name": "stdout",
     "output_type": "stream",
     "text": [
      "                   all          4         17       0.66        0.7       0.77      0.519\n"
     ]
    },
    {
     "name": "stderr",
     "output_type": "stream",
     "text": [
      "\n"
     ]
    },
    {
     "name": "stdout",
     "output_type": "stream",
     "text": [
      "\n",
      "      Epoch    GPU_mem   box_loss   cls_loss   dfl_loss  Instances       Size\n"
     ]
    },
    {
     "name": "stderr",
     "output_type": "stream",
     "text": [
      "     36/100         0G     0.9034      1.548      1.177         29        640: 100%|██████████| 1/1 [00:01<00:00,  1.27s/it]\n",
      "                 Class     Images  Instances      Box(P          R      mAP50  mAP50-95): 100%|██████████| 1/1 [00:00<00:00,  2.34it/s]"
     ]
    },
    {
     "name": "stdout",
     "output_type": "stream",
     "text": [
      "                   all          4         17       0.66        0.7       0.77      0.519\n"
     ]
    },
    {
     "name": "stderr",
     "output_type": "stream",
     "text": [
      "\n"
     ]
    },
    {
     "name": "stdout",
     "output_type": "stream",
     "text": [
      "\n",
      "      Epoch    GPU_mem   box_loss   cls_loss   dfl_loss  Instances       Size\n"
     ]
    },
    {
     "name": "stderr",
     "output_type": "stream",
     "text": [
      "     37/100         0G     0.7662      1.056      1.154         24        640: 100%|██████████| 1/1 [00:01<00:00,  1.19s/it]\n",
      "                 Class     Images  Instances      Box(P          R      mAP50  mAP50-95): 100%|██████████| 1/1 [00:00<00:00,  2.39it/s]"
     ]
    },
    {
     "name": "stdout",
     "output_type": "stream",
     "text": [
      "                   all          4         17      0.666        0.7       0.77       0.51\n"
     ]
    },
    {
     "name": "stderr",
     "output_type": "stream",
     "text": [
      "\n"
     ]
    },
    {
     "name": "stdout",
     "output_type": "stream",
     "text": [
      "\n",
      "      Epoch    GPU_mem   box_loss   cls_loss   dfl_loss  Instances       Size\n"
     ]
    },
    {
     "name": "stderr",
     "output_type": "stream",
     "text": [
      "     38/100         0G     0.4819     0.7263     0.9806         16        640: 100%|██████████| 1/1 [00:01<00:00,  1.22s/it]\n",
      "                 Class     Images  Instances      Box(P          R      mAP50  mAP50-95): 100%|██████████| 1/1 [00:00<00:00,  2.52it/s]"
     ]
    },
    {
     "name": "stdout",
     "output_type": "stream",
     "text": [
      "                   all          4         17      0.666        0.7       0.77       0.51\n"
     ]
    },
    {
     "name": "stderr",
     "output_type": "stream",
     "text": [
      "\n"
     ]
    },
    {
     "name": "stdout",
     "output_type": "stream",
     "text": [
      "\n",
      "      Epoch    GPU_mem   box_loss   cls_loss   dfl_loss  Instances       Size\n"
     ]
    },
    {
     "name": "stderr",
     "output_type": "stream",
     "text": [
      "     39/100         0G      0.623     0.9062      1.006         18        640: 100%|██████████| 1/1 [00:01<00:00,  1.37s/it]\n",
      "                 Class     Images  Instances      Box(P          R      mAP50  mAP50-95): 100%|██████████| 1/1 [00:00<00:00,  2.10it/s]"
     ]
    },
    {
     "name": "stdout",
     "output_type": "stream",
     "text": [
      "                   all          4         17      0.673      0.695      0.769      0.504\n"
     ]
    },
    {
     "name": "stderr",
     "output_type": "stream",
     "text": [
      "\n"
     ]
    },
    {
     "name": "stdout",
     "output_type": "stream",
     "text": [
      "\n",
      "      Epoch    GPU_mem   box_loss   cls_loss   dfl_loss  Instances       Size\n"
     ]
    },
    {
     "name": "stderr",
     "output_type": "stream",
     "text": [
      "     40/100         0G     0.8008     0.8249      1.165         26        640: 100%|██████████| 1/1 [00:01<00:00,  1.23s/it]\n",
      "                 Class     Images  Instances      Box(P          R      mAP50  mAP50-95): 100%|██████████| 1/1 [00:00<00:00,  2.32it/s]"
     ]
    },
    {
     "name": "stdout",
     "output_type": "stream",
     "text": [
      "                   all          4         17      0.673      0.695      0.769      0.504\n"
     ]
    },
    {
     "name": "stderr",
     "output_type": "stream",
     "text": [
      "\n"
     ]
    },
    {
     "name": "stdout",
     "output_type": "stream",
     "text": [
      "\n",
      "      Epoch    GPU_mem   box_loss   cls_loss   dfl_loss  Instances       Size\n"
     ]
    },
    {
     "name": "stderr",
     "output_type": "stream",
     "text": [
      "     41/100         0G     0.7287     0.8995      1.048         23        640: 100%|██████████| 1/1 [00:01<00:00,  1.24s/it]\n",
      "                 Class     Images  Instances      Box(P          R      mAP50  mAP50-95): 100%|██████████| 1/1 [00:00<00:00,  2.30it/s]"
     ]
    },
    {
     "name": "stdout",
     "output_type": "stream",
     "text": [
      "                   all          4         17      0.672      0.662      0.742      0.479\n"
     ]
    },
    {
     "name": "stderr",
     "output_type": "stream",
     "text": [
      "\n"
     ]
    },
    {
     "name": "stdout",
     "output_type": "stream",
     "text": [
      "\n",
      "      Epoch    GPU_mem   box_loss   cls_loss   dfl_loss  Instances       Size\n"
     ]
    },
    {
     "name": "stderr",
     "output_type": "stream",
     "text": [
      "     42/100         0G     0.8913      1.924      1.271         13        640: 100%|██████████| 1/1 [00:01<00:00,  1.20s/it]\n",
      "                 Class     Images  Instances      Box(P          R      mAP50  mAP50-95): 100%|██████████| 1/1 [00:00<00:00,  2.44it/s]"
     ]
    },
    {
     "name": "stdout",
     "output_type": "stream",
     "text": [
      "                   all          4         17      0.672      0.662      0.742      0.479\n"
     ]
    },
    {
     "name": "stderr",
     "output_type": "stream",
     "text": [
      "\n"
     ]
    },
    {
     "name": "stdout",
     "output_type": "stream",
     "text": [
      "\n",
      "      Epoch    GPU_mem   box_loss   cls_loss   dfl_loss  Instances       Size\n"
     ]
    },
    {
     "name": "stderr",
     "output_type": "stream",
     "text": [
      "     43/100         0G     0.8392       1.25      1.229         31        640: 100%|██████████| 1/1 [00:01<00:00,  1.21s/it]\n",
      "                 Class     Images  Instances      Box(P          R      mAP50  mAP50-95): 100%|██████████| 1/1 [00:00<00:00,  2.08it/s]"
     ]
    },
    {
     "name": "stdout",
     "output_type": "stream",
     "text": [
      "                   all          4         17      0.671       0.65      0.725      0.451\n"
     ]
    },
    {
     "name": "stderr",
     "output_type": "stream",
     "text": [
      "\n"
     ]
    },
    {
     "name": "stdout",
     "output_type": "stream",
     "text": [
      "\n",
      "      Epoch    GPU_mem   box_loss   cls_loss   dfl_loss  Instances       Size\n"
     ]
    },
    {
     "name": "stderr",
     "output_type": "stream",
     "text": [
      "     44/100         0G      1.053     0.9755      1.436         23        640: 100%|██████████| 1/1 [00:01<00:00,  1.25s/it]\n",
      "                 Class     Images  Instances      Box(P          R      mAP50  mAP50-95): 100%|██████████| 1/1 [00:00<00:00,  2.39it/s]"
     ]
    },
    {
     "name": "stdout",
     "output_type": "stream",
     "text": [
      "                   all          4         17      0.671       0.65      0.725      0.451\n"
     ]
    },
    {
     "name": "stderr",
     "output_type": "stream",
     "text": [
      "\n"
     ]
    },
    {
     "name": "stdout",
     "output_type": "stream",
     "text": [
      "\n",
      "      Epoch    GPU_mem   box_loss   cls_loss   dfl_loss  Instances       Size\n"
     ]
    },
    {
     "name": "stderr",
     "output_type": "stream",
     "text": [
      "     45/100         0G     0.6323     0.9233     0.9994         31        640: 100%|██████████| 1/1 [00:01<00:00,  1.25s/it]\n",
      "                 Class     Images  Instances      Box(P          R      mAP50  mAP50-95): 100%|██████████| 1/1 [00:00<00:00,  2.26it/s]"
     ]
    },
    {
     "name": "stdout",
     "output_type": "stream",
     "text": [
      "                   all          4         17      0.687       0.65      0.712      0.441\n"
     ]
    },
    {
     "name": "stderr",
     "output_type": "stream",
     "text": [
      "\n"
     ]
    },
    {
     "name": "stdout",
     "output_type": "stream",
     "text": [
      "\n",
      "      Epoch    GPU_mem   box_loss   cls_loss   dfl_loss  Instances       Size\n"
     ]
    },
    {
     "name": "stderr",
     "output_type": "stream",
     "text": [
      "     46/100         0G     0.7943      1.002      1.213         32        640: 100%|██████████| 1/1 [00:01<00:00,  1.09s/it]\n",
      "                 Class     Images  Instances      Box(P          R      mAP50  mAP50-95): 100%|██████████| 1/1 [00:00<00:00,  2.44it/s]"
     ]
    },
    {
     "name": "stdout",
     "output_type": "stream",
     "text": [
      "                   all          4         17      0.687       0.65      0.712      0.441\n"
     ]
    },
    {
     "name": "stderr",
     "output_type": "stream",
     "text": [
      "\n"
     ]
    },
    {
     "name": "stdout",
     "output_type": "stream",
     "text": [
      "\n",
      "      Epoch    GPU_mem   box_loss   cls_loss   dfl_loss  Instances       Size\n"
     ]
    },
    {
     "name": "stderr",
     "output_type": "stream",
     "text": [
      "     47/100         0G     0.8268      1.439       1.32         23        640: 100%|██████████| 1/1 [00:01<00:00,  1.35s/it]\n",
      "                 Class     Images  Instances      Box(P          R      mAP50  mAP50-95): 100%|██████████| 1/1 [00:00<00:00,  2.43it/s]"
     ]
    },
    {
     "name": "stdout",
     "output_type": "stream",
     "text": [
      "                   all          4         17      0.713       0.65      0.699      0.432\n"
     ]
    },
    {
     "name": "stderr",
     "output_type": "stream",
     "text": [
      "\n"
     ]
    },
    {
     "name": "stdout",
     "output_type": "stream",
     "text": [
      "\n",
      "      Epoch    GPU_mem   box_loss   cls_loss   dfl_loss  Instances       Size\n"
     ]
    },
    {
     "name": "stderr",
     "output_type": "stream",
     "text": [
      "     48/100         0G     0.8508      1.608      1.201         36        640: 100%|██████████| 1/1 [00:01<00:00,  1.16s/it]\n",
      "                 Class     Images  Instances      Box(P          R      mAP50  mAP50-95): 100%|██████████| 1/1 [00:00<00:00,  2.56it/s]"
     ]
    },
    {
     "name": "stdout",
     "output_type": "stream",
     "text": [
      "                   all          4         17      0.713       0.65      0.699      0.432\n"
     ]
    },
    {
     "name": "stderr",
     "output_type": "stream",
     "text": [
      "\n"
     ]
    },
    {
     "name": "stdout",
     "output_type": "stream",
     "text": [
      "\n",
      "      Epoch    GPU_mem   box_loss   cls_loss   dfl_loss  Instances       Size\n"
     ]
    },
    {
     "name": "stderr",
     "output_type": "stream",
     "text": [
      "     49/100         0G     0.6638     0.6965       1.25         15        640: 100%|██████████| 1/1 [00:01<00:00,  1.19s/it]\n",
      "                 Class     Images  Instances      Box(P          R      mAP50  mAP50-95): 100%|██████████| 1/1 [00:00<00:00,  2.27it/s]"
     ]
    },
    {
     "name": "stdout",
     "output_type": "stream",
     "text": [
      "                   all          4         17      0.754       0.65      0.699      0.432\n"
     ]
    },
    {
     "name": "stderr",
     "output_type": "stream",
     "text": [
      "\n"
     ]
    },
    {
     "name": "stdout",
     "output_type": "stream",
     "text": [
      "\n",
      "      Epoch    GPU_mem   box_loss   cls_loss   dfl_loss  Instances       Size\n"
     ]
    },
    {
     "name": "stderr",
     "output_type": "stream",
     "text": [
      "     50/100         0G     0.7975     0.7877      1.304         24        640: 100%|██████████| 1/1 [00:01<00:00,  1.20s/it]\n",
      "                 Class     Images  Instances      Box(P          R      mAP50  mAP50-95): 100%|██████████| 1/1 [00:00<00:00,  2.54it/s]"
     ]
    },
    {
     "name": "stdout",
     "output_type": "stream",
     "text": [
      "                   all          4         17      0.754       0.65      0.699      0.432\n"
     ]
    },
    {
     "name": "stderr",
     "output_type": "stream",
     "text": [
      "\n"
     ]
    },
    {
     "name": "stdout",
     "output_type": "stream",
     "text": [
      "\n",
      "      Epoch    GPU_mem   box_loss   cls_loss   dfl_loss  Instances       Size\n"
     ]
    },
    {
     "name": "stderr",
     "output_type": "stream",
     "text": [
      "     51/100         0G     0.8279     0.8714      1.126         32        640: 100%|██████████| 1/1 [00:01<00:00,  1.19s/it]\n",
      "                 Class     Images  Instances      Box(P          R      mAP50  mAP50-95): 100%|██████████| 1/1 [00:00<00:00,  2.33it/s]"
     ]
    },
    {
     "name": "stdout",
     "output_type": "stream",
     "text": [
      "                   all          4         17      0.751       0.65      0.694      0.427\n"
     ]
    },
    {
     "name": "stderr",
     "output_type": "stream",
     "text": [
      "\n"
     ]
    },
    {
     "name": "stdout",
     "output_type": "stream",
     "text": [
      "\n",
      "      Epoch    GPU_mem   box_loss   cls_loss   dfl_loss  Instances       Size\n"
     ]
    },
    {
     "name": "stderr",
     "output_type": "stream",
     "text": [
      "     52/100         0G     0.9407     0.9672      1.316         16        640: 100%|██████████| 1/1 [00:01<00:00,  1.26s/it]\n",
      "                 Class     Images  Instances      Box(P          R      mAP50  mAP50-95): 100%|██████████| 1/1 [00:00<00:00,  2.38it/s]"
     ]
    },
    {
     "name": "stdout",
     "output_type": "stream",
     "text": [
      "                   all          4         17      0.751       0.65      0.694      0.427\n"
     ]
    },
    {
     "name": "stderr",
     "output_type": "stream",
     "text": [
      "\n"
     ]
    },
    {
     "name": "stdout",
     "output_type": "stream",
     "text": [
      "\n",
      "      Epoch    GPU_mem   box_loss   cls_loss   dfl_loss  Instances       Size\n"
     ]
    },
    {
     "name": "stderr",
     "output_type": "stream",
     "text": [
      "     53/100         0G     0.6505     0.7087      1.182         20        640: 100%|██████████| 1/1 [00:01<00:00,  1.25s/it]\n",
      "                 Class     Images  Instances      Box(P          R      mAP50  mAP50-95): 100%|██████████| 1/1 [00:00<00:00,  2.43it/s]"
     ]
    },
    {
     "name": "stdout",
     "output_type": "stream",
     "text": [
      "                   all          4         17      0.751       0.65      0.694      0.427\n"
     ]
    },
    {
     "name": "stderr",
     "output_type": "stream",
     "text": [
      "\n"
     ]
    },
    {
     "name": "stdout",
     "output_type": "stream",
     "text": [
      "\n",
      "      Epoch    GPU_mem   box_loss   cls_loss   dfl_loss  Instances       Size\n"
     ]
    },
    {
     "name": "stderr",
     "output_type": "stream",
     "text": [
      "     54/100         0G       0.83     0.9566      1.268         32        640: 100%|██████████| 1/1 [00:01<00:00,  1.42s/it]\n",
      "                 Class     Images  Instances      Box(P          R      mAP50  mAP50-95): 100%|██████████| 1/1 [00:00<00:00,  2.30it/s]"
     ]
    },
    {
     "name": "stdout",
     "output_type": "stream",
     "text": [
      "                   all          4         17      0.687      0.667      0.692      0.409\n"
     ]
    },
    {
     "name": "stderr",
     "output_type": "stream",
     "text": [
      "\n"
     ]
    },
    {
     "name": "stdout",
     "output_type": "stream",
     "text": [
      "\n",
      "      Epoch    GPU_mem   box_loss   cls_loss   dfl_loss  Instances       Size\n"
     ]
    },
    {
     "name": "stderr",
     "output_type": "stream",
     "text": [
      "     55/100         0G     0.7742     0.9121      1.112         26        640: 100%|██████████| 1/1 [00:01<00:00,  1.32s/it]\n",
      "                 Class     Images  Instances      Box(P          R      mAP50  mAP50-95): 100%|██████████| 1/1 [00:00<00:00,  2.46it/s]"
     ]
    },
    {
     "name": "stdout",
     "output_type": "stream",
     "text": [
      "                   all          4         17      0.687      0.667      0.692      0.409\n"
     ]
    },
    {
     "name": "stderr",
     "output_type": "stream",
     "text": [
      "\n"
     ]
    },
    {
     "name": "stdout",
     "output_type": "stream",
     "text": [
      "\n",
      "      Epoch    GPU_mem   box_loss   cls_loss   dfl_loss  Instances       Size\n"
     ]
    },
    {
     "name": "stderr",
     "output_type": "stream",
     "text": [
      "     56/100         0G      1.162      1.444       1.63         13        640: 100%|██████████| 1/1 [00:01<00:00,  1.10s/it]\n",
      "                 Class     Images  Instances      Box(P          R      mAP50  mAP50-95): 100%|██████████| 1/1 [00:00<00:00,  2.49it/s]"
     ]
    },
    {
     "name": "stdout",
     "output_type": "stream",
     "text": [
      "                   all          4         17      0.687      0.667      0.692      0.409\n"
     ]
    },
    {
     "name": "stderr",
     "output_type": "stream",
     "text": [
      "\n"
     ]
    },
    {
     "name": "stdout",
     "output_type": "stream",
     "text": [
      "\n",
      "      Epoch    GPU_mem   box_loss   cls_loss   dfl_loss  Instances       Size\n"
     ]
    },
    {
     "name": "stderr",
     "output_type": "stream",
     "text": [
      "     57/100         0G     0.9363      1.514      1.374         23        640: 100%|██████████| 1/1 [00:01<00:00,  1.10s/it]\n",
      "                 Class     Images  Instances      Box(P          R      mAP50  mAP50-95): 100%|██████████| 1/1 [00:00<00:00,  2.29it/s]"
     ]
    },
    {
     "name": "stdout",
     "output_type": "stream",
     "text": [
      "                   all          4         17       0.72      0.683      0.694      0.392\n"
     ]
    },
    {
     "name": "stderr",
     "output_type": "stream",
     "text": [
      "\n"
     ]
    },
    {
     "name": "stdout",
     "output_type": "stream",
     "text": [
      "\n",
      "      Epoch    GPU_mem   box_loss   cls_loss   dfl_loss  Instances       Size\n"
     ]
    },
    {
     "name": "stderr",
     "output_type": "stream",
     "text": [
      "     58/100         0G     0.8591      1.506      1.277         46        640: 100%|██████████| 1/1 [00:01<00:00,  1.25s/it]\n",
      "                 Class     Images  Instances      Box(P          R      mAP50  mAP50-95): 100%|██████████| 1/1 [00:00<00:00,  2.41it/s]"
     ]
    },
    {
     "name": "stdout",
     "output_type": "stream",
     "text": [
      "                   all          4         17       0.72      0.683      0.694      0.392\n"
     ]
    },
    {
     "name": "stderr",
     "output_type": "stream",
     "text": [
      "\n"
     ]
    },
    {
     "name": "stdout",
     "output_type": "stream",
     "text": [
      "\n",
      "      Epoch    GPU_mem   box_loss   cls_loss   dfl_loss  Instances       Size\n"
     ]
    },
    {
     "name": "stderr",
     "output_type": "stream",
     "text": [
      "     59/100         0G     0.7847     0.8194      1.156         32        640: 100%|██████████| 1/1 [00:01<00:00,  1.20s/it]\n",
      "                 Class     Images  Instances      Box(P          R      mAP50  mAP50-95): 100%|██████████| 1/1 [00:00<00:00,  2.42it/s]"
     ]
    },
    {
     "name": "stdout",
     "output_type": "stream",
     "text": [
      "                   all          4         17       0.72      0.683      0.694      0.392\n"
     ]
    },
    {
     "name": "stderr",
     "output_type": "stream",
     "text": [
      "\n"
     ]
    },
    {
     "name": "stdout",
     "output_type": "stream",
     "text": [
      "\n",
      "      Epoch    GPU_mem   box_loss   cls_loss   dfl_loss  Instances       Size\n"
     ]
    },
    {
     "name": "stderr",
     "output_type": "stream",
     "text": [
      "     60/100         0G     0.9678     0.8521      1.543         14        640: 100%|██████████| 1/1 [00:01<00:00,  1.20s/it]\n",
      "                 Class     Images  Instances      Box(P          R      mAP50  mAP50-95): 100%|██████████| 1/1 [00:00<00:00,  2.32it/s]"
     ]
    },
    {
     "name": "stdout",
     "output_type": "stream",
     "text": [
      "                   all          4         17      0.741      0.517      0.684      0.382\n"
     ]
    },
    {
     "name": "stderr",
     "output_type": "stream",
     "text": [
      "\n"
     ]
    },
    {
     "name": "stdout",
     "output_type": "stream",
     "text": [
      "\n",
      "      Epoch    GPU_mem   box_loss   cls_loss   dfl_loss  Instances       Size\n"
     ]
    },
    {
     "name": "stderr",
     "output_type": "stream",
     "text": [
      "     61/100         0G     0.6443     0.6803      1.063         34        640: 100%|██████████| 1/1 [00:01<00:00,  1.10s/it]\n",
      "                 Class     Images  Instances      Box(P          R      mAP50  mAP50-95): 100%|██████████| 1/1 [00:00<00:00,  2.48it/s]"
     ]
    },
    {
     "name": "stdout",
     "output_type": "stream",
     "text": [
      "                   all          4         17      0.741      0.517      0.684      0.382\n"
     ]
    },
    {
     "name": "stderr",
     "output_type": "stream",
     "text": [
      "\n"
     ]
    },
    {
     "name": "stdout",
     "output_type": "stream",
     "text": [
      "\n",
      "      Epoch    GPU_mem   box_loss   cls_loss   dfl_loss  Instances       Size\n"
     ]
    },
    {
     "name": "stderr",
     "output_type": "stream",
     "text": [
      "     62/100         0G     0.7157     0.9052      1.054         49        640: 100%|██████████| 1/1 [00:01<00:00,  1.13s/it]\n",
      "                 Class     Images  Instances      Box(P          R      mAP50  mAP50-95): 100%|██████████| 1/1 [00:00<00:00,  2.46it/s]"
     ]
    },
    {
     "name": "stdout",
     "output_type": "stream",
     "text": [
      "                   all          4         17      0.741      0.517      0.684      0.382\n"
     ]
    },
    {
     "name": "stderr",
     "output_type": "stream",
     "text": [
      "\n"
     ]
    },
    {
     "name": "stdout",
     "output_type": "stream",
     "text": [
      "\n",
      "      Epoch    GPU_mem   box_loss   cls_loss   dfl_loss  Instances       Size\n"
     ]
    },
    {
     "name": "stderr",
     "output_type": "stream",
     "text": [
      "     63/100         0G     0.7884     0.8592      1.164         28        640: 100%|██████████| 1/1 [00:01<00:00,  1.23s/it]\n",
      "                 Class     Images  Instances      Box(P          R      mAP50  mAP50-95): 100%|██████████| 1/1 [00:00<00:00,  2.36it/s]"
     ]
    },
    {
     "name": "stdout",
     "output_type": "stream",
     "text": [
      "                   all          4         17      0.818      0.484      0.683      0.382\n"
     ]
    },
    {
     "name": "stderr",
     "output_type": "stream",
     "text": [
      "\n"
     ]
    },
    {
     "name": "stdout",
     "output_type": "stream",
     "text": [
      "\n",
      "      Epoch    GPU_mem   box_loss   cls_loss   dfl_loss  Instances       Size\n"
     ]
    },
    {
     "name": "stderr",
     "output_type": "stream",
     "text": [
      "     64/100         0G     0.6232     0.6399      1.066         30        640: 100%|██████████| 1/1 [00:01<00:00,  1.21s/it]\n",
      "                 Class     Images  Instances      Box(P          R      mAP50  mAP50-95): 100%|██████████| 1/1 [00:00<00:00,  2.43it/s]"
     ]
    },
    {
     "name": "stdout",
     "output_type": "stream",
     "text": [
      "                   all          4         17      0.818      0.484      0.683      0.382\n"
     ]
    },
    {
     "name": "stderr",
     "output_type": "stream",
     "text": [
      "\n"
     ]
    },
    {
     "name": "stdout",
     "output_type": "stream",
     "text": [
      "\n",
      "      Epoch    GPU_mem   box_loss   cls_loss   dfl_loss  Instances       Size\n"
     ]
    },
    {
     "name": "stderr",
     "output_type": "stream",
     "text": [
      "     65/100         0G     0.6931     0.6949      1.237         19        640: 100%|██████████| 1/1 [00:01<00:00,  1.22s/it]\n",
      "                 Class     Images  Instances      Box(P          R      mAP50  mAP50-95): 100%|██████████| 1/1 [00:00<00:00,  2.14it/s]"
     ]
    },
    {
     "name": "stdout",
     "output_type": "stream",
     "text": [
      "                   all          4         17      0.818      0.484      0.683      0.382\n"
     ]
    },
    {
     "name": "stderr",
     "output_type": "stream",
     "text": [
      "\n"
     ]
    },
    {
     "name": "stdout",
     "output_type": "stream",
     "text": [
      "\n",
      "      Epoch    GPU_mem   box_loss   cls_loss   dfl_loss  Instances       Size\n"
     ]
    },
    {
     "name": "stderr",
     "output_type": "stream",
     "text": [
      "     66/100         0G     0.6916     0.9649      1.085         18        640: 100%|██████████| 1/1 [00:01<00:00,  1.15s/it]\n",
      "                 Class     Images  Instances      Box(P          R      mAP50  mAP50-95): 100%|██████████| 1/1 [00:00<00:00,  2.29it/s]"
     ]
    },
    {
     "name": "stdout",
     "output_type": "stream",
     "text": [
      "                   all          4         17      0.819      0.484        0.6      0.324\n"
     ]
    },
    {
     "name": "stderr",
     "output_type": "stream",
     "text": [
      "\n"
     ]
    },
    {
     "name": "stdout",
     "output_type": "stream",
     "text": [
      "\n",
      "      Epoch    GPU_mem   box_loss   cls_loss   dfl_loss  Instances       Size\n"
     ]
    },
    {
     "name": "stderr",
     "output_type": "stream",
     "text": [
      "     67/100         0G     0.7375      1.139      1.106         60        640: 100%|██████████| 1/1 [00:01<00:00,  1.20s/it]\n",
      "                 Class     Images  Instances      Box(P          R      mAP50  mAP50-95): 100%|██████████| 1/1 [00:00<00:00,  2.60it/s]"
     ]
    },
    {
     "name": "stdout",
     "output_type": "stream",
     "text": [
      "                   all          4         17      0.819      0.484        0.6      0.324\n"
     ]
    },
    {
     "name": "stderr",
     "output_type": "stream",
     "text": [
      "\n"
     ]
    },
    {
     "name": "stdout",
     "output_type": "stream",
     "text": [
      "\n",
      "      Epoch    GPU_mem   box_loss   cls_loss   dfl_loss  Instances       Size\n"
     ]
    },
    {
     "name": "stderr",
     "output_type": "stream",
     "text": [
      "     68/100         0G       1.04      1.753      1.396         31        640: 100%|██████████| 1/1 [00:01<00:00,  1.15s/it]\n",
      "                 Class     Images  Instances      Box(P          R      mAP50  mAP50-95): 100%|██████████| 1/1 [00:00<00:00,  2.50it/s]"
     ]
    },
    {
     "name": "stdout",
     "output_type": "stream",
     "text": [
      "                   all          4         17      0.819      0.484        0.6      0.324\n"
     ]
    },
    {
     "name": "stderr",
     "output_type": "stream",
     "text": [
      "\n"
     ]
    },
    {
     "name": "stdout",
     "output_type": "stream",
     "text": [
      "\n",
      "      Epoch    GPU_mem   box_loss   cls_loss   dfl_loss  Instances       Size\n"
     ]
    },
    {
     "name": "stderr",
     "output_type": "stream",
     "text": [
      "     69/100         0G     0.6106      1.101      1.102         32        640: 100%|██████████| 1/1 [00:01<00:00,  1.21s/it]\n",
      "                 Class     Images  Instances      Box(P          R      mAP50  mAP50-95): 100%|██████████| 1/1 [00:00<00:00,  2.14it/s]"
     ]
    },
    {
     "name": "stdout",
     "output_type": "stream",
     "text": [
      "                   all          4         17      0.831       0.47      0.557      0.283\n"
     ]
    },
    {
     "name": "stderr",
     "output_type": "stream",
     "text": [
      "\n"
     ]
    },
    {
     "name": "stdout",
     "output_type": "stream",
     "text": [
      "\n",
      "      Epoch    GPU_mem   box_loss   cls_loss   dfl_loss  Instances       Size\n"
     ]
    },
    {
     "name": "stderr",
     "output_type": "stream",
     "text": [
      "     70/100         0G      1.048     0.8911      1.484         22        640: 100%|██████████| 1/1 [00:01<00:00,  1.77s/it]\n",
      "                 Class     Images  Instances      Box(P          R      mAP50  mAP50-95): 100%|██████████| 1/1 [00:00<00:00,  2.10it/s]"
     ]
    },
    {
     "name": "stdout",
     "output_type": "stream",
     "text": [
      "                   all          4         17      0.831       0.47      0.557      0.283\n"
     ]
    },
    {
     "name": "stderr",
     "output_type": "stream",
     "text": [
      "\n"
     ]
    },
    {
     "name": "stdout",
     "output_type": "stream",
     "text": [
      "\n",
      "      Epoch    GPU_mem   box_loss   cls_loss   dfl_loss  Instances       Size\n"
     ]
    },
    {
     "name": "stderr",
     "output_type": "stream",
     "text": [
      "     71/100         0G      0.952      1.263      1.329         33        640: 100%|██████████| 1/1 [00:01<00:00,  1.39s/it]\n",
      "                 Class     Images  Instances      Box(P          R      mAP50  mAP50-95): 100%|██████████| 1/1 [00:00<00:00,  2.30it/s]"
     ]
    },
    {
     "name": "stdout",
     "output_type": "stream",
     "text": [
      "                   all          4         17      0.831       0.47      0.557      0.283\n"
     ]
    },
    {
     "name": "stderr",
     "output_type": "stream",
     "text": [
      "\n"
     ]
    },
    {
     "name": "stdout",
     "output_type": "stream",
     "text": [
      "\n",
      "      Epoch    GPU_mem   box_loss   cls_loss   dfl_loss  Instances       Size\n"
     ]
    },
    {
     "name": "stderr",
     "output_type": "stream",
     "text": [
      "     72/100         0G     0.5961     0.6505      1.088         32        640: 100%|██████████| 1/1 [00:01<00:00,  1.32s/it]\n",
      "                 Class     Images  Instances      Box(P          R      mAP50  mAP50-95): 100%|██████████| 1/1 [00:00<00:00,  2.09it/s]"
     ]
    },
    {
     "name": "stdout",
     "output_type": "stream",
     "text": [
      "                   all          4         17      0.831      0.467      0.558      0.264\n"
     ]
    },
    {
     "name": "stderr",
     "output_type": "stream",
     "text": [
      "\n"
     ]
    },
    {
     "name": "stdout",
     "output_type": "stream",
     "text": [
      "\n",
      "      Epoch    GPU_mem   box_loss   cls_loss   dfl_loss  Instances       Size\n"
     ]
    },
    {
     "name": "stderr",
     "output_type": "stream",
     "text": [
      "     73/100         0G     0.6933     0.9374      1.051         38        640: 100%|██████████| 1/1 [00:01<00:00,  1.29s/it]\n",
      "                 Class     Images  Instances      Box(P          R      mAP50  mAP50-95): 100%|██████████| 1/1 [00:00<00:00,  2.39it/s]"
     ]
    },
    {
     "name": "stdout",
     "output_type": "stream",
     "text": [
      "                   all          4         17      0.831      0.467      0.558      0.264\n"
     ]
    },
    {
     "name": "stderr",
     "output_type": "stream",
     "text": [
      "\n"
     ]
    },
    {
     "name": "stdout",
     "output_type": "stream",
     "text": [
      "\n",
      "      Epoch    GPU_mem   box_loss   cls_loss   dfl_loss  Instances       Size\n"
     ]
    },
    {
     "name": "stderr",
     "output_type": "stream",
     "text": [
      "     74/100         0G     0.7937     0.6292      1.244         13        640: 100%|██████████| 1/1 [00:01<00:00,  1.40s/it]\n",
      "                 Class     Images  Instances      Box(P          R      mAP50  mAP50-95): 100%|██████████| 1/1 [00:00<00:00,  2.36it/s]"
     ]
    },
    {
     "name": "stdout",
     "output_type": "stream",
     "text": [
      "                   all          4         17      0.831      0.467      0.558      0.264\n"
     ]
    },
    {
     "name": "stderr",
     "output_type": "stream",
     "text": [
      "\n"
     ]
    },
    {
     "name": "stdout",
     "output_type": "stream",
     "text": [
      "\n",
      "      Epoch    GPU_mem   box_loss   cls_loss   dfl_loss  Instances       Size\n"
     ]
    },
    {
     "name": "stderr",
     "output_type": "stream",
     "text": [
      "     75/100         0G     0.7166     0.5621      1.134         25        640: 100%|██████████| 1/1 [00:01<00:00,  1.35s/it]\n",
      "                 Class     Images  Instances      Box(P          R      mAP50  mAP50-95): 100%|██████████| 1/1 [00:00<00:00,  2.18it/s]"
     ]
    },
    {
     "name": "stdout",
     "output_type": "stream",
     "text": [
      "                   all          4         17      0.836      0.467      0.572      0.291\n"
     ]
    },
    {
     "name": "stderr",
     "output_type": "stream",
     "text": [
      "\n"
     ]
    },
    {
     "name": "stdout",
     "output_type": "stream",
     "text": [
      "\n",
      "      Epoch    GPU_mem   box_loss   cls_loss   dfl_loss  Instances       Size\n"
     ]
    },
    {
     "name": "stderr",
     "output_type": "stream",
     "text": [
      "     76/100         0G     0.6426      0.737      1.134         27        640: 100%|██████████| 1/1 [00:01<00:00,  1.46s/it]\n",
      "                 Class     Images  Instances      Box(P          R      mAP50  mAP50-95): 100%|██████████| 1/1 [00:00<00:00,  2.28it/s]"
     ]
    },
    {
     "name": "stdout",
     "output_type": "stream",
     "text": [
      "                   all          4         17      0.836      0.467      0.572      0.291\n"
     ]
    },
    {
     "name": "stderr",
     "output_type": "stream",
     "text": [
      "\n"
     ]
    },
    {
     "name": "stdout",
     "output_type": "stream",
     "text": [
      "\n",
      "      Epoch    GPU_mem   box_loss   cls_loss   dfl_loss  Instances       Size\n"
     ]
    },
    {
     "name": "stderr",
     "output_type": "stream",
     "text": [
      "     77/100         0G     0.6976     0.6586      1.126         32        640: 100%|██████████| 1/1 [00:01<00:00,  1.45s/it]\n",
      "                 Class     Images  Instances      Box(P          R      mAP50  mAP50-95): 100%|██████████| 1/1 [00:00<00:00,  2.36it/s]"
     ]
    },
    {
     "name": "stdout",
     "output_type": "stream",
     "text": [
      "                   all          4         17      0.836      0.467      0.572      0.291\n"
     ]
    },
    {
     "name": "stderr",
     "output_type": "stream",
     "text": [
      "\n"
     ]
    },
    {
     "name": "stdout",
     "output_type": "stream",
     "text": [
      "\n",
      "      Epoch    GPU_mem   box_loss   cls_loss   dfl_loss  Instances       Size\n"
     ]
    },
    {
     "name": "stderr",
     "output_type": "stream",
     "text": [
      "     78/100         0G     0.8745      1.018      1.204         44        640: 100%|██████████| 1/1 [00:01<00:00,  1.43s/it]\n",
      "                 Class     Images  Instances      Box(P          R      mAP50  mAP50-95): 100%|██████████| 1/1 [00:00<00:00,  2.34it/s]"
     ]
    },
    {
     "name": "stdout",
     "output_type": "stream",
     "text": [
      "                   all          4         17      0.858      0.467      0.598      0.283\n"
     ]
    },
    {
     "name": "stderr",
     "output_type": "stream",
     "text": [
      "\n"
     ]
    },
    {
     "name": "stdout",
     "output_type": "stream",
     "text": [
      "\n",
      "      Epoch    GPU_mem   box_loss   cls_loss   dfl_loss  Instances       Size\n"
     ]
    },
    {
     "name": "stderr",
     "output_type": "stream",
     "text": [
      "     79/100         0G     0.5956     0.7888      1.087         18        640: 100%|██████████| 1/1 [00:01<00:00,  1.32s/it]\n",
      "                 Class     Images  Instances      Box(P          R      mAP50  mAP50-95): 100%|██████████| 1/1 [00:00<00:00,  2.41it/s]"
     ]
    },
    {
     "name": "stdout",
     "output_type": "stream",
     "text": [
      "                   all          4         17      0.858      0.467      0.598      0.283\n"
     ]
    },
    {
     "name": "stderr",
     "output_type": "stream",
     "text": [
      "\n"
     ]
    },
    {
     "name": "stdout",
     "output_type": "stream",
     "text": [
      "\n",
      "      Epoch    GPU_mem   box_loss   cls_loss   dfl_loss  Instances       Size\n"
     ]
    },
    {
     "name": "stderr",
     "output_type": "stream",
     "text": [
      "     80/100         0G     0.7478     0.7306      1.208         22        640: 100%|██████████| 1/1 [00:01<00:00,  1.35s/it]\n",
      "                 Class     Images  Instances      Box(P          R      mAP50  mAP50-95): 100%|██████████| 1/1 [00:00<00:00,  2.29it/s]"
     ]
    },
    {
     "name": "stdout",
     "output_type": "stream",
     "text": [
      "                   all          4         17      0.858      0.467      0.598      0.283\n"
     ]
    },
    {
     "name": "stderr",
     "output_type": "stream",
     "text": [
      "\n"
     ]
    },
    {
     "name": "stdout",
     "output_type": "stream",
     "text": [
      "\n",
      "      Epoch    GPU_mem   box_loss   cls_loss   dfl_loss  Instances       Size\n"
     ]
    },
    {
     "name": "stderr",
     "output_type": "stream",
     "text": [
      "     81/100         0G     0.5274     0.5155      0.984         35        640: 100%|██████████| 1/1 [00:01<00:00,  1.34s/it]\n",
      "                 Class     Images  Instances      Box(P          R      mAP50  mAP50-95): 100%|██████████| 1/1 [00:00<00:00,  2.28it/s]"
     ]
    },
    {
     "name": "stdout",
     "output_type": "stream",
     "text": [
      "                   all          4         17       0.84      0.467      0.549      0.259\n"
     ]
    },
    {
     "name": "stderr",
     "output_type": "stream",
     "text": [
      "\n"
     ]
    },
    {
     "name": "stdout",
     "output_type": "stream",
     "text": [
      "\n",
      "      Epoch    GPU_mem   box_loss   cls_loss   dfl_loss  Instances       Size\n"
     ]
    },
    {
     "name": "stderr",
     "output_type": "stream",
     "text": [
      "     82/100         0G      0.796     0.6812      1.133         37        640: 100%|██████████| 1/1 [00:01<00:00,  1.26s/it]\n",
      "                 Class     Images  Instances      Box(P          R      mAP50  mAP50-95): 100%|██████████| 1/1 [00:00<00:00,  2.38it/s]"
     ]
    },
    {
     "name": "stdout",
     "output_type": "stream",
     "text": [
      "                   all          4         17       0.84      0.467      0.549      0.259\n"
     ]
    },
    {
     "name": "stderr",
     "output_type": "stream",
     "text": [
      "\n"
     ]
    },
    {
     "name": "stdout",
     "output_type": "stream",
     "text": [
      "\n",
      "      Epoch    GPU_mem   box_loss   cls_loss   dfl_loss  Instances       Size\n"
     ]
    },
    {
     "name": "stderr",
     "output_type": "stream",
     "text": [
      "     83/100         0G     0.8149     0.8781      1.227         45        640: 100%|██████████| 1/1 [00:01<00:00,  1.28s/it]\n",
      "                 Class     Images  Instances      Box(P          R      mAP50  mAP50-95): 100%|██████████| 1/1 [00:00<00:00,  1.85it/s]"
     ]
    },
    {
     "name": "stdout",
     "output_type": "stream",
     "text": [
      "                   all          4         17       0.84      0.467      0.549      0.259\n"
     ]
    },
    {
     "name": "stderr",
     "output_type": "stream",
     "text": [
      "\n"
     ]
    },
    {
     "name": "stdout",
     "output_type": "stream",
     "text": [
      "\n",
      "      Epoch    GPU_mem   box_loss   cls_loss   dfl_loss  Instances       Size\n"
     ]
    },
    {
     "name": "stderr",
     "output_type": "stream",
     "text": [
      "     84/100         0G     0.7857     0.5696      1.198         27        640: 100%|██████████| 1/1 [00:01<00:00,  1.43s/it]\n",
      "                 Class     Images  Instances      Box(P          R      mAP50  mAP50-95): 100%|██████████| 1/1 [00:00<00:00,  2.44it/s]"
     ]
    },
    {
     "name": "stdout",
     "output_type": "stream",
     "text": [
      "                   all          4         17      0.834      0.479      0.572      0.268\n"
     ]
    },
    {
     "name": "stderr",
     "output_type": "stream",
     "text": [
      "\n"
     ]
    },
    {
     "name": "stdout",
     "output_type": "stream",
     "text": [
      "\n",
      "      Epoch    GPU_mem   box_loss   cls_loss   dfl_loss  Instances       Size\n"
     ]
    },
    {
     "name": "stderr",
     "output_type": "stream",
     "text": [
      "     85/100         0G     0.5739     0.7482      1.114         20        640: 100%|██████████| 1/1 [00:01<00:00,  1.37s/it]\n",
      "                 Class     Images  Instances      Box(P          R      mAP50  mAP50-95): 100%|██████████| 1/1 [00:00<00:00,  2.26it/s]"
     ]
    },
    {
     "name": "stdout",
     "output_type": "stream",
     "text": [
      "                   all          4         17      0.834      0.479      0.572      0.268\n"
     ]
    },
    {
     "name": "stderr",
     "output_type": "stream",
     "text": [
      "\n"
     ]
    },
    {
     "name": "stdout",
     "output_type": "stream",
     "text": [
      "\n",
      "      Epoch    GPU_mem   box_loss   cls_loss   dfl_loss  Instances       Size\n"
     ]
    },
    {
     "name": "stderr",
     "output_type": "stream",
     "text": [
      "     86/100         0G     0.7681     0.6731      1.121         20        640: 100%|██████████| 1/1 [00:01<00:00,  1.16s/it]\n",
      "                 Class     Images  Instances      Box(P          R      mAP50  mAP50-95): 100%|██████████| 1/1 [00:00<00:00,  2.47it/s]"
     ]
    },
    {
     "name": "stdout",
     "output_type": "stream",
     "text": [
      "                   all          4         17      0.834      0.479      0.572      0.268\n"
     ]
    },
    {
     "name": "stderr",
     "output_type": "stream",
     "text": [
      "\n"
     ]
    },
    {
     "name": "stdout",
     "output_type": "stream",
     "text": [
      "\n",
      "      Epoch    GPU_mem   box_loss   cls_loss   dfl_loss  Instances       Size\n"
     ]
    },
    {
     "name": "stderr",
     "output_type": "stream",
     "text": [
      "     87/100         0G     0.7553     0.7966      1.057         22        640: 100%|██████████| 1/1 [00:01<00:00,  1.09s/it]\n",
      "                 Class     Images  Instances      Box(P          R      mAP50  mAP50-95): 100%|██████████| 1/1 [00:00<00:00,  2.52it/s]"
     ]
    },
    {
     "name": "stdout",
     "output_type": "stream",
     "text": [
      "                   all          4         17      0.834      0.479      0.572      0.268\n"
     ]
    },
    {
     "name": "stderr",
     "output_type": "stream",
     "text": [
      "\n"
     ]
    },
    {
     "name": "stdout",
     "output_type": "stream",
     "text": [
      "\n",
      "      Epoch    GPU_mem   box_loss   cls_loss   dfl_loss  Instances       Size\n"
     ]
    },
    {
     "name": "stderr",
     "output_type": "stream",
     "text": [
      "     88/100         0G     0.8429      0.876      1.422         23        640: 100%|██████████| 1/1 [00:01<00:00,  1.25s/it]\n",
      "                 Class     Images  Instances      Box(P          R      mAP50  mAP50-95): 100%|██████████| 1/1 [00:00<00:00,  2.34it/s]"
     ]
    },
    {
     "name": "stdout",
     "output_type": "stream",
     "text": [
      "                   all          4         17       0.84      0.475      0.558      0.286\n"
     ]
    },
    {
     "name": "stderr",
     "output_type": "stream",
     "text": [
      "\n"
     ]
    },
    {
     "name": "stdout",
     "output_type": "stream",
     "text": [
      "\n",
      "      Epoch    GPU_mem   box_loss   cls_loss   dfl_loss  Instances       Size\n"
     ]
    },
    {
     "name": "stderr",
     "output_type": "stream",
     "text": [
      "     89/100         0G      1.055     0.9492      1.529         19        640: 100%|██████████| 1/1 [00:01<00:00,  1.12s/it]\n",
      "                 Class     Images  Instances      Box(P          R      mAP50  mAP50-95): 100%|██████████| 1/1 [00:00<00:00,  2.51it/s]"
     ]
    },
    {
     "name": "stdout",
     "output_type": "stream",
     "text": [
      "                   all          4         17       0.84      0.475      0.558      0.286\n"
     ]
    },
    {
     "name": "stderr",
     "output_type": "stream",
     "text": [
      "\n"
     ]
    },
    {
     "name": "stdout",
     "output_type": "stream",
     "text": [
      "\n",
      "      Epoch    GPU_mem   box_loss   cls_loss   dfl_loss  Instances       Size\n"
     ]
    },
    {
     "name": "stderr",
     "output_type": "stream",
     "text": [
      "     90/100         0G     0.6482       0.63      1.005         39        640: 100%|██████████| 1/1 [00:01<00:00,  1.28s/it]\n",
      "                 Class     Images  Instances      Box(P          R      mAP50  mAP50-95): 100%|██████████| 1/1 [00:00<00:00,  2.32it/s]"
     ]
    },
    {
     "name": "stdout",
     "output_type": "stream",
     "text": [
      "                   all          4         17       0.84      0.475      0.558      0.286\n"
     ]
    },
    {
     "name": "stderr",
     "output_type": "stream",
     "text": [
      "\n"
     ]
    },
    {
     "name": "stdout",
     "output_type": "stream",
     "text": [
      "Closing dataloader mosaic\n",
      "\n",
      "      Epoch    GPU_mem   box_loss   cls_loss   dfl_loss  Instances       Size\n"
     ]
    },
    {
     "name": "stderr",
     "output_type": "stream",
     "text": [
      "     91/100         0G     0.4705     0.5267     0.8951         13        640: 100%|██████████| 1/1 [00:01<00:00,  1.29s/it]\n",
      "                 Class     Images  Instances      Box(P          R      mAP50  mAP50-95): 100%|██████████| 1/1 [00:00<00:00,  2.33it/s]"
     ]
    },
    {
     "name": "stdout",
     "output_type": "stream",
     "text": [
      "                   all          4         17       0.84      0.475      0.558      0.286\n"
     ]
    },
    {
     "name": "stderr",
     "output_type": "stream",
     "text": [
      "\n"
     ]
    },
    {
     "name": "stdout",
     "output_type": "stream",
     "text": [
      "\n",
      "      Epoch    GPU_mem   box_loss   cls_loss   dfl_loss  Instances       Size\n"
     ]
    },
    {
     "name": "stderr",
     "output_type": "stream",
     "text": [
      "     92/100         0G      0.708     0.6896     0.9838         13        640: 100%|██████████| 1/1 [00:01<00:00,  1.14s/it]\n",
      "                 Class     Images  Instances      Box(P          R      mAP50  mAP50-95): 100%|██████████| 1/1 [00:00<00:00,  2.30it/s]"
     ]
    },
    {
     "name": "stdout",
     "output_type": "stream",
     "text": [
      "                   all          4         17      0.869      0.467      0.541       0.28\n"
     ]
    },
    {
     "name": "stderr",
     "output_type": "stream",
     "text": [
      "\n"
     ]
    },
    {
     "name": "stdout",
     "output_type": "stream",
     "text": [
      "\n",
      "      Epoch    GPU_mem   box_loss   cls_loss   dfl_loss  Instances       Size\n"
     ]
    },
    {
     "name": "stderr",
     "output_type": "stream",
     "text": [
      "     93/100         0G     0.4878      0.465      0.995         13        640: 100%|██████████| 1/1 [00:01<00:00,  1.13s/it]\n",
      "                 Class     Images  Instances      Box(P          R      mAP50  mAP50-95): 100%|██████████| 1/1 [00:00<00:00,  2.37it/s]"
     ]
    },
    {
     "name": "stdout",
     "output_type": "stream",
     "text": [
      "                   all          4         17      0.869      0.467      0.541       0.28\n"
     ]
    },
    {
     "name": "stderr",
     "output_type": "stream",
     "text": [
      "\n"
     ]
    },
    {
     "name": "stdout",
     "output_type": "stream",
     "text": [
      "\n",
      "      Epoch    GPU_mem   box_loss   cls_loss   dfl_loss  Instances       Size\n"
     ]
    },
    {
     "name": "stderr",
     "output_type": "stream",
     "text": [
      "     94/100         0G     0.5428     0.4751     0.8853         13        640: 100%|██████████| 1/1 [00:01<00:00,  1.10s/it]\n",
      "                 Class     Images  Instances      Box(P          R      mAP50  mAP50-95): 100%|██████████| 1/1 [00:00<00:00,  2.53it/s]"
     ]
    },
    {
     "name": "stdout",
     "output_type": "stream",
     "text": [
      "                   all          4         17      0.869      0.467      0.541       0.28\n"
     ]
    },
    {
     "name": "stderr",
     "output_type": "stream",
     "text": [
      "\n"
     ]
    },
    {
     "name": "stdout",
     "output_type": "stream",
     "text": [
      "\n",
      "      Epoch    GPU_mem   box_loss   cls_loss   dfl_loss  Instances       Size\n"
     ]
    },
    {
     "name": "stderr",
     "output_type": "stream",
     "text": [
      "     95/100         0G     0.4358     0.4626     0.9037         13        640: 100%|██████████| 1/1 [00:01<00:00,  1.45s/it]\n",
      "                 Class     Images  Instances      Box(P          R      mAP50  mAP50-95): 100%|██████████| 1/1 [00:00<00:00,  2.43it/s]"
     ]
    },
    {
     "name": "stdout",
     "output_type": "stream",
     "text": [
      "                   all          4         17      0.869      0.467      0.541       0.28\n"
     ]
    },
    {
     "name": "stderr",
     "output_type": "stream",
     "text": [
      "\n"
     ]
    },
    {
     "name": "stdout",
     "output_type": "stream",
     "text": [
      "\n",
      "      Epoch    GPU_mem   box_loss   cls_loss   dfl_loss  Instances       Size\n"
     ]
    },
    {
     "name": "stderr",
     "output_type": "stream",
     "text": [
      "     96/100         0G     0.4556     0.5031      0.973         13        640: 100%|██████████| 1/1 [00:01<00:00,  1.42s/it]\n",
      "                 Class     Images  Instances      Box(P          R      mAP50  mAP50-95): 100%|██████████| 1/1 [00:00<00:00,  2.29it/s]"
     ]
    },
    {
     "name": "stdout",
     "output_type": "stream",
     "text": [
      "                   all          4         17      0.848      0.467      0.548      0.286\n"
     ]
    },
    {
     "name": "stderr",
     "output_type": "stream",
     "text": [
      "\n"
     ]
    },
    {
     "name": "stdout",
     "output_type": "stream",
     "text": [
      "\n",
      "      Epoch    GPU_mem   box_loss   cls_loss   dfl_loss  Instances       Size\n"
     ]
    },
    {
     "name": "stderr",
     "output_type": "stream",
     "text": [
      "     97/100         0G     0.6976     0.6378      1.056         13        640: 100%|██████████| 1/1 [00:01<00:00,  1.26s/it]\n",
      "                 Class     Images  Instances      Box(P          R      mAP50  mAP50-95): 100%|██████████| 1/1 [00:00<00:00,  2.44it/s]"
     ]
    },
    {
     "name": "stdout",
     "output_type": "stream",
     "text": [
      "                   all          4         17      0.848      0.467      0.548      0.286\n"
     ]
    },
    {
     "name": "stderr",
     "output_type": "stream",
     "text": [
      "\n"
     ]
    },
    {
     "name": "stdout",
     "output_type": "stream",
     "text": [
      "\n",
      "      Epoch    GPU_mem   box_loss   cls_loss   dfl_loss  Instances       Size\n"
     ]
    },
    {
     "name": "stderr",
     "output_type": "stream",
     "text": [
      "     98/100         0G     0.5285     0.4794      0.914         13        640: 100%|██████████| 1/1 [00:01<00:00,  1.18s/it]\n",
      "                 Class     Images  Instances      Box(P          R      mAP50  mAP50-95): 100%|██████████| 1/1 [00:00<00:00,  2.39it/s]"
     ]
    },
    {
     "name": "stdout",
     "output_type": "stream",
     "text": [
      "                   all          4         17      0.848      0.467      0.548      0.286\n"
     ]
    },
    {
     "name": "stderr",
     "output_type": "stream",
     "text": [
      "\n"
     ]
    },
    {
     "name": "stdout",
     "output_type": "stream",
     "text": [
      "\n",
      "      Epoch    GPU_mem   box_loss   cls_loss   dfl_loss  Instances       Size\n"
     ]
    },
    {
     "name": "stderr",
     "output_type": "stream",
     "text": [
      "     99/100         0G     0.4809     0.4711     0.9124         13        640: 100%|██████████| 1/1 [00:01<00:00,  1.30s/it]\n",
      "                 Class     Images  Instances      Box(P          R      mAP50  mAP50-95): 100%|██████████| 1/1 [00:00<00:00,  1.79it/s]"
     ]
    },
    {
     "name": "stdout",
     "output_type": "stream",
     "text": [
      "                   all          4         17      0.848      0.467      0.548      0.286\n"
     ]
    },
    {
     "name": "stderr",
     "output_type": "stream",
     "text": [
      "\n"
     ]
    },
    {
     "name": "stdout",
     "output_type": "stream",
     "text": [
      "\n",
      "      Epoch    GPU_mem   box_loss   cls_loss   dfl_loss  Instances       Size\n"
     ]
    },
    {
     "name": "stderr",
     "output_type": "stream",
     "text": [
      "    100/100         0G     0.5581     0.5354      1.003         13        640: 100%|██████████| 1/1 [00:01<00:00,  1.35s/it]\n",
      "                 Class     Images  Instances      Box(P          R      mAP50  mAP50-95): 100%|██████████| 1/1 [00:00<00:00,  2.20it/s]"
     ]
    },
    {
     "name": "stdout",
     "output_type": "stream",
     "text": [
      "                   all          4         17      0.831      0.467      0.555      0.321\n"
     ]
    },
    {
     "name": "stderr",
     "output_type": "stream",
     "text": [
      "\n"
     ]
    },
    {
     "name": "stdout",
     "output_type": "stream",
     "text": [
      "\n",
      "100 epochs completed in 0.059 hours.\n",
      "Optimizer stripped from runs/detect/train/weights/last.pt, 5.5MB\n",
      "Optimizer stripped from runs/detect/train/weights/best.pt, 5.5MB\n",
      "\n",
      "Validating runs/detect/train/weights/best.pt...\n",
      "Ultralytics 8.3.85 🚀 Python-3.11.7 torch-2.6.0 CPU (arm64)\n",
      "YOLO11n summary (fused): 100 layers, 2,616,248 parameters, 0 gradients, 6.5 GFLOPs\n"
     ]
    },
    {
     "name": "stderr",
     "output_type": "stream",
     "text": [
      "                 Class     Images  Instances      Box(P          R      mAP50  mAP50-95): 100%|██████████| 1/1 [00:00<00:00,  2.45it/s]\n"
     ]
    },
    {
     "name": "stdout",
     "output_type": "stream",
     "text": [
      "                   all          4         17      0.573       0.85      0.878      0.635\n",
      "                person          3         10      0.563        0.6      0.594      0.273\n",
      "                   dog          1          1      0.547          1      0.995      0.697\n",
      "                 horse          1          2      0.541          1      0.995      0.674\n",
      "              elephant          1          2       0.37        0.5      0.695      0.275\n",
      "              umbrella          1          1       0.57          1      0.995      0.995\n",
      "          potted plant          1          1      0.849          1      0.995      0.895\n",
      "Speed: 0.9ms preprocess, 95.5ms inference, 0.0ms loss, 1.9ms postprocess per image\n",
      "Results saved to \u001b[1mruns/detect/train\u001b[0m\n"
     ]
    }
   ],
   "source": [
    "# Train the model\n",
    "results = model.train(data=\"coco8.yaml\", epochs=100, imgsz=640)\n"
   ]
  },
  {
   "cell_type": "code",
   "execution_count": 20,
   "metadata": {},
   "outputs": [
    {
     "name": "stdout",
     "output_type": "stream",
     "text": [
      "\n",
      "1/1: 0... Success ✅ (inf frames of shape 1280x720 at 30.00 FPS)\n",
      "\n",
      "\n",
      "WARNING ⚠️ inference results will accumulate in RAM unless `stream=True` is passed, causing potential out-of-memory\n",
      "errors for large sources or long-running streams and videos. See https://docs.ultralytics.com/modes/predict/ for help.\n",
      "\n",
      "Example:\n",
      "    results = model(source=..., stream=True)  # generator of Results objects\n",
      "    for r in results:\n",
      "        boxes = r.boxes  # Boxes object for bbox outputs\n",
      "        masks = r.masks  # Masks object for segment masks outputs\n",
      "        probs = r.probs  # Class probabilities for classification outputs\n",
      "\n",
      "0: 384x640 2 persons, 1 bottle, 107.8ms\n",
      "0: 384x640 2 persons, 1 bottle, 46.3ms\n",
      "0: 384x640 2 persons, 1 bottle, 1 cup, 44.8ms\n",
      "0: 384x640 2 persons, 1 bottle, 1 cup, 39.9ms\n",
      "0: 384x640 2 persons, 1 bottle, 42.9ms\n",
      "0: 384x640 2 persons, 1 cup, 43.4ms\n",
      "0: 384x640 2 persons, 48.5ms\n",
      "0: 384x640 2 persons, 1 bottle, 44.1ms\n",
      "0: 384x640 2 persons, 1 bottle, 44.9ms\n",
      "0: 384x640 2 persons, 49.3ms\n",
      "0: 384x640 2 persons, 1 bottle, 46.9ms\n",
      "0: 384x640 2 persons, 1 bottle, 50.9ms\n",
      "0: 384x640 2 persons, 1 bottle, 49.0ms\n",
      "0: 384x640 2 persons, 1 bottle, 49.4ms\n",
      "0: 384x640 2 persons, 48.6ms\n",
      "0: 384x640 2 persons, 1 bottle, 49.8ms\n",
      "0: 384x640 2 persons, 1 bottle, 53.9ms\n",
      "0: 384x640 2 persons, 1 bottle, 46.5ms\n",
      "0: 384x640 2 persons, 1 bottle, 44.6ms\n",
      "0: 384x640 2 persons, 1 bottle, 52.1ms\n",
      "0: 384x640 2 persons, 1 bottle, 38.4ms\n",
      "0: 384x640 2 persons, 1 bottle, 39.7ms\n",
      "0: 384x640 2 persons, 35.8ms\n",
      "0: 384x640 2 persons, 1 cup, 38.7ms\n",
      "0: 384x640 2 persons, 1 bottle, 1 cup, 39.0ms\n",
      "0: 384x640 2 persons, 1 bottle, 117.5ms\n",
      "0: 384x640 2 persons, 1 bottle, 43.8ms\n",
      "0: 384x640 2 persons, 1 bottle, 43.1ms\n",
      "0: 384x640 2 persons, 43.2ms\n",
      "0: 384x640 2 persons, 58.8ms\n",
      "0: 384x640 2 persons, 1 bottle, 55.8ms\n",
      "0: 384x640 2 persons, 1 bottle, 45.8ms\n",
      "0: 384x640 1 person, 1 chair, 45.7ms\n",
      "0: 384x640 2 persons, 1 bottle, 43.3ms\n",
      "0: 384x640 2 persons, 1 bottle, 47.0ms\n",
      "0: 384x640 2 persons, 1 bottle, 1 cup, 44.4ms\n",
      "0: 384x640 2 persons, 45.4ms\n",
      "0: 384x640 2 persons, 43.7ms\n",
      "0: 384x640 2 persons, 1 cup, 44.2ms\n",
      "0: 384x640 2 persons, 1 bottle, 46.7ms\n",
      "0: 384x640 2 persons, 1 bottle, 52.6ms\n",
      "0: 384x640 2 persons, 51.2ms\n",
      "0: 384x640 2 persons, 1 bottle, 43.3ms\n",
      "0: 384x640 2 persons, 1 bottle, 48.5ms\n",
      "0: 384x640 2 persons, 49.0ms\n",
      "0: 384x640 2 persons, 1 bottle, 89.3ms\n",
      "0: 384x640 2 persons, 1 bottle, 46.9ms\n",
      "0: 384x640 2 persons, 41.8ms\n",
      "0: 384x640 2 persons, 1 bottle, 39.6ms\n",
      "0: 384x640 2 persons, 1 bottle, 37.7ms\n",
      "0: 384x640 2 persons, 40.5ms\n",
      "0: 384x640 2 persons, 46.1ms\n",
      "0: 384x640 2 persons, 1 bottle, 38.2ms\n",
      "0: 384x640 2 persons, 36.6ms\n",
      "0: 384x640 2 persons, 37.9ms\n",
      "0: 384x640 2 persons, 38.7ms\n",
      "0: 384x640 2 persons, 36.0ms\n",
      "0: 384x640 2 persons, 1 bottle, 52.4ms\n",
      "0: 384x640 2 persons, 1 cup, 36.7ms\n",
      "0: 384x640 2 persons, 38.2ms\n",
      "0: 384x640 2 persons, 1 bottle, 37.1ms\n",
      "0: 384x640 2 persons, 1 bottle, 44.2ms\n",
      "0: 384x640 2 persons, 1 cup, 47.6ms\n",
      "0: 384x640 2 persons, 1 cup, 47.7ms\n",
      "0: 384x640 2 persons, 50.2ms\n",
      "0: 384x640 2 persons, 39.3ms\n",
      "0: 384x640 2 persons, 1 cup, 37.0ms\n",
      "0: 384x640 2 persons, 45.8ms\n",
      "0: 384x640 2 persons, 1 bottle, 63.5ms\n",
      "0: 384x640 2 persons, 37.8ms\n",
      "0: 384x640 2 persons, 1 bottle, 40.6ms\n",
      "0: 384x640 2 persons, 1 bottle, 37.9ms\n",
      "0: 384x640 2 persons, 1 bottle, 35.6ms\n",
      "0: 384x640 2 persons, 38.0ms\n",
      "0: 384x640 2 persons, 37.7ms\n",
      "0: 384x640 2 persons, 1 bottle, 1 cup, 36.1ms\n",
      "0: 384x640 2 persons, 40.3ms\n",
      "0: 384x640 2 persons, 1 bottle, 51.6ms\n",
      "0: 384x640 2 persons, 1 bottle, 36.5ms\n",
      "0: 384x640 2 persons, 1 bottle, 1 cup, 38.8ms\n",
      "0: 384x640 2 persons, 1 bottle, 1 cup, 37.7ms\n",
      "0: 384x640 2 persons, 1 bottle, 38.2ms\n",
      "0: 384x640 2 persons, 1 cup, 42.8ms\n",
      "0: 384x640 2 persons, 1 bottle, 1 cup, 39.3ms\n",
      "0: 384x640 2 persons, 1 bottle, 39.8ms\n",
      "0: 384x640 2 persons, 1 bottle, 36.4ms\n",
      "0: 384x640 2 persons, 1 bottle, 40.3ms\n",
      "0: 384x640 2 persons, 1 bottle, 38.0ms\n",
      "0: 384x640 2 persons, 1 bottle, 1 cup, 38.8ms\n",
      "0: 384x640 2 persons, 1 bottle, 39.3ms\n",
      "0: 384x640 2 persons, 1 cup, 40.7ms\n",
      "0: 384x640 2 persons, 1 cup, 36.6ms\n",
      "0: 384x640 2 persons, 48.2ms\n",
      "0: 384x640 2 persons, 1 bottle, 38.3ms\n",
      "0: 384x640 2 persons, 1 bottle, 1 cup, 40.3ms\n",
      "0: 384x640 2 persons, 1 bottle, 37.2ms\n",
      "0: 384x640 2 persons, 1 bottle, 53.8ms\n",
      "0: 384x640 2 persons, 46.2ms\n",
      "0: 384x640 2 persons, 1 bottle, 46.8ms\n",
      "0: 384x640 2 persons, 1 bottle, 43.6ms\n",
      "0: 384x640 2 persons, 1 bottle, 42.1ms\n",
      "0: 384x640 2 persons, 1 bottle, 45.0ms\n",
      "0: 384x640 2 persons, 1 cup, 62.2ms\n",
      "0: 384x640 2 persons, 1 bottle, 41.5ms\n",
      "0: 384x640 2 persons, 45.7ms\n",
      "0: 384x640 2 persons, 1 bottle, 43.1ms\n",
      "0: 384x640 2 persons, 36.8ms\n",
      "0: 384x640 2 persons, 39.1ms\n",
      "0: 384x640 2 persons, 36.2ms\n",
      "0: 384x640 2 persons, 1 bottle, 1 cup, 37.5ms\n",
      "0: 384x640 2 persons, 41.2ms\n",
      "0: 384x640 2 persons, 1 bottle, 43.1ms\n",
      "0: 384x640 2 persons, 47.3ms\n",
      "0: 384x640 2 persons, 56.0ms\n",
      "0: 384x640 2 persons, 1 bottle, 45.2ms\n",
      "0: 384x640 2 persons, 1 bottle, 47.8ms\n",
      "0: 384x640 2 persons, 1 bottle, 64.7ms\n",
      "0: 384x640 2 persons, 1 bottle, 1 cup, 82.4ms\n",
      "0: 384x640 2 persons, 46.1ms\n",
      "0: 384x640 2 persons, 1 bottle, 48.2ms\n",
      "0: 384x640 2 persons, 1 bottle, 1 cup, 45.7ms\n",
      "0: 384x640 2 persons, 45.8ms\n",
      "0: 384x640 2 persons, 43.3ms\n",
      "0: 384x640 2 persons, 1 bottle, 52.3ms\n",
      "0: 384x640 2 persons, 1 bottle, 67.0ms\n",
      "0: 384x640 2 persons, 1 bottle, 67.6ms\n",
      "0: 384x640 2 persons, 1 bottle, 51.3ms\n",
      "0: 384x640 2 persons, 1 bottle, 58.5ms\n",
      "0: 384x640 2 persons, 1 bottle, 49.9ms\n",
      "0: 384x640 2 persons, 1 bottle, 39.5ms\n",
      "0: 384x640 2 persons, 1 bottle, 42.1ms\n",
      "0: 384x640 2 persons, 1 bottle, 38.4ms\n",
      "0: 384x640 2 persons, 1 bottle, 37.5ms\n",
      "0: 384x640 2 persons, 1 bottle, 36.5ms\n",
      "0: 384x640 2 persons, 1 bottle, 36.4ms\n",
      "0: 384x640 2 persons, 1 bottle, 36.4ms\n",
      "0: 384x640 2 persons, 1 bottle, 35.4ms\n",
      "0: 384x640 2 persons, 1 bottle, 1 cup, 48.3ms\n",
      "0: 384x640 2 persons, 1 bottle, 38.1ms\n",
      "0: 384x640 2 persons, 1 cup, 37.1ms\n",
      "0: 384x640 2 persons, 34.7ms\n",
      "0: 384x640 2 persons, 1 bottle, 33.8ms\n",
      "0: 384x640 2 persons, 1 bottle, 38.4ms\n",
      "0: 384x640 2 persons, 1 bottle, 1 cup, 41.2ms\n",
      "0: 384x640 2 persons, 37.9ms\n",
      "0: 384x640 2 persons, 1 bottle, 38.5ms\n",
      "0: 384x640 2 persons, 1 bottle, 38.7ms\n",
      "0: 384x640 2 persons, 1 bottle, 1 cup, 43.0ms\n",
      "0: 384x640 2 persons, 1 bottle, 41.4ms\n",
      "0: 384x640 2 persons, 1 bottle, 39.2ms\n",
      "0: 384x640 2 persons, 40.7ms\n",
      "0: 384x640 2 persons, 37.3ms\n",
      "0: 384x640 2 persons, 1 cup, 39.1ms\n",
      "0: 384x640 2 persons, 1 cup, 43.4ms\n",
      "0: 384x640 2 persons, 1 bottle, 54.8ms\n",
      "0: 384x640 2 persons, 1 cup, 54.6ms\n",
      "0: 384x640 1 person, 1 bottle, 48.1ms\n",
      "0: 384x640 2 persons, 1 bottle, 43.7ms\n",
      "0: 384x640 2 persons, 1 bottle, 42.7ms\n",
      "0: 384x640 2 persons, 1 bottle, 42.8ms\n",
      "0: 384x640 2 persons, 1 bottle, 43.5ms\n",
      "0: 384x640 2 persons, 1 bottle, 62.6ms\n",
      "0: 384x640 2 persons, 1 bottle, 47.3ms\n",
      "0: 384x640 2 persons, 1 bottle, 50.2ms\n",
      "0: 384x640 2 persons, 1 bottle, 1 cup, 46.9ms\n",
      "0: 384x640 2 persons, 1 bottle, 43.7ms\n",
      "0: 384x640 2 persons, 1 cup, 45.4ms\n",
      "0: 384x640 2 persons, 1 cup, 44.6ms\n",
      "0: 384x640 2 persons, 1 bottle, 1 cup, 45.9ms\n",
      "0: 384x640 2 persons, 1 bottle, 47.1ms\n",
      "0: 384x640 2 persons, 40.9ms\n",
      "0: 384x640 2 persons, 1 bottle, 41.9ms\n",
      "0: 384x640 2 persons, 1 bottle, 44.1ms\n",
      "0: 384x640 2 persons, 1 bottle, 46.4ms\n",
      "0: 384x640 2 persons, 1 bottle, 1 cup, 45.3ms\n",
      "0: 384x640 2 persons, 44.9ms\n",
      "0: 384x640 2 persons, 44.2ms\n",
      "0: 384x640 2 persons, 1 bottle, 47.4ms\n",
      "0: 384x640 2 persons, 1 bottle, 44.1ms\n",
      "0: 384x640 2 persons, 1 bottle, 40.0ms\n",
      "0: 384x640 2 persons, 1 bottle, 38.7ms\n",
      "0: 384x640 2 persons, 1 bottle, 39.9ms\n",
      "0: 384x640 2 persons, 38.7ms\n",
      "0: 384x640 2 persons, 1 bottle, 37.4ms\n",
      "0: 384x640 2 persons, 1 bottle, 35.5ms\n",
      "0: 384x640 2 persons, 38.0ms\n",
      "0: 384x640 2 persons, 1 bottle, 38.2ms\n",
      "0: 384x640 2 persons, 1 bottle, 36.0ms\n",
      "0: 384x640 2 persons, 1 bottle, 38.0ms\n",
      "0: 384x640 2 persons, 1 bottle, 37.9ms\n",
      "0: 384x640 2 persons, 1 cup, 37.4ms\n",
      "0: 384x640 2 persons, 1 bottle, 1 cup, 36.8ms\n",
      "0: 384x640 2 persons, 37.3ms\n",
      "0: 384x640 2 persons, 1 bottle, 36.5ms\n",
      "0: 384x640 2 persons, 1 bottle, 1 cup, 37.1ms\n",
      "0: 384x640 2 persons, 1 bottle, 59.0ms\n",
      "0: 384x640 2 persons, 1 bottle, 1 cup, 52.5ms\n",
      "0: 384x640 2 persons, 1 bottle, 1 cup, 39.8ms\n",
      "0: 384x640 2 persons, 1 bottle, 38.7ms\n",
      "0: 384x640 2 persons, 36.9ms\n",
      "0: 384x640 2 persons, 1 bottle, 39.1ms\n",
      "0: 384x640 2 persons, 1 bottle, 42.2ms\n",
      "0: 384x640 2 persons, 1 bottle, 40.2ms\n",
      "0: 384x640 2 persons, 1 bottle, 42.2ms\n",
      "0: 384x640 2 persons, 1 bottle, 45.2ms\n",
      "0: 384x640 2 persons, 1 bottle, 1 cup, 44.3ms\n",
      "0: 384x640 2 persons, 1 bottle, 48.7ms\n",
      "0: 384x640 2 persons, 1 bottle, 49.3ms\n",
      "0: 384x640 2 persons, 1 cup, 45.6ms\n",
      "0: 384x640 2 persons, 1 cup, 43.4ms\n",
      "0: 384x640 2 persons, 1 bottle, 44.5ms\n",
      "0: 384x640 2 persons, 1 bottle, 41.3ms\n",
      "0: 384x640 2 persons, 1 bottle, 50.7ms\n",
      "0: 384x640 2 persons, 1 bottle, 52.7ms\n",
      "0: 384x640 2 persons, 56.1ms\n",
      "0: 384x640 2 persons, 1 bottle, 46.3ms\n",
      "0: 384x640 2 persons, 1 cup, 45.3ms\n",
      "0: 384x640 2 persons, 1 bottle, 43.4ms\n",
      "0: 384x640 2 persons, 1 bottle, 44.2ms\n",
      "0: 384x640 2 persons, 46.4ms\n",
      "0: 384x640 2 persons, 47.3ms\n",
      "0: 384x640 2 persons, 1 bottle, 47.6ms\n",
      "0: 384x640 2 persons, 1 bottle, 1 cup, 44.2ms\n",
      "0: 384x640 2 persons, 1 bottle, 102.8ms\n",
      "0: 384x640 2 persons, 1 bottle, 54.3ms\n",
      "0: 384x640 2 persons, 1 bottle, 57.0ms\n",
      "0: 384x640 2 persons, 170.2ms\n",
      "0: 384x640 2 persons, 61.3ms\n",
      "0: 384x640 2 persons, 1 cup, 75.7ms\n",
      "0: 384x640 2 persons, 49.5ms\n",
      "0: 384x640 2 persons, 1 bottle, 40.5ms\n",
      "0: 384x640 2 persons, 1 bottle, 50.5ms\n",
      "0: 384x640 2 persons, 1 bottle, 46.0ms\n",
      "0: 384x640 2 persons, 1 bottle, 44.9ms\n",
      "0: 384x640 2 persons, 1 bottle, 37.2ms\n",
      "0: 384x640 2 persons, 36.8ms\n",
      "0: 384x640 2 persons, 36.5ms\n",
      "0: 384x640 2 persons, 1 bottle, 38.3ms\n",
      "0: 384x640 2 persons, 1 bottle, 35.4ms\n",
      "0: 384x640 2 persons, 1 bottle, 46.1ms\n",
      "0: 384x640 2 persons, 1 bottle, 50.3ms\n",
      "0: 384x640 2 persons, 1 bottle, 1 cup, 40.4ms\n",
      "0: 384x640 2 persons, 39.8ms\n",
      "0: 384x640 2 persons, 1 bottle, 1 cup, 35.3ms\n",
      "0: 384x640 2 persons, 1 bottle, 37.4ms\n",
      "0: 384x640 2 persons, 1 bottle, 38.5ms\n",
      "0: 384x640 2 persons, 1 bottle, 38.6ms\n",
      "0: 384x640 2 persons, 36.6ms\n",
      "0: 384x640 2 persons, 1 bottle, 37.1ms\n",
      "0: 384x640 2 persons, 1 bottle, 1 cup, 36.6ms\n",
      "0: 384x640 2 persons, 1 bottle, 38.5ms\n",
      "0: 384x640 2 persons, 1 bottle, 39.4ms\n",
      "0: 384x640 2 persons, 38.7ms\n",
      "0: 384x640 2 persons, 1 bottle, 1 cup, 36.7ms\n",
      "0: 384x640 2 persons, 39.1ms\n",
      "0: 384x640 2 persons, 1 bottle, 36.8ms\n",
      "0: 384x640 2 persons, 1 bottle, 1 cup, 37.5ms\n",
      "0: 384x640 2 persons, 40.5ms\n",
      "0: 384x640 2 persons, 1 bottle, 39.0ms\n",
      "0: 384x640 2 persons, 39.7ms\n",
      "0: 384x640 2 persons, 1 bottle, 1 cup, 57.9ms\n",
      "0: 384x640 2 persons, 1 bottle, 48.0ms\n",
      "0: 384x640 2 persons, 1 bottle, 38.7ms\n",
      "0: 384x640 2 persons, 1 bottle, 35.1ms\n",
      "0: 384x640 2 persons, 1 bottle, 37.0ms\n",
      "0: 384x640 2 persons, 1 bottle, 1 cup, 38.5ms\n",
      "0: 384x640 2 persons, 1 bottle, 39.1ms\n",
      "0: 384x640 2 persons, 1 bottle, 1 cup, 110.3ms\n",
      "0: 384x640 2 persons, 60.7ms\n",
      "0: 384x640 2 persons, 38.0ms\n",
      "0: 384x640 2 persons, 1 cup, 41.0ms\n",
      "0: 384x640 2 persons, 1 bottle, 40.8ms\n",
      "0: 384x640 2 persons, 1 bottle, 48.4ms\n",
      "0: 384x640 2 persons, 1 bottle, 44.2ms\n",
      "0: 384x640 2 persons, 1 bottle, 49.0ms\n",
      "0: 384x640 2 persons, 1 bottle, 44.1ms\n",
      "0: 384x640 2 persons, 45.9ms\n",
      "0: 384x640 2 persons, 1 bottle, 1 cup, 43.2ms\n",
      "0: 384x640 2 persons, 1 bottle, 52.3ms\n",
      "0: 384x640 2 persons, 1 bottle, 46.6ms\n",
      "0: 384x640 2 persons, 1 bottle, 53.5ms\n",
      "0: 384x640 2 persons, 1 bottle, 46.5ms\n",
      "0: 384x640 2 persons, 1 bottle, 42.8ms\n",
      "0: 384x640 2 persons, 1 bottle, 1 cup, 54.1ms\n",
      "0: 384x640 2 persons, 1 bottle, 49.3ms\n",
      "0: 384x640 2 persons, 1 bottle, 63.3ms\n",
      "0: 384x640 2 persons, 1 bottle, 52.0ms\n",
      "0: 384x640 2 persons, 64.9ms\n",
      "0: 384x640 2 persons, 55.2ms\n",
      "0: 384x640 2 persons, 1 bottle, 47.7ms\n",
      "0: 384x640 2 persons, 1 bottle, 63.1ms\n",
      "0: 384x640 2 persons, 1 bottle, 47.7ms\n",
      "0: 384x640 1 person, 1 bottle, 48.2ms\n",
      "0: 384x640 2 persons, 46.0ms\n",
      "0: 384x640 2 persons, 1 bottle, 45.0ms\n",
      "0: 384x640 2 persons, 1 bottle, 1 cup, 41.4ms\n",
      "0: 384x640 2 persons, 1 bottle, 42.9ms\n",
      "0: 384x640 1 person, 1 bottle, 36.7ms\n",
      "0: 384x640 2 persons, 1 bottle, 37.8ms\n",
      "0: 384x640 2 persons, 39.6ms\n",
      "0: 384x640 2 persons, 41.0ms\n",
      "0: 384x640 2 persons, 1 bottle, 82.3ms\n",
      "0: 384x640 2 persons, 1 cup, 67.3ms\n",
      "0: 384x640 2 persons, 1 bottle, 1 cup, 46.7ms\n",
      "0: 384x640 2 persons, 1 bottle, 40.7ms\n",
      "0: 384x640 2 persons, 1 cup, 44.3ms\n",
      "0: 384x640 2 persons, 1 bottle, 44.1ms\n",
      "0: 384x640 2 persons, 1 bottle, 1 cup, 44.5ms\n",
      "0: 384x640 2 persons, 1 bottle, 1 cup, 47.1ms\n",
      "0: 384x640 2 persons, 54.5ms\n",
      "0: 384x640 2 persons, 1 cup, 48.1ms\n",
      "0: 384x640 2 persons, 1 bottle, 49.4ms\n",
      "0: 384x640 2 persons, 1 bottle, 47.7ms\n",
      "0: 384x640 2 persons, 1 bottle, 41.1ms\n",
      "0: 384x640 2 persons, 1 bottle, 40.4ms\n",
      "0: 384x640 2 persons, 1 bottle, 47.8ms\n",
      "0: 384x640 2 persons, 1 cup, 43.5ms\n",
      "0: 384x640 2 persons, 61.9ms\n",
      "0: 384x640 2 persons, 1 bottle, 52.9ms\n",
      "0: 384x640 2 persons, 1 bottle, 1 cup, 49.3ms\n",
      "0: 384x640 2 persons, 1 bottle, 1 cup, 46.7ms\n",
      "0: 384x640 2 persons, 1 bottle, 53.5ms\n",
      "0: 384x640 2 persons, 1 bottle, 104.0ms\n",
      "0: 384x640 2 persons, 1 bottle, 49.3ms\n",
      "0: 384x640 2 persons, 1 bottle, 43.6ms\n",
      "0: 384x640 2 persons, 43.6ms\n",
      "0: 384x640 2 persons, 1 cup, 43.2ms\n",
      "0: 384x640 2 persons, 1 bottle, 41.3ms\n",
      "0: 384x640 2 persons, 1 bottle, 49.9ms\n",
      "0: 384x640 2 persons, 45.6ms\n",
      "0: 384x640 2 persons, 45.7ms\n",
      "0: 384x640 2 persons, 1 bottle, 1 cup, 52.4ms\n",
      "0: 384x640 2 persons, 1 bottle, 1 cup, 41.9ms\n",
      "0: 384x640 2 persons, 49.8ms\n",
      "0: 384x640 2 persons, 49.7ms\n",
      "0: 384x640 2 persons, 45.4ms\n",
      "0: 384x640 2 persons, 1 bottle, 1 cup, 45.2ms\n",
      "0: 384x640 2 persons, 43.5ms\n",
      "0: 384x640 2 persons, 46.7ms\n",
      "0: 384x640 2 persons, 1 bottle, 1 cup, 49.2ms\n",
      "0: 384x640 2 persons, 47.7ms\n",
      "0: 384x640 2 persons, 50.2ms\n",
      "0: 384x640 2 persons, 1 bottle, 43.3ms\n",
      "0: 384x640 2 persons, 1 bottle, 51.1ms\n",
      "0: 384x640 2 persons, 57.3ms\n",
      "0: 384x640 2 persons, 41.9ms\n",
      "0: 384x640 2 persons, 1 bottle, 68.0ms\n",
      "0: 384x640 2 persons, 1 bottle, 1 cup, 43.3ms\n",
      "0: 384x640 2 persons, 1 cup, 39.2ms\n",
      "0: 384x640 2 persons, 37.5ms\n",
      "0: 384x640 1 person, 1 bottle, 1 chair, 35.6ms\n",
      "0: 384x640 1 person, 40.1ms\n",
      "0: 384x640 2 persons, 58.4ms\n",
      "0: 384x640 2 persons, 43.4ms\n",
      "0: 384x640 2 persons, 45.7ms\n",
      "0: 384x640 2 persons, 1 bottle, 45.3ms\n",
      "0: 384x640 2 persons, 151.7ms\n",
      "0: 384x640 2 persons, 1 bottle, 1 cup, 51.1ms\n",
      "0: 384x640 2 persons, 1 bottle, 1 cup, 48.8ms\n",
      "0: 384x640 2 persons, 47.7ms\n",
      "0: 384x640 2 persons, 1 bottle, 189.7ms\n",
      "0: 384x640 2 persons, 1 bottle, 59.4ms\n",
      "0: 384x640 2 persons, 56.9ms\n",
      "0: 384x640 1 person, 1 bottle, 71.7ms\n",
      "0: 384x640 2 persons, 54.4ms\n",
      "0: 384x640 2 persons, 1 bottle, 1 cup, 38.2ms\n",
      "0: 384x640 2 persons, 1 cup, 40.1ms\n",
      "0: 384x640 2 persons, 1 bottle, 45.8ms\n",
      "0: 384x640 2 persons, 1 bottle, 38.9ms\n",
      "0: 384x640 2 persons, 1 bottle, 48.9ms\n",
      "0: 384x640 2 persons, 38.6ms\n",
      "0: 384x640 2 persons, 38.2ms\n",
      "0: 384x640 2 persons, 1 bottle, 39.2ms\n",
      "0: 384x640 2 persons, 44.2ms\n",
      "0: 384x640 2 persons, 1 bottle, 51.2ms\n",
      "0: 384x640 2 persons, 1 bottle, 1 cup, 46.2ms\n",
      "0: 384x640 2 persons, 1 bottle, 43.3ms\n",
      "0: 384x640 2 persons, 1 bottle, 1 cup, 47.7ms\n",
      "0: 384x640 2 persons, 42.4ms\n",
      "0: 384x640 2 persons, 65.0ms\n",
      "0: 384x640 2 persons, 45.8ms\n",
      "0: 384x640 2 persons, 44.3ms\n",
      "0: 384x640 2 persons, 40.8ms\n",
      "0: 384x640 2 persons, 1 bottle, 1 cup, 35.1ms\n",
      "0: 384x640 2 persons, 36.3ms\n",
      "0: 384x640 2 persons, 38.6ms\n",
      "0: 384x640 2 persons, 38.5ms\n",
      "0: 384x640 2 persons, 37.9ms\n",
      "0: 384x640 2 persons, 1 bottle, 48.5ms\n",
      "0: 384x640 1 person, 1 cup, 1 chair, 54.5ms\n",
      "0: 384x640 2 persons, 1 bottle, 63.5ms\n",
      "0: 384x640 2 persons, 1 bottle, 56.9ms\n",
      "0: 384x640 2 persons, 1 bottle, 61.7ms\n",
      "0: 384x640 2 persons, 50.4ms\n",
      "0: 384x640 2 persons, 1 bottle, 46.9ms\n",
      "0: 384x640 2 persons, 60.1ms\n",
      "0: 384x640 2 persons, 1 bottle, 46.4ms\n",
      "0: 384x640 2 persons, 1 bottle, 40.8ms\n",
      "0: 384x640 2 persons, 45.7ms\n",
      "0: 384x640 2 persons, 1 cup, 46.0ms\n",
      "0: 384x640 2 persons, 47.1ms\n",
      "0: 384x640 2 persons, 1 bottle, 51.3ms\n",
      "0: 384x640 2 persons, 47.8ms\n",
      "0: 384x640 2 persons, 1 bottle, 50.5ms\n",
      "0: 384x640 2 persons, 46.9ms\n",
      "0: 384x640 2 persons, 1 bottle, 1 cup, 49.8ms\n",
      "0: 384x640 2 persons, 1 bottle, 56.6ms\n",
      "0: 384x640 2 persons, 1 bottle, 48.2ms\n",
      "0: 384x640 2 persons, 1 bottle, 1 cup, 45.5ms\n",
      "0: 384x640 2 persons, 58.0ms\n",
      "0: 384x640 2 persons, 1 bottle, 46.6ms\n",
      "0: 384x640 2 persons, 1 bottle, 1 cup, 42.5ms\n",
      "0: 384x640 2 persons, 49.3ms\n",
      "0: 384x640 2 persons, 139.8ms\n",
      "0: 384x640 2 persons, 1 bottle, 46.5ms\n",
      "0: 384x640 2 persons, 47.8ms\n",
      "0: 384x640 2 persons, 1 bottle, 50.2ms\n",
      "0: 384x640 2 persons, 1 bottle, 1 cup, 43.1ms\n",
      "0: 384x640 2 persons, 1 bottle, 43.5ms\n",
      "0: 384x640 2 persons, 1 bottle, 43.6ms\n",
      "0: 384x640 2 persons, 1 cup, 45.8ms\n",
      "0: 384x640 2 persons, 44.0ms\n",
      "0: 384x640 2 persons, 1 cup, 45.8ms\n",
      "0: 384x640 2 persons, 52.7ms\n",
      "0: 384x640 2 persons, 49.8ms\n",
      "0: 384x640 2 persons, 1 bottle, 49.9ms\n",
      "0: 384x640 2 persons, 57.8ms\n",
      "0: 384x640 2 persons, 49.4ms\n",
      "0: 384x640 2 persons, 1 bottle, 46.9ms\n",
      "0: 384x640 2 persons, 1 cup, 42.8ms\n",
      "0: 384x640 2 persons, 41.3ms\n",
      "0: 384x640 2 persons, 51.4ms\n",
      "0: 384x640 2 persons, 1 bottle, 56.6ms\n",
      "0: 384x640 2 persons, 55.1ms\n",
      "0: 384x640 1 person, 1 bottle, 74.4ms\n",
      "0: 384x640 2 persons, 1 bottle, 57.8ms\n",
      "0: 384x640 2 persons, 47.5ms\n",
      "0: 384x640 2 persons, 1 bottle, 54.7ms\n",
      "0: 384x640 2 persons, 1 bottle, 87.9ms\n",
      "0: 384x640 2 persons, 1 bottle, 1 cup, 43.9ms\n",
      "0: 384x640 2 persons, 1 bottle, 45.0ms\n",
      "0: 384x640 2 persons, 1 bottle, 38.9ms\n",
      "0: 384x640 2 persons, 1 bottle, 42.4ms\n",
      "0: 384x640 2 persons, 38.7ms\n",
      "0: 384x640 2 persons, 44.2ms\n",
      "0: 384x640 2 persons, 1 bottle, 51.9ms\n",
      "0: 384x640 2 persons, 44.3ms\n",
      "0: 384x640 2 persons, 43.9ms\n",
      "0: 384x640 2 persons, 56.7ms\n",
      "0: 384x640 2 persons, 1 bottle, 45.6ms\n",
      "0: 384x640 2 persons, 51.5ms\n",
      "0: 384x640 2 persons, 50.2ms\n",
      "0: 384x640 2 persons, 1 bottle, 1 cup, 50.7ms\n",
      "0: 384x640 2 persons, 48.1ms\n",
      "0: 384x640 2 persons, 47.0ms\n",
      "0: 384x640 2 persons, 1 bottle, 47.2ms\n",
      "0: 384x640 2 persons, 50.2ms\n",
      "0: 384x640 1 person, 1 bottle, 1 cup, 1 chair, 46.6ms\n",
      "0: 384x640 2 persons, 1 bottle, 43.7ms\n",
      "0: 384x640 2 persons, 55.4ms\n",
      "0: 384x640 2 persons, 48.2ms\n",
      "0: 384x640 2 persons, 51.8ms\n",
      "0: 384x640 2 persons, 1 cup, 63.8ms\n",
      "0: 384x640 2 persons, 48.5ms\n",
      "0: 384x640 2 persons, 42.4ms\n",
      "0: 384x640 2 persons, 46.3ms\n",
      "0: 384x640 2 persons, 1 bottle, 55.6ms\n",
      "0: 384x640 2 persons, 1 bottle, 51.8ms\n",
      "0: 384x640 2 persons, 83.9ms\n",
      "0: 384x640 2 persons, 1 bottle, 48.3ms\n",
      "0: 384x640 2 persons, 44.6ms\n",
      "0: 384x640 2 persons, 1 bottle, 1 cup, 42.3ms\n",
      "0: 384x640 2 persons, 1 bottle, 1 cup, 44.0ms\n",
      "0: 384x640 1 person, 1 bottle, 1 chair, 41.5ms\n",
      "0: 384x640 2 persons, 45.5ms\n",
      "0: 384x640 2 persons, 49.2ms\n",
      "0: 384x640 2 persons, 1 bottle, 40.3ms\n",
      "0: 384x640 2 persons, 35.6ms\n",
      "0: 384x640 2 persons, 37.5ms\n",
      "0: 384x640 2 persons, 1 bottle, 37.0ms\n",
      "0: 384x640 2 persons, 1 bottle, 37.0ms\n",
      "0: 384x640 2 persons, 38.4ms\n",
      "0: 384x640 2 persons, 1 bottle, 38.1ms\n",
      "0: 384x640 2 persons, 37.5ms\n",
      "0: 384x640 2 persons, 37.7ms\n",
      "0: 384x640 2 persons, 1 bottle, 38.9ms\n",
      "0: 384x640 2 persons, 37.6ms\n",
      "0: 384x640 2 persons, 1 bottle, 37.7ms\n",
      "0: 384x640 2 persons, 1 bottle, 35.2ms\n",
      "0: 384x640 2 persons, 1 bottle, 37.4ms\n",
      "0: 384x640 2 persons, 1 bottle, 1 cup, 37.3ms\n",
      "0: 384x640 2 persons, 37.2ms\n",
      "0: 384x640 2 persons, 41.0ms\n",
      "0: 384x640 2 persons, 1 bottle, 51.2ms\n",
      "0: 384x640 2 persons, 42.9ms\n",
      "0: 384x640 2 persons, 1 bottle, 49.7ms\n",
      "0: 384x640 2 persons, 44.9ms\n",
      "0: 384x640 2 persons, 1 bottle, 48.9ms\n",
      "0: 384x640 2 persons, 42.5ms\n",
      "0: 384x640 2 persons, 43.3ms\n",
      "0: 384x640 2 persons, 45.7ms\n",
      "0: 384x640 2 persons, 1 bottle, 44.0ms\n",
      "0: 384x640 2 persons, 59.5ms\n",
      "0: 384x640 2 persons, 1 cup, 97.4ms\n",
      "0: 384x640 2 persons, 1 bottle, 43.9ms\n",
      "0: 384x640 2 persons, 1 bottle, 39.4ms\n",
      "0: 384x640 2 persons, 1 bottle, 41.7ms\n",
      "0: 384x640 2 persons, 35.9ms\n",
      "0: 384x640 2 persons, 1 bottle, 35.3ms\n",
      "0: 384x640 2 persons, 1 bottle, 40.2ms\n",
      "0: 384x640 2 persons, 1 bottle, 43.2ms\n",
      "0: 384x640 2 persons, 1 bottle, 45.5ms\n",
      "0: 384x640 2 persons, 43.7ms\n",
      "0: 384x640 2 persons, 1 bottle, 1 cup, 37.6ms\n",
      "0: 384x640 2 persons, 1 bottle, 1 cup, 40.9ms\n",
      "0: 384x640 2 persons, 1 bottle, 35.6ms\n",
      "0: 384x640 2 persons, 36.5ms\n",
      "0: 384x640 2 persons, 39.2ms\n",
      "0: 384x640 2 persons, 1 bottle, 37.1ms\n",
      "0: 384x640 2 persons, 37.2ms\n",
      "0: 384x640 2 persons, 1 bottle, 36.1ms\n",
      "0: 384x640 2 persons, 1 bottle, 45.9ms\n",
      "0: 384x640 2 persons, 1 bottle, 36.8ms\n",
      "0: 384x640 2 persons, 1 bottle, 36.4ms\n",
      "0: 384x640 2 persons, 36.0ms\n",
      "0: 384x640 2 persons, 1 bottle, 37.7ms\n",
      "0: 384x640 2 persons, 42.2ms\n",
      "0: 384x640 1 person, 1 bottle, 1 chair, 36.1ms\n",
      "0: 384x640 2 persons, 37.9ms\n",
      "0: 384x640 2 persons, 1 bottle, 1 cup, 35.8ms\n",
      "0: 384x640 2 persons, 1 bottle, 36.3ms\n",
      "0: 384x640 2 persons, 1 bottle, 37.0ms\n",
      "0: 384x640 2 persons, 36.1ms\n",
      "0: 384x640 2 persons, 1 bottle, 43.2ms\n",
      "0: 384x640 2 persons, 1 bottle, 37.6ms\n",
      "0: 384x640 2 persons, 46.6ms\n",
      "0: 384x640 2 persons, 1 bottle, 37.0ms\n",
      "0: 384x640 2 persons, 65.5ms\n",
      "0: 384x640 2 persons, 1 bottle, 39.2ms\n",
      "0: 384x640 2 persons, 65.1ms\n",
      "0: 384x640 2 persons, 1 bottle, 52.6ms\n",
      "0: 384x640 2 persons, 1 bottle, 61.2ms\n",
      "0: 384x640 2 persons, 44.5ms\n",
      "0: 384x640 2 persons, 49.5ms\n",
      "0: 384x640 2 persons, 1 bottle, 44.6ms\n",
      "0: 384x640 2 persons, 45.3ms\n",
      "0: 384x640 2 persons, 1 bottle, 43.9ms\n",
      "0: 384x640 2 persons, 1 bottle, 101.2ms\n",
      "0: 384x640 2 persons, 1 bottle, 1 cup, 104.6ms\n",
      "0: 384x640 2 persons, 166.6ms\n",
      "0: 384x640 2 persons, 1 cup, 64.9ms\n",
      "0: 384x640 2 persons, 1 cup, 63.5ms\n",
      "0: 384x640 2 persons, 1 bottle, 67.3ms\n",
      "0: 384x640 2 persons, 1 bottle, 53.7ms\n",
      "0: 384x640 2 persons, 1 bottle, 49.3ms\n",
      "0: 384x640 2 persons, 1 bottle, 44.2ms\n",
      "0: 384x640 2 persons, 1 bottle, 48.8ms\n",
      "0: 384x640 2 persons, 1 bottle, 50.6ms\n",
      "0: 384x640 2 persons, 1 bottle, 58.3ms\n",
      "0: 384x640 2 persons, 1 cup, 116.2ms\n",
      "0: 384x640 2 persons, 1 bottle, 49.9ms\n",
      "0: 384x640 2 persons, 1 bottle, 60.1ms\n",
      "0: 384x640 2 persons, 79.9ms\n",
      "0: 384x640 2 persons, 1 cup, 54.6ms\n",
      "0: 384x640 2 persons, 1 bottle, 47.2ms\n",
      "0: 384x640 2 persons, 1 bottle, 47.8ms\n",
      "0: 384x640 2 persons, 1 bottle, 51.3ms\n",
      "0: 384x640 2 persons, 49.2ms\n",
      "0: 384x640 2 persons, 1 bottle, 48.0ms\n",
      "0: 384x640 2 persons, 1 bottle, 70.2ms\n",
      "0: 384x640 2 persons, 59.3ms\n",
      "0: 384x640 2 persons, 1 cup, 51.7ms\n",
      "0: 384x640 2 persons, 46.2ms\n",
      "0: 384x640 2 persons, 1 bottle, 50.9ms\n",
      "0: 384x640 2 persons, 46.1ms\n",
      "0: 384x640 2 persons, 50.3ms\n",
      "0: 384x640 2 persons, 1 bottle, 43.6ms\n",
      "0: 384x640 2 persons, 42.9ms\n",
      "0: 384x640 2 persons, 39.0ms\n",
      "0: 384x640 2 persons, 47.7ms\n",
      "0: 384x640 2 persons, 43.5ms\n",
      "0: 384x640 2 persons, 1 bottle, 51.5ms\n",
      "0: 384x640 2 persons, 41.1ms\n",
      "0: 384x640 2 persons, 59.4ms\n",
      "0: 384x640 2 persons, 46.1ms\n",
      "0: 384x640 2 persons, 1 bottle, 47.2ms\n",
      "0: 384x640 1 person, 47.0ms\n",
      "0: 384x640 1 person, 1 chair, 47.8ms\n",
      "0: 384x640 2 persons, 1 cup, 48.2ms\n",
      "0: 384x640 1 person, 1 chair, 46.7ms\n",
      "0: 384x640 1 person, 1 chair, 41.2ms\n",
      "0: 384x640 1 person, 1 bottle, 1 chair, 39.0ms\n",
      "0: 384x640 1 person, 1 bottle, 1 chair, 52.1ms\n",
      "0: 384x640 1 person, 1 bottle, 38.7ms\n",
      "0: 384x640 1 person, 1 chair, 118.9ms\n",
      "0: 384x640 1 person, 1 bottle, 1 chair, 45.3ms\n",
      "0: 384x640 1 person, 1 chair, 47.1ms\n",
      "0: 384x640 1 person, 1 bottle, 1 cup, 45.3ms\n",
      "0: 384x640 1 person, 1 bottle, 1 chair, 47.6ms\n",
      "0: 384x640 1 person, 1 chair, 67.4ms\n",
      "0: 384x640 1 person, 1 bottle, 1 chair, 42.0ms\n",
      "0: 384x640 1 person, 1 bottle, 1 chair, 42.2ms\n",
      "0: 384x640 1 person, 1 bottle, 1 cup, 1 chair, 44.1ms\n",
      "0: 384x640 1 person, 47.8ms\n",
      "0: 384x640 1 person, 44.3ms\n",
      "0: 384x640 1 person, 1 bottle, 1 cup, 46.1ms\n",
      "0: 384x640 1 person, 1 bottle, 47.4ms\n",
      "0: 384x640 1 person, 1 bottle, 48.5ms\n",
      "0: 384x640 1 person, 1 bottle, 1 chair, 41.8ms\n",
      "0: 384x640 2 persons, 43.3ms\n",
      "0: 384x640 2 persons, 1 bottle, 44.0ms\n",
      "0: 384x640 2 persons, 1 bottle, 40.5ms\n",
      "0: 384x640 2 persons, 36.8ms\n",
      "0: 384x640 1 person, 1 bottle, 1 chair, 38.8ms\n",
      "0: 384x640 2 persons, 1 cup, 36.3ms\n",
      "0: 384x640 2 persons, 34.9ms\n",
      "0: 384x640 2 persons, 1 bottle, 36.2ms\n",
      "0: 384x640 2 persons, 1 bottle, 36.5ms\n",
      "0: 384x640 2 persons, 1 bottle, 35.8ms\n",
      "0: 384x640 2 persons, 39.3ms\n",
      "0: 384x640 2 persons, 41.0ms\n",
      "0: 384x640 2 persons, 1 bottle, 61.0ms\n",
      "0: 384x640 2 persons, 1 cup, 46.2ms\n",
      "0: 384x640 2 persons, 46.9ms\n",
      "0: 384x640 2 persons, 1 bottle, 63.7ms\n",
      "0: 384x640 2 persons, 1 bottle, 42.5ms\n",
      "0: 384x640 2 persons, 38.9ms\n",
      "0: 384x640 2 persons, 1 bottle, 59.3ms\n",
      "0: 384x640 2 persons, 51.7ms\n",
      "0: 384x640 2 persons, 1 cup, 45.3ms\n",
      "0: 384x640 2 persons, 1 bottle, 39.7ms\n",
      "0: 384x640 2 persons, 44.6ms\n",
      "0: 384x640 2 persons, 43.1ms\n",
      "0: 384x640 2 persons, 1 bottle, 1 cup, 45.3ms\n",
      "0: 384x640 2 persons, 1 cup, 42.0ms\n",
      "0: 384x640 1 person, 1 bottle, 1 cup, 1 chair, 40.9ms\n",
      "0: 384x640 1 person, 1 chair, 40.8ms\n",
      "0: 384x640 1 person, 39.6ms\n",
      "0: 384x640 1 person, 45.4ms\n",
      "0: 384x640 2 persons, 36.9ms\n",
      "0: 384x640 1 person, 37.8ms\n",
      "0: 384x640 1 person, 1 chair, 43.0ms\n",
      "0: 384x640 1 person, 37.5ms\n",
      "0: 384x640 1 person, 39.4ms\n",
      "0: 384x640 1 person, 41.5ms\n",
      "0: 384x640 1 person, 41.9ms\n",
      "0: 384x640 1 person, 38.2ms\n",
      "0: 384x640 1 person, 53.3ms\n",
      "0: 384x640 1 person, 39.7ms\n",
      "0: 384x640 1 person, 40.4ms\n",
      "0: 384x640 1 person, 42.0ms\n",
      "0: 384x640 1 person, 38.6ms\n",
      "0: 384x640 1 person, 36.7ms\n",
      "0: 384x640 1 person, 36.5ms\n",
      "0: 384x640 1 person, 36.2ms\n",
      "0: 384x640 1 person, 35.2ms\n",
      "0: 384x640 1 person, 35.9ms\n",
      "0: 384x640 1 person, 38.1ms\n",
      "0: 384x640 1 person, 65.3ms\n",
      "0: 384x640 1 person, 37.4ms\n",
      "0: 384x640 1 person, 38.8ms\n",
      "0: 384x640 1 person, 40.0ms\n",
      "0: 384x640 1 person, 35.8ms\n",
      "0: 384x640 1 person, 37.3ms\n",
      "0: 384x640 1 person, 37.0ms\n",
      "0: 384x640 1 person, 36.7ms\n",
      "0: 384x640 1 person, 37.3ms\n",
      "0: 384x640 1 person, 37.9ms\n",
      "0: 384x640 1 person, 35.4ms\n",
      "0: 384x640 1 person, 37.2ms\n",
      "0: 384x640 1 person, 37.5ms\n",
      "0: 384x640 1 person, 37.4ms\n",
      "0: 384x640 1 person, 51.7ms\n",
      "0: 384x640 1 person, 37.4ms\n",
      "0: 384x640 1 person, 38.3ms\n",
      "0: 384x640 1 person, 37.7ms\n",
      "0: 384x640 1 person, 36.1ms\n",
      "0: 384x640 1 person, 39.2ms\n",
      "0: 384x640 1 person, 37.2ms\n",
      "0: 384x640 1 person, 46.2ms\n",
      "0: 384x640 1 person, 39.2ms\n",
      "0: 384x640 1 person, 39.5ms\n",
      "0: 384x640 1 person, 37.0ms\n",
      "0: 384x640 1 person, 36.9ms\n",
      "0: 384x640 1 person, 133.4ms\n",
      "0: 384x640 1 person, 51.6ms\n",
      "0: 384x640 1 person, 44.0ms\n",
      "0: 384x640 1 person, 53.0ms\n",
      "0: 384x640 1 person, 49.2ms\n",
      "0: 384x640 1 person, 51.1ms\n",
      "0: 384x640 1 person, 48.9ms\n",
      "0: 384x640 1 person, 65.8ms\n",
      "0: 384x640 1 person, 46.4ms\n",
      "0: 384x640 1 person, 45.8ms\n",
      "0: 384x640 1 person, 44.2ms\n",
      "0: 384x640 1 person, 43.1ms\n",
      "0: 384x640 1 person, 46.9ms\n",
      "0: 384x640 1 person, 44.7ms\n",
      "0: 384x640 1 person, 45.9ms\n",
      "0: 384x640 1 person, 52.3ms\n",
      "0: 384x640 1 person, 44.1ms\n",
      "0: 384x640 1 person, 40.8ms\n",
      "0: 384x640 1 person, 39.9ms\n",
      "0: 384x640 1 person, 37.6ms\n",
      "0: 384x640 1 person, 38.2ms\n",
      "0: 384x640 1 person, 48.3ms\n",
      "0: 384x640 1 person, 47.3ms\n",
      "0: 384x640 1 person, 47.5ms\n",
      "0: 384x640 1 person, 45.6ms\n",
      "0: 384x640 1 person, 45.0ms\n",
      "0: 384x640 1 person, 50.3ms\n",
      "0: 384x640 1 person, 41.6ms\n",
      "0: 384x640 1 person, 50.3ms\n",
      "0: 384x640 1 person, 58.8ms\n",
      "0: 384x640 1 person, 1 chair, 117.7ms\n",
      "0: 384x640 1 person, 74.1ms\n",
      "0: 384x640 1 person, 43.2ms\n",
      "0: 384x640 1 person, 47.9ms\n",
      "0: 384x640 1 person, 53.3ms\n",
      "0: 384x640 1 person, 49.7ms\n",
      "0: 384x640 1 person, 42.1ms\n",
      "0: 384x640 1 person, 52.6ms\n",
      "0: 384x640 1 person, 60.1ms\n",
      "0: 384x640 1 person, 46.1ms\n",
      "0: 384x640 1 person, 45.7ms\n",
      "0: 384x640 1 person, 42.7ms\n",
      "0: 384x640 1 person, 43.4ms\n",
      "0: 384x640 1 person, 43.6ms\n",
      "0: 384x640 1 person, 49.2ms\n",
      "0: 384x640 1 person, 52.5ms\n",
      "0: 384x640 1 person, 45.6ms\n",
      "0: 384x640 1 person, 53.8ms\n",
      "0: 384x640 1 person, 46.7ms\n",
      "0: 384x640 1 person, 43.4ms\n",
      "0: 384x640 1 person, 43.2ms\n",
      "0: 384x640 1 person, 47.5ms\n",
      "0: 384x640 1 person, 44.4ms\n",
      "0: 384x640 1 person, 46.5ms\n",
      "0: 384x640 1 person, 42.3ms\n",
      "0: 384x640 1 person, 59.9ms\n",
      "0: 384x640 1 person, 50.0ms\n",
      "0: 384x640 1 person, 43.6ms\n",
      "0: 384x640 1 person, 56.4ms\n",
      "0: 384x640 1 person, 46.8ms\n",
      "0: 384x640 1 person, 49.3ms\n",
      "0: 384x640 1 person, 42.3ms\n",
      "0: 384x640 1 person, 39.1ms\n",
      "0: 384x640 1 person, 37.7ms\n",
      "0: 384x640 1 person, 41.7ms\n",
      "0: 384x640 1 person, 39.2ms\n",
      "0: 384x640 1 person, 189.4ms\n",
      "0: 384x640 1 person, 87.9ms\n",
      "0: 384x640 1 person, 47.9ms\n",
      "0: 384x640 1 person, 46.1ms\n",
      "0: 384x640 1 person, 45.3ms\n",
      "0: 384x640 1 person, 47.1ms\n",
      "0: 384x640 1 person, 70.7ms\n",
      "0: 384x640 1 person, 71.6ms\n",
      "0: 384x640 1 person, 61.7ms\n",
      "0: 384x640 1 person, 56.2ms\n",
      "0: 384x640 1 person, 117.1ms\n",
      "0: 384x640 1 person, 63.4ms\n",
      "0: 384x640 1 person, 46.2ms\n",
      "0: 384x640 1 person, 48.7ms\n",
      "0: 384x640 1 person, 54.2ms\n",
      "0: 384x640 1 person, 47.1ms\n",
      "0: 384x640 1 person, 44.9ms\n",
      "0: 384x640 1 person, 48.3ms\n",
      "0: 384x640 1 person, 36.1ms\n",
      "0: 384x640 1 person, 43.9ms\n",
      "0: 384x640 1 person, 43.7ms\n",
      "0: 384x640 1 person, 56.7ms\n",
      "0: 384x640 1 person, 1 chair, 83.2ms\n",
      "0: 384x640 1 person, 45.7ms\n",
      "0: 384x640 1 person, 49.7ms\n",
      "0: 384x640 1 person, 40.3ms\n",
      "0: 384x640 1 person, 43.4ms\n",
      "0: 384x640 1 person, 37.0ms\n",
      "0: 384x640 1 person, 49.8ms\n",
      "0: 384x640 1 person, 50.5ms\n",
      "0: 384x640 1 person, 58.6ms\n",
      "0: 384x640 1 person, 1 chair, 54.1ms\n",
      "0: 384x640 1 person, 46.5ms\n",
      "0: 384x640 1 person, 1 chair, 47.2ms\n",
      "0: 384x640 1 person, 49.7ms\n",
      "0: 384x640 1 person, 48.0ms\n",
      "0: 384x640 1 person, 1 chair, 66.7ms\n",
      "0: 384x640 1 person, 61.2ms\n",
      "0: 384x640 1 person, 1 chair, 52.1ms\n",
      "0: 384x640 1 person, 46.8ms\n",
      "0: 384x640 1 person, 45.7ms\n",
      "0: 384x640 1 person, 43.4ms\n",
      "0: 384x640 1 person, 41.7ms\n",
      "0: 384x640 1 person, 45.9ms\n",
      "0: 384x640 1 person, 46.8ms\n",
      "0: 384x640 1 person, 40.7ms\n",
      "0: 384x640 1 person, 1 chair, 41.6ms\n",
      "0: 384x640 1 person, 37.5ms\n",
      "0: 384x640 1 person, 36.8ms\n",
      "0: 384x640 1 person, 41.2ms\n",
      "0: 384x640 1 person, 1 chair, 40.6ms\n",
      "0: 384x640 1 person, 35.5ms\n",
      "0: 384x640 1 person, 39.9ms\n",
      "0: 384x640 1 person, 1 chair, 38.1ms\n",
      "0: 384x640 1 person, 41.7ms\n",
      "0: 384x640 1 person, 45.3ms\n",
      "0: 384x640 1 person, 1 chair, 47.3ms\n",
      "0: 384x640 1 person, 1 chair, 49.6ms\n",
      "0: 384x640 1 person, 40.0ms\n",
      "0: 384x640 1 person, 36.7ms\n",
      "0: 384x640 1 person, 1 chair, 62.1ms\n",
      "0: 384x640 1 person, 37.3ms\n",
      "0: 384x640 1 person, 56.2ms\n",
      "0: 384x640 1 person, 47.3ms\n",
      "0: 384x640 1 person, 48.0ms\n",
      "0: 384x640 1 person, 39.7ms\n",
      "0: 384x640 1 person, 35.2ms\n",
      "0: 384x640 1 person, 36.9ms\n",
      "0: 384x640 1 person, 43.6ms\n",
      "0: 384x640 1 person, 55.5ms\n",
      "0: 384x640 1 person, 38.9ms\n",
      "0: 384x640 1 person, 36.8ms\n",
      "0: 384x640 1 person, 37.1ms\n",
      "0: 384x640 1 person, 38.0ms\n",
      "0: 384x640 1 person, 1 chair, 38.5ms\n",
      "0: 384x640 1 person, 39.3ms\n",
      "0: 384x640 1 person, 37.1ms\n",
      "0: 384x640 1 person, 37.5ms\n",
      "0: 384x640 1 person, 40.3ms\n",
      "0: 384x640 1 person, 39.4ms\n",
      "0: 384x640 1 person, 1 chair, 42.2ms\n",
      "0: 384x640 1 person, 39.1ms\n",
      "0: 384x640 1 person, 36.8ms\n",
      "0: 384x640 1 person, 1 chair, 45.8ms\n",
      "0: 384x640 1 person, 50.8ms\n",
      "0: 384x640 1 person, 37.1ms\n",
      "0: 384x640 1 person, 38.3ms\n",
      "0: 384x640 1 person, 37.7ms\n",
      "0: 384x640 1 person, 44.2ms\n",
      "0: 384x640 1 person, 1 chair, 38.3ms\n",
      "0: 384x640 1 person, 38.9ms\n",
      "0: 384x640 1 person, 39.4ms\n",
      "0: 384x640 1 person, 1 chair, 124.4ms\n",
      "0: 384x640 1 person, 44.7ms\n",
      "0: 384x640 1 person, 1 chair, 50.7ms\n",
      "0: 384x640 1 person, 64.5ms\n",
      "0: 384x640 1 person, 1 chair, 41.7ms\n",
      "0: 384x640 1 person, 37.9ms\n",
      "0: 384x640 1 person, 39.0ms\n",
      "0: 384x640 1 person, 39.2ms\n",
      "0: 384x640 1 person, 41.7ms\n",
      "0: 384x640 1 person, 46.2ms\n",
      "0: 384x640 1 person, 38.8ms\n",
      "0: 384x640 1 person, 62.1ms\n",
      "0: 384x640 1 person, 1 chair, 85.8ms\n",
      "0: 384x640 1 person, 47.2ms\n",
      "0: 384x640 1 person, 36.6ms\n",
      "0: 384x640 1 person, 55.3ms\n",
      "0: 384x640 1 person, 1 chair, 37.0ms\n",
      "0: 384x640 1 person, 38.1ms\n",
      "0: 384x640 1 person, 1 chair, 37.8ms\n",
      "0: 384x640 1 person, 39.3ms\n",
      "0: 384x640 1 person, 1 chair, 36.8ms\n",
      "0: 384x640 1 person, 45.7ms\n",
      "0: 384x640 1 person, 1 chair, 37.0ms\n",
      "0: 384x640 1 person, 45.9ms\n",
      "0: 384x640 1 person, 44.2ms\n",
      "0: 384x640 1 person, 42.4ms\n",
      "0: 384x640 1 person, 1 chair, 45.3ms\n",
      "0: 384x640 1 person, 47.5ms\n",
      "0: 384x640 1 person, 1 chair, 49.4ms\n",
      "0: 384x640 1 person, 1 chair, 48.1ms\n",
      "0: 384x640 1 person, 43.7ms\n",
      "0: 384x640 1 person, 1 chair, 43.9ms\n",
      "0: 384x640 1 person, 63.4ms\n",
      "0: 384x640 1 person, 40.4ms\n",
      "0: 384x640 1 person, 38.4ms\n",
      "0: 384x640 1 person, 52.4ms\n",
      "0: 384x640 1 person, 41.9ms\n",
      "0: 384x640 1 person, 1 chair, 38.6ms\n",
      "0: 384x640 1 person, 39.6ms\n",
      "0: 384x640 1 person, 45.5ms\n",
      "0: 384x640 1 person, 1 chair, 37.1ms\n",
      "0: 384x640 1 person, 40.6ms\n",
      "0: 384x640 1 person, 43.5ms\n",
      "0: 384x640 1 person, 41.7ms\n",
      "0: 384x640 1 person, 1 chair, 43.4ms\n",
      "0: 384x640 1 person, 41.8ms\n",
      "0: 384x640 1 person, 1 chair, 38.3ms\n",
      "0: 384x640 1 person, 1 chair, 39.2ms\n",
      "0: 384x640 1 person, 46.3ms\n",
      "0: 384x640 1 person, 48.9ms\n",
      "0: 384x640 1 person, 50.0ms\n",
      "0: 384x640 1 person, 54.1ms\n",
      "0: 384x640 1 person, 1 chair, 56.9ms\n",
      "0: 384x640 1 person, 50.7ms\n",
      "0: 384x640 1 person, 55.1ms\n",
      "0: 384x640 1 person, 51.0ms\n",
      "0: 384x640 1 person, 46.3ms\n",
      "0: 384x640 1 person, 44.3ms\n",
      "0: 384x640 1 person, 39.1ms\n",
      "0: 384x640 1 person, 52.9ms\n",
      "0: 384x640 1 person, 40.1ms\n",
      "0: 384x640 1 person, 39.4ms\n",
      "0: 384x640 1 person, 41.0ms\n",
      "0: 384x640 1 person, 40.4ms\n",
      "0: 384x640 1 person, 39.5ms\n",
      "0: 384x640 1 person, 40.2ms\n",
      "0: 384x640 1 person, 42.8ms\n",
      "0: 384x640 2 persons, 1 chair, 39.8ms\n",
      "0: 384x640 2 persons, 67.5ms\n",
      "0: 384x640 1 person, 44.1ms\n",
      "0: 384x640 1 person, 1 chair, 46.1ms\n",
      "0: 384x640 2 persons, 1 cup, 46.8ms\n",
      "0: 384x640 1 person, 51.7ms\n",
      "0: 384x640 2 persons, 49.8ms\n",
      "0: 384x640 2 persons, 50.8ms\n",
      "0: 384x640 2 persons, 39.5ms\n",
      "0: 384x640 1 person, 40.2ms\n",
      "0: 384x640 2 persons, 39.2ms\n",
      "0: 384x640 2 persons, 42.8ms\n",
      "0: 384x640 2 persons, 37.3ms\n",
      "0: 384x640 2 persons, 38.8ms\n",
      "0: 384x640 2 persons, 35.1ms\n",
      "0: 384x640 2 persons, 1 cup, 37.1ms\n",
      "0: 384x640 2 persons, 38.3ms\n",
      "0: 384x640 1 person, 1 cup, 1 chair, 39.4ms\n",
      "0: 384x640 2 persons, 44.5ms\n",
      "0: 384x640 2 persons, 42.6ms\n",
      "0: 384x640 1 person, 120.4ms\n",
      "0: 384x640 2 persons, 46.9ms\n",
      "0: 384x640 2 persons, 42.0ms\n",
      "0: 384x640 1 person, 42.1ms\n",
      "0: 384x640 2 persons, 1 cup, 38.1ms\n",
      "0: 384x640 2 persons, 37.9ms\n",
      "0: 384x640 2 persons, 1 cup, 41.3ms\n",
      "0: 384x640 2 persons, 38.8ms\n",
      "0: 384x640 2 persons, 36.3ms\n",
      "0: 384x640 2 persons, 36.8ms\n",
      "0: 384x640 2 persons, 42.2ms\n",
      "0: 384x640 1 person, 36.7ms\n",
      "0: 384x640 2 persons, 37.6ms\n",
      "0: 384x640 2 persons, 35.8ms\n",
      "0: 384x640 2 persons, 1 cup, 53.9ms\n",
      "0: 384x640 2 persons, 53.2ms\n",
      "0: 384x640 2 persons, 42.2ms\n",
      "0: 384x640 1 person, 1 cup, 43.9ms\n",
      "0: 384x640 2 persons, 49.3ms\n",
      "0: 384x640 1 person, 45.2ms\n",
      "0: 384x640 2 persons, 42.8ms\n",
      "0: 384x640 1 person, 1 cup, 43.6ms\n",
      "0: 384x640 2 persons, 50.3ms\n",
      "0: 384x640 2 persons, 41.7ms\n",
      "0: 384x640 2 persons, 1 cup, 49.5ms\n",
      "0: 384x640 2 persons, 40.7ms\n",
      "0: 384x640 2 persons, 53.4ms\n",
      "0: 384x640 2 persons, 1 cup, 37.6ms\n",
      "0: 384x640 2 persons, 36.9ms\n",
      "0: 384x640 2 persons, 35.9ms\n",
      "0: 384x640 2 persons, 35.2ms\n",
      "0: 384x640 2 persons, 1 cup, 37.2ms\n",
      "0: 384x640 2 persons, 1 cup, 34.8ms\n",
      "0: 384x640 2 persons, 37.1ms\n",
      "0: 384x640 2 persons, 1 cup, 38.1ms\n",
      "0: 384x640 2 persons, 35.1ms\n",
      "0: 384x640 1 person, 1 cup, 36.5ms\n",
      "0: 384x640 2 persons, 1 cup, 37.1ms\n",
      "0: 384x640 2 persons, 36.7ms\n",
      "0: 384x640 2 persons, 36.7ms\n",
      "0: 384x640 2 persons, 1 cup, 35.9ms\n",
      "0: 384x640 2 persons, 36.3ms\n",
      "0: 384x640 2 persons, 36.2ms\n",
      "0: 384x640 2 persons, 1 cup, 36.4ms\n",
      "0: 384x640 2 persons, 38.4ms\n",
      "0: 384x640 2 persons, 36.6ms\n",
      "0: 384x640 2 persons, 38.7ms\n",
      "0: 384x640 2 persons, 37.7ms\n",
      "0: 384x640 2 persons, 35.5ms\n",
      "0: 384x640 2 persons, 1 cup, 51.9ms\n",
      "0: 384x640 2 persons, 34.9ms\n",
      "0: 384x640 1 person, 39.2ms\n",
      "0: 384x640 2 persons, 36.7ms\n",
      "0: 384x640 2 persons, 36.0ms\n",
      "0: 384x640 2 persons, 37.1ms\n",
      "0: 384x640 2 persons, 1 cup, 38.1ms\n",
      "0: 384x640 2 persons, 44.3ms\n",
      "0: 384x640 2 persons, 37.5ms\n",
      "0: 384x640 2 persons, 36.5ms\n",
      "0: 384x640 2 persons, 38.7ms\n",
      "0: 384x640 2 persons, 37.5ms\n",
      "0: 384x640 2 persons, 1 cup, 37.4ms\n",
      "0: 384x640 2 persons, 43.8ms\n",
      "0: 384x640 2 persons, 46.5ms\n",
      "0: 384x640 2 persons, 42.2ms\n",
      "0: 384x640 2 persons, 1 cup, 42.8ms\n",
      "0: 384x640 2 persons, 1 cup, 57.6ms\n",
      "0: 384x640 2 persons, 56.3ms\n",
      "0: 384x640 2 persons, 57.2ms\n",
      "0: 384x640 2 persons, 58.6ms\n",
      "0: 384x640 2 persons, 1 cup, 51.2ms\n",
      "0: 384x640 2 persons, 1 chair, 53.1ms\n",
      "0: 384x640 2 persons, 53.6ms\n",
      "0: 384x640 2 persons, 47.0ms\n",
      "0: 384x640 2 persons, 1 cup, 49.6ms\n",
      "0: 384x640 2 persons, 1 cup, 59.1ms\n",
      "0: 384x640 1 person, 1 cup, 49.5ms\n",
      "0: 384x640 2 persons, 37.0ms\n",
      "0: 384x640 2 persons, 37.7ms\n",
      "0: 384x640 2 persons, 46.1ms\n",
      "0: 384x640 2 persons, 1 cup, 43.2ms\n",
      "0: 384x640 2 persons, 77.0ms\n",
      "0: 384x640 2 persons, 43.9ms\n",
      "0: 384x640 2 persons, 1 cup, 45.0ms\n",
      "0: 384x640 2 persons, 1 cup, 46.9ms\n",
      "0: 384x640 2 persons, 42.6ms\n",
      "0: 384x640 2 persons, 45.1ms\n",
      "0: 384x640 1 person, 43.6ms\n",
      "0: 384x640 2 persons, 41.6ms\n",
      "0: 384x640 2 persons, 128.5ms\n",
      "0: 384x640 2 persons, 49.4ms\n",
      "0: 384x640 2 persons, 49.5ms\n",
      "0: 384x640 2 persons, 38.2ms\n",
      "0: 384x640 2 persons, 46.1ms\n",
      "0: 384x640 2 persons, 39.7ms\n",
      "0: 384x640 2 persons, 65.3ms\n",
      "0: 384x640 2 persons, 77.9ms\n",
      "0: 384x640 2 persons, 1 cup, 39.4ms\n",
      "0: 384x640 2 persons, 1 cup, 46.8ms\n",
      "0: 384x640 2 persons, 1 cup, 39.1ms\n",
      "0: 384x640 1 person, 1 cup, 35.9ms\n",
      "0: 384x640 2 persons, 40.3ms\n",
      "0: 384x640 2 persons, 47.1ms\n",
      "0: 384x640 2 persons, 1 cup, 55.3ms\n",
      "0: 384x640 2 persons, 51.5ms\n",
      "0: 384x640 1 person, 1 cup, 50.0ms\n",
      "0: 384x640 2 persons, 44.9ms\n",
      "0: 384x640 1 person, 1 cup, 39.3ms\n",
      "0: 384x640 2 persons, 36.1ms\n",
      "0: 384x640 2 persons, 42.2ms\n",
      "0: 384x640 1 person, 41.0ms\n",
      "0: 384x640 2 persons, 1 cup, 40.8ms\n",
      "0: 384x640 2 persons, 50.9ms\n",
      "0: 384x640 2 persons, 46.1ms\n",
      "0: 384x640 2 persons, 48.3ms\n",
      "0: 384x640 2 persons, 39.3ms\n",
      "0: 384x640 2 persons, 43.2ms\n",
      "0: 384x640 2 persons, 1 cup, 42.1ms\n",
      "0: 384x640 2 persons, 1 cup, 47.3ms\n",
      "0: 384x640 1 person, 1 cup, 1 chair, 44.1ms\n",
      "0: 384x640 2 persons, 45.0ms\n",
      "0: 384x640 2 persons, 1 cup, 62.8ms\n",
      "0: 384x640 2 persons, 55.6ms\n",
      "0: 384x640 2 persons, 1 cup, 43.6ms\n",
      "0: 384x640 2 persons, 1 cup, 49.0ms\n",
      "0: 384x640 2 persons, 50.3ms\n",
      "0: 384x640 2 persons, 238.6ms\n",
      "0: 384x640 1 person, 1 cup, 64.7ms\n",
      "0: 384x640 1 person, 1 cup, 58.7ms\n",
      "0: 384x640 2 persons, 54.8ms\n",
      "0: 384x640 2 persons, 58.7ms\n",
      "0: 384x640 2 persons, 51.5ms\n",
      "0: 384x640 2 persons, 60.5ms\n",
      "0: 384x640 2 persons, 56.1ms\n",
      "0: 384x640 2 persons, 1 cup, 61.1ms\n",
      "0: 384x640 1 person, 78.8ms\n",
      "0: 384x640 2 persons, 61.9ms\n",
      "0: 384x640 2 persons, 58.6ms\n",
      "0: 384x640 2 persons, 1 cup, 64.3ms\n",
      "0: 384x640 2 persons, 1 cup, 55.1ms\n",
      "0: 384x640 2 persons, 80.7ms\n",
      "0: 384x640 2 persons, 55.0ms\n",
      "0: 384x640 2 persons, 1 cup, 96.8ms\n",
      "0: 384x640 2 persons, 55.2ms\n",
      "0: 384x640 2 persons, 1 cup, 65.8ms\n",
      "0: 384x640 2 persons, 58.9ms\n",
      "0: 384x640 2 persons, 55.3ms\n",
      "0: 384x640 2 persons, 48.9ms\n",
      "0: 384x640 2 persons, 58.6ms\n",
      "0: 384x640 1 person, 45.8ms\n",
      "0: 384x640 2 persons, 47.4ms\n",
      "0: 384x640 2 persons, 1 cup, 40.6ms\n",
      "0: 384x640 1 person, 1 cup, 66.4ms\n",
      "0: 384x640 2 persons, 63.4ms\n",
      "0: 384x640 2 persons, 56.6ms\n",
      "0: 384x640 1 person, 59.6ms\n",
      "0: 384x640 2 persons, 1 cup, 56.0ms\n",
      "0: 384x640 2 persons, 1 cup, 47.3ms\n",
      "0: 384x640 2 persons, 1 cup, 53.4ms\n",
      "0: 384x640 1 person, 44.8ms\n",
      "0: 384x640 2 persons, 57.0ms\n",
      "0: 384x640 2 persons, 44.9ms\n",
      "0: 384x640 1 person, 45.3ms\n",
      "0: 384x640 2 persons, 1 cup, 43.1ms\n",
      "0: 384x640 1 person, 44.2ms\n",
      "0: 384x640 2 persons, 50.1ms\n",
      "0: 384x640 2 persons, 50.8ms\n",
      "0: 384x640 1 person, 1 cup, 50.7ms\n",
      "0: 384x640 2 persons, 46.3ms\n",
      "0: 384x640 2 persons, 47.8ms\n",
      "0: 384x640 2 persons, 40.1ms\n",
      "0: 384x640 1 person, 1 chair, 49.8ms\n",
      "0: 384x640 2 persons, 59.9ms\n",
      "0: 384x640 2 persons, 47.3ms\n",
      "0: 384x640 2 persons, 1 cup, 50.2ms\n",
      "0: 384x640 2 persons, 133.8ms\n",
      "0: 384x640 2 persons, 1 cup, 51.4ms\n",
      "0: 384x640 2 persons, 49.0ms\n",
      "0: 384x640 2 persons, 52.5ms\n",
      "0: 384x640 2 persons, 79.3ms\n",
      "0: 384x640 1 person, 50.8ms\n",
      "0: 384x640 2 persons, 52.7ms\n",
      "0: 384x640 2 persons, 1 cup, 39.7ms\n",
      "0: 384x640 2 persons, 37.3ms\n",
      "0: 384x640 2 persons, 38.6ms\n",
      "0: 384x640 1 person, 1 cup, 38.3ms\n",
      "0: 384x640 1 person, 42.7ms\n",
      "0: 384x640 2 persons, 37.7ms\n",
      "0: 384x640 2 persons, 1 cup, 39.1ms\n",
      "0: 384x640 2 persons, 1 cup, 37.1ms\n",
      "0: 384x640 2 persons, 1 cup, 37.8ms\n",
      "0: 384x640 2 persons, 1 cup, 41.4ms\n",
      "0: 384x640 2 persons, 1 cup, 47.5ms\n",
      "0: 384x640 2 persons, 43.0ms\n",
      "0: 384x640 2 persons, 37.5ms\n",
      "0: 384x640 2 persons, 43.3ms\n",
      "0: 384x640 2 persons, 1 cup, 42.2ms\n",
      "0: 384x640 2 persons, 1 cup, 43.5ms\n",
      "0: 384x640 2 persons, 1 cup, 49.0ms\n",
      "0: 384x640 2 persons, 1 cup, 42.7ms\n",
      "0: 384x640 2 persons, 47.7ms\n",
      "0: 384x640 2 persons, 54.0ms\n",
      "0: 384x640 2 persons, 46.1ms\n",
      "0: 384x640 2 persons, 43.5ms\n",
      "0: 384x640 2 persons, 48.4ms\n",
      "0: 384x640 2 persons, 1 cup, 40.2ms\n",
      "0: 384x640 2 persons, 44.2ms\n",
      "0: 384x640 2 persons, 1 cup, 38.9ms\n",
      "0: 384x640 2 persons, 1 cup, 40.1ms\n",
      "0: 384x640 2 persons, 44.4ms\n",
      "0: 384x640 2 persons, 43.7ms\n",
      "0: 384x640 2 persons, 38.1ms\n",
      "0: 384x640 2 persons, 1 cup, 41.7ms\n",
      "0: 384x640 2 persons, 39.9ms\n",
      "0: 384x640 2 persons, 1 cup, 42.1ms\n",
      "0: 384x640 2 persons, 1 cup, 38.9ms\n",
      "0: 384x640 2 persons, 38.0ms\n",
      "0: 384x640 2 persons, 1 cup, 38.1ms\n",
      "0: 384x640 2 persons, 1 cup, 40.3ms\n",
      "0: 384x640 2 persons, 38.2ms\n",
      "0: 384x640 1 person, 38.6ms\n",
      "0: 384x640 2 persons, 1 cup, 37.5ms\n",
      "0: 384x640 2 persons, 38.0ms\n",
      "0: 384x640 2 persons, 37.7ms\n",
      "0: 384x640 2 persons, 35.4ms\n",
      "0: 384x640 2 persons, 1 cup, 38.6ms\n",
      "0: 384x640 2 persons, 40.4ms\n",
      "0: 384x640 1 person, 1 cup, 36.4ms\n",
      "0: 384x640 2 persons, 36.3ms\n",
      "0: 384x640 2 persons, 39.2ms\n",
      "0: 384x640 2 persons, 1 cup, 37.4ms\n",
      "0: 384x640 2 persons, 44.2ms\n",
      "0: 384x640 2 persons, 1 cup, 37.4ms\n",
      "0: 384x640 2 persons, 1 cup, 37.0ms\n",
      "0: 384x640 2 persons, 37.2ms\n",
      "0: 384x640 2 persons, 67.7ms\n",
      "0: 384x640 2 persons, 1 cup, 38.3ms\n",
      "0: 384x640 2 persons, 39.2ms\n",
      "0: 384x640 2 persons, 1 chair, 88.2ms\n",
      "0: 384x640 1 person, 1 cup, 64.7ms\n",
      "0: 384x640 2 persons, 1 cup, 51.7ms\n",
      "0: 384x640 2 persons, 44.7ms\n",
      "0: 384x640 2 persons, 45.1ms\n",
      "0: 384x640 2 persons, 45.2ms\n",
      "0: 384x640 2 persons, 1 cup, 45.1ms\n",
      "0: 384x640 2 persons, 50.7ms\n",
      "0: 384x640 2 persons, 1 chair, 46.9ms\n",
      "0: 384x640 2 persons, 46.0ms\n",
      "0: 384x640 2 persons, 50.1ms\n",
      "0: 384x640 1 person, 47.4ms\n",
      "0: 384x640 2 persons, 1 cup, 44.2ms\n",
      "0: 384x640 2 persons, 1 cup, 71.8ms\n",
      "0: 384x640 2 persons, 53.6ms\n",
      "0: 384x640 2 persons, 1 cup, 49.4ms\n",
      "0: 384x640 2 persons, 47.1ms\n",
      "0: 384x640 2 persons, 43.1ms\n",
      "0: 384x640 2 persons, 1 cup, 58.3ms\n",
      "0: 384x640 2 persons, 36.0ms\n",
      "0: 384x640 2 persons, 42.9ms\n",
      "0: 384x640 2 persons, 1 cup, 36.3ms\n",
      "0: 384x640 2 persons, 1 cup, 50.2ms\n",
      "0: 384x640 2 persons, 36.9ms\n",
      "0: 384x640 2 persons, 37.8ms\n",
      "0: 384x640 2 persons, 1 cup, 35.1ms\n",
      "0: 384x640 2 persons, 37.9ms\n",
      "0: 384x640 2 persons, 35.7ms\n",
      "0: 384x640 2 persons, 1 cup, 51.4ms\n",
      "0: 384x640 2 persons, 47.4ms\n",
      "0: 384x640 2 persons, 1 cup, 41.5ms\n",
      "0: 384x640 2 persons, 153.6ms\n",
      "0: 384x640 2 persons, 195.7ms\n"
     ]
    },
    {
     "ename": "KeyboardInterrupt",
     "evalue": "",
     "output_type": "error",
     "traceback": [
      "\u001b[0;31m---------------------------------------------------------------------------\u001b[0m",
      "\u001b[0;31mKeyboardInterrupt\u001b[0m                         Traceback (most recent call last)",
      "Cell \u001b[0;32mIn[20], line 1\u001b[0m\n\u001b[0;32m----> 1\u001b[0m results \u001b[38;5;241m=\u001b[39m model\u001b[38;5;241m.\u001b[39mpredict(source\u001b[38;5;241m=\u001b[39m\u001b[38;5;241m0\u001b[39m, show\u001b[38;5;241m=\u001b[39m\u001b[38;5;28;01mTrue\u001b[39;00m)\n",
      "File \u001b[0;32m/opt/anaconda3/lib/python3.11/site-packages/ultralytics/engine/model.py:560\u001b[0m, in \u001b[0;36mModel.predict\u001b[0;34m(self, source, stream, predictor, **kwargs)\u001b[0m\n\u001b[1;32m    558\u001b[0m \u001b[38;5;28;01mif\u001b[39;00m prompts \u001b[38;5;129;01mand\u001b[39;00m \u001b[38;5;28mhasattr\u001b[39m(\u001b[38;5;28mself\u001b[39m\u001b[38;5;241m.\u001b[39mpredictor, \u001b[38;5;124m\"\u001b[39m\u001b[38;5;124mset_prompts\u001b[39m\u001b[38;5;124m\"\u001b[39m):  \u001b[38;5;66;03m# for SAM-type models\u001b[39;00m\n\u001b[1;32m    559\u001b[0m     \u001b[38;5;28mself\u001b[39m\u001b[38;5;241m.\u001b[39mpredictor\u001b[38;5;241m.\u001b[39mset_prompts(prompts)\n\u001b[0;32m--> 560\u001b[0m \u001b[38;5;28;01mreturn\u001b[39;00m \u001b[38;5;28mself\u001b[39m\u001b[38;5;241m.\u001b[39mpredictor\u001b[38;5;241m.\u001b[39mpredict_cli(source\u001b[38;5;241m=\u001b[39msource) \u001b[38;5;28;01mif\u001b[39;00m is_cli \u001b[38;5;28;01melse\u001b[39;00m \u001b[38;5;28mself\u001b[39m\u001b[38;5;241m.\u001b[39mpredictor(source\u001b[38;5;241m=\u001b[39msource, stream\u001b[38;5;241m=\u001b[39mstream)\n",
      "File \u001b[0;32m/opt/anaconda3/lib/python3.11/site-packages/ultralytics/engine/predictor.py:175\u001b[0m, in \u001b[0;36mBasePredictor.__call__\u001b[0;34m(self, source, model, stream, *args, **kwargs)\u001b[0m\n\u001b[1;32m    173\u001b[0m     \u001b[38;5;28;01mreturn\u001b[39;00m \u001b[38;5;28mself\u001b[39m\u001b[38;5;241m.\u001b[39mstream_inference(source, model, \u001b[38;5;241m*\u001b[39margs, \u001b[38;5;241m*\u001b[39m\u001b[38;5;241m*\u001b[39mkwargs)\n\u001b[1;32m    174\u001b[0m \u001b[38;5;28;01melse\u001b[39;00m:\n\u001b[0;32m--> 175\u001b[0m     \u001b[38;5;28;01mreturn\u001b[39;00m \u001b[38;5;28mlist\u001b[39m(\u001b[38;5;28mself\u001b[39m\u001b[38;5;241m.\u001b[39mstream_inference(source, model, \u001b[38;5;241m*\u001b[39margs, \u001b[38;5;241m*\u001b[39m\u001b[38;5;241m*\u001b[39mkwargs))\n",
      "File \u001b[0;32m/opt/anaconda3/lib/python3.11/site-packages/torch/utils/_contextlib.py:57\u001b[0m, in \u001b[0;36m_wrap_generator.<locals>.generator_context\u001b[0;34m(*args, **kwargs)\u001b[0m\n\u001b[1;32m     54\u001b[0m         \u001b[38;5;28;01melse\u001b[39;00m:\n\u001b[1;32m     55\u001b[0m             \u001b[38;5;66;03m# Pass the last request to the generator and get its response\u001b[39;00m\n\u001b[1;32m     56\u001b[0m             \u001b[38;5;28;01mwith\u001b[39;00m ctx_factory():\n\u001b[0;32m---> 57\u001b[0m                 response \u001b[38;5;241m=\u001b[39m gen\u001b[38;5;241m.\u001b[39msend(request)\n\u001b[1;32m     59\u001b[0m \u001b[38;5;66;03m# We let the exceptions raised above by the generator's `.throw` or\u001b[39;00m\n\u001b[1;32m     60\u001b[0m \u001b[38;5;66;03m# `.send` methods bubble up to our caller, except for StopIteration\u001b[39;00m\n\u001b[1;32m     61\u001b[0m \u001b[38;5;28;01mexcept\u001b[39;00m \u001b[38;5;167;01mStopIteration\u001b[39;00m \u001b[38;5;28;01mas\u001b[39;00m e:\n\u001b[1;32m     62\u001b[0m     \u001b[38;5;66;03m# The generator informed us that it is done: take whatever its\u001b[39;00m\n\u001b[1;32m     63\u001b[0m     \u001b[38;5;66;03m# returned value (if any) was and indicate that we're done too\u001b[39;00m\n\u001b[1;32m     64\u001b[0m     \u001b[38;5;66;03m# by returning it (see docs for python's return-statement).\u001b[39;00m\n",
      "File \u001b[0;32m/opt/anaconda3/lib/python3.11/site-packages/ultralytics/engine/predictor.py:261\u001b[0m, in \u001b[0;36mBasePredictor.stream_inference\u001b[0;34m(self, source, model, *args, **kwargs)\u001b[0m\n\u001b[1;32m    259\u001b[0m \u001b[38;5;66;03m# Inference\u001b[39;00m\n\u001b[1;32m    260\u001b[0m \u001b[38;5;28;01mwith\u001b[39;00m profilers[\u001b[38;5;241m1\u001b[39m]:\n\u001b[0;32m--> 261\u001b[0m     preds \u001b[38;5;241m=\u001b[39m \u001b[38;5;28mself\u001b[39m\u001b[38;5;241m.\u001b[39minference(im, \u001b[38;5;241m*\u001b[39margs, \u001b[38;5;241m*\u001b[39m\u001b[38;5;241m*\u001b[39mkwargs)\n\u001b[1;32m    262\u001b[0m     \u001b[38;5;28;01mif\u001b[39;00m \u001b[38;5;28mself\u001b[39m\u001b[38;5;241m.\u001b[39margs\u001b[38;5;241m.\u001b[39membed:\n\u001b[1;32m    263\u001b[0m         \u001b[38;5;28;01myield from\u001b[39;00m [preds] \u001b[38;5;28;01mif\u001b[39;00m \u001b[38;5;28misinstance\u001b[39m(preds, torch\u001b[38;5;241m.\u001b[39mTensor) \u001b[38;5;28;01melse\u001b[39;00m preds  \u001b[38;5;66;03m# yield embedding tensors\u001b[39;00m\n",
      "File \u001b[0;32m/opt/anaconda3/lib/python3.11/site-packages/ultralytics/engine/predictor.py:145\u001b[0m, in \u001b[0;36mBasePredictor.inference\u001b[0;34m(self, im, *args, **kwargs)\u001b[0m\n\u001b[1;32m    139\u001b[0m \u001b[38;5;250m\u001b[39m\u001b[38;5;124;03m\"\"\"Runs inference on a given image using the specified model and arguments.\"\"\"\u001b[39;00m\n\u001b[1;32m    140\u001b[0m visualize \u001b[38;5;241m=\u001b[39m (\n\u001b[1;32m    141\u001b[0m     increment_path(\u001b[38;5;28mself\u001b[39m\u001b[38;5;241m.\u001b[39msave_dir \u001b[38;5;241m/\u001b[39m Path(\u001b[38;5;28mself\u001b[39m\u001b[38;5;241m.\u001b[39mbatch[\u001b[38;5;241m0\u001b[39m][\u001b[38;5;241m0\u001b[39m])\u001b[38;5;241m.\u001b[39mstem, mkdir\u001b[38;5;241m=\u001b[39m\u001b[38;5;28;01mTrue\u001b[39;00m)\n\u001b[1;32m    142\u001b[0m     \u001b[38;5;28;01mif\u001b[39;00m \u001b[38;5;28mself\u001b[39m\u001b[38;5;241m.\u001b[39margs\u001b[38;5;241m.\u001b[39mvisualize \u001b[38;5;129;01mand\u001b[39;00m (\u001b[38;5;129;01mnot\u001b[39;00m \u001b[38;5;28mself\u001b[39m\u001b[38;5;241m.\u001b[39msource_type\u001b[38;5;241m.\u001b[39mtensor)\n\u001b[1;32m    143\u001b[0m     \u001b[38;5;28;01melse\u001b[39;00m \u001b[38;5;28;01mFalse\u001b[39;00m\n\u001b[1;32m    144\u001b[0m )\n\u001b[0;32m--> 145\u001b[0m \u001b[38;5;28;01mreturn\u001b[39;00m \u001b[38;5;28mself\u001b[39m\u001b[38;5;241m.\u001b[39mmodel(im, augment\u001b[38;5;241m=\u001b[39m\u001b[38;5;28mself\u001b[39m\u001b[38;5;241m.\u001b[39margs\u001b[38;5;241m.\u001b[39maugment, visualize\u001b[38;5;241m=\u001b[39mvisualize, embed\u001b[38;5;241m=\u001b[39m\u001b[38;5;28mself\u001b[39m\u001b[38;5;241m.\u001b[39margs\u001b[38;5;241m.\u001b[39membed, \u001b[38;5;241m*\u001b[39margs, \u001b[38;5;241m*\u001b[39m\u001b[38;5;241m*\u001b[39mkwargs)\n",
      "File \u001b[0;32m/opt/anaconda3/lib/python3.11/site-packages/torch/nn/modules/module.py:1739\u001b[0m, in \u001b[0;36mModule._wrapped_call_impl\u001b[0;34m(self, *args, **kwargs)\u001b[0m\n\u001b[1;32m   1737\u001b[0m     \u001b[38;5;28;01mreturn\u001b[39;00m \u001b[38;5;28mself\u001b[39m\u001b[38;5;241m.\u001b[39m_compiled_call_impl(\u001b[38;5;241m*\u001b[39margs, \u001b[38;5;241m*\u001b[39m\u001b[38;5;241m*\u001b[39mkwargs)  \u001b[38;5;66;03m# type: ignore[misc]\u001b[39;00m\n\u001b[1;32m   1738\u001b[0m \u001b[38;5;28;01melse\u001b[39;00m:\n\u001b[0;32m-> 1739\u001b[0m     \u001b[38;5;28;01mreturn\u001b[39;00m \u001b[38;5;28mself\u001b[39m\u001b[38;5;241m.\u001b[39m_call_impl(\u001b[38;5;241m*\u001b[39margs, \u001b[38;5;241m*\u001b[39m\u001b[38;5;241m*\u001b[39mkwargs)\n",
      "File \u001b[0;32m/opt/anaconda3/lib/python3.11/site-packages/torch/nn/modules/module.py:1750\u001b[0m, in \u001b[0;36mModule._call_impl\u001b[0;34m(self, *args, **kwargs)\u001b[0m\n\u001b[1;32m   1745\u001b[0m \u001b[38;5;66;03m# If we don't have any hooks, we want to skip the rest of the logic in\u001b[39;00m\n\u001b[1;32m   1746\u001b[0m \u001b[38;5;66;03m# this function, and just call forward.\u001b[39;00m\n\u001b[1;32m   1747\u001b[0m \u001b[38;5;28;01mif\u001b[39;00m \u001b[38;5;129;01mnot\u001b[39;00m (\u001b[38;5;28mself\u001b[39m\u001b[38;5;241m.\u001b[39m_backward_hooks \u001b[38;5;129;01mor\u001b[39;00m \u001b[38;5;28mself\u001b[39m\u001b[38;5;241m.\u001b[39m_backward_pre_hooks \u001b[38;5;129;01mor\u001b[39;00m \u001b[38;5;28mself\u001b[39m\u001b[38;5;241m.\u001b[39m_forward_hooks \u001b[38;5;129;01mor\u001b[39;00m \u001b[38;5;28mself\u001b[39m\u001b[38;5;241m.\u001b[39m_forward_pre_hooks\n\u001b[1;32m   1748\u001b[0m         \u001b[38;5;129;01mor\u001b[39;00m _global_backward_pre_hooks \u001b[38;5;129;01mor\u001b[39;00m _global_backward_hooks\n\u001b[1;32m   1749\u001b[0m         \u001b[38;5;129;01mor\u001b[39;00m _global_forward_hooks \u001b[38;5;129;01mor\u001b[39;00m _global_forward_pre_hooks):\n\u001b[0;32m-> 1750\u001b[0m     \u001b[38;5;28;01mreturn\u001b[39;00m forward_call(\u001b[38;5;241m*\u001b[39margs, \u001b[38;5;241m*\u001b[39m\u001b[38;5;241m*\u001b[39mkwargs)\n\u001b[1;32m   1752\u001b[0m result \u001b[38;5;241m=\u001b[39m \u001b[38;5;28;01mNone\u001b[39;00m\n\u001b[1;32m   1753\u001b[0m called_always_called_hooks \u001b[38;5;241m=\u001b[39m \u001b[38;5;28mset\u001b[39m()\n",
      "File \u001b[0;32m/opt/anaconda3/lib/python3.11/site-packages/ultralytics/nn/autobackend.py:556\u001b[0m, in \u001b[0;36mforward\u001b[0;34m(self, im, augment, visualize, embed)\u001b[0m\n\u001b[1;32m    553\u001b[0m     im \u001b[38;5;241m=\u001b[39m im\u001b[38;5;241m.\u001b[39mpermute(\u001b[38;5;241m0\u001b[39m, \u001b[38;5;241m2\u001b[39m, \u001b[38;5;241m3\u001b[39m, \u001b[38;5;241m1\u001b[39m)  \u001b[38;5;66;03m# torch BCHW to numpy BHWC shape(1,320,192,3)\u001b[39;00m\n\u001b[1;32m    555\u001b[0m \u001b[38;5;66;03m# PyTorch\u001b[39;00m\n\u001b[0;32m--> 556\u001b[0m \u001b[38;5;28;01mif\u001b[39;00m \u001b[38;5;28mself\u001b[39m\u001b[38;5;241m.\u001b[39mpt \u001b[38;5;129;01mor\u001b[39;00m \u001b[38;5;28mself\u001b[39m\u001b[38;5;241m.\u001b[39mnn_module:\n\u001b[1;32m    557\u001b[0m     y \u001b[38;5;241m=\u001b[39m \u001b[38;5;28mself\u001b[39m\u001b[38;5;241m.\u001b[39mmodel(im, augment\u001b[38;5;241m=\u001b[39maugment, visualize\u001b[38;5;241m=\u001b[39mvisualize, embed\u001b[38;5;241m=\u001b[39membed)\n\u001b[1;32m    559\u001b[0m \u001b[38;5;66;03m# TorchScript\u001b[39;00m\n",
      "File \u001b[0;32m/opt/anaconda3/lib/python3.11/site-packages/torch/nn/modules/module.py:1739\u001b[0m, in \u001b[0;36mModule._wrapped_call_impl\u001b[0;34m(self, *args, **kwargs)\u001b[0m\n\u001b[1;32m   1737\u001b[0m     \u001b[38;5;28;01mreturn\u001b[39;00m \u001b[38;5;28mself\u001b[39m\u001b[38;5;241m.\u001b[39m_compiled_call_impl(\u001b[38;5;241m*\u001b[39margs, \u001b[38;5;241m*\u001b[39m\u001b[38;5;241m*\u001b[39mkwargs)  \u001b[38;5;66;03m# type: ignore[misc]\u001b[39;00m\n\u001b[1;32m   1738\u001b[0m \u001b[38;5;28;01melse\u001b[39;00m:\n\u001b[0;32m-> 1739\u001b[0m     \u001b[38;5;28;01mreturn\u001b[39;00m \u001b[38;5;28mself\u001b[39m\u001b[38;5;241m.\u001b[39m_call_impl(\u001b[38;5;241m*\u001b[39margs, \u001b[38;5;241m*\u001b[39m\u001b[38;5;241m*\u001b[39mkwargs)\n",
      "File \u001b[0;32m/opt/anaconda3/lib/python3.11/site-packages/torch/nn/modules/module.py:1750\u001b[0m, in \u001b[0;36mModule._call_impl\u001b[0;34m(self, *args, **kwargs)\u001b[0m\n\u001b[1;32m   1745\u001b[0m \u001b[38;5;66;03m# If we don't have any hooks, we want to skip the rest of the logic in\u001b[39;00m\n\u001b[1;32m   1746\u001b[0m \u001b[38;5;66;03m# this function, and just call forward.\u001b[39;00m\n\u001b[1;32m   1747\u001b[0m \u001b[38;5;28;01mif\u001b[39;00m \u001b[38;5;129;01mnot\u001b[39;00m (\u001b[38;5;28mself\u001b[39m\u001b[38;5;241m.\u001b[39m_backward_hooks \u001b[38;5;129;01mor\u001b[39;00m \u001b[38;5;28mself\u001b[39m\u001b[38;5;241m.\u001b[39m_backward_pre_hooks \u001b[38;5;129;01mor\u001b[39;00m \u001b[38;5;28mself\u001b[39m\u001b[38;5;241m.\u001b[39m_forward_hooks \u001b[38;5;129;01mor\u001b[39;00m \u001b[38;5;28mself\u001b[39m\u001b[38;5;241m.\u001b[39m_forward_pre_hooks\n\u001b[1;32m   1748\u001b[0m         \u001b[38;5;129;01mor\u001b[39;00m _global_backward_pre_hooks \u001b[38;5;129;01mor\u001b[39;00m _global_backward_hooks\n\u001b[1;32m   1749\u001b[0m         \u001b[38;5;129;01mor\u001b[39;00m _global_forward_hooks \u001b[38;5;129;01mor\u001b[39;00m _global_forward_pre_hooks):\n\u001b[0;32m-> 1750\u001b[0m     \u001b[38;5;28;01mreturn\u001b[39;00m forward_call(\u001b[38;5;241m*\u001b[39margs, \u001b[38;5;241m*\u001b[39m\u001b[38;5;241m*\u001b[39mkwargs)\n\u001b[1;32m   1752\u001b[0m result \u001b[38;5;241m=\u001b[39m \u001b[38;5;28;01mNone\u001b[39;00m\n\u001b[1;32m   1753\u001b[0m called_always_called_hooks \u001b[38;5;241m=\u001b[39m \u001b[38;5;28mset\u001b[39m()\n",
      "File \u001b[0;32m/opt/anaconda3/lib/python3.11/site-packages/ultralytics/nn/tasks.py:114\u001b[0m, in \u001b[0;36mBaseModel.forward\u001b[0;34m(self, x, *args, **kwargs)\u001b[0m\n\u001b[1;32m    112\u001b[0m \u001b[38;5;28;01mif\u001b[39;00m \u001b[38;5;28misinstance\u001b[39m(x, \u001b[38;5;28mdict\u001b[39m):  \u001b[38;5;66;03m# for cases of training and validating while training.\u001b[39;00m\n\u001b[1;32m    113\u001b[0m     \u001b[38;5;28;01mreturn\u001b[39;00m \u001b[38;5;28mself\u001b[39m\u001b[38;5;241m.\u001b[39mloss(x, \u001b[38;5;241m*\u001b[39margs, \u001b[38;5;241m*\u001b[39m\u001b[38;5;241m*\u001b[39mkwargs)\n\u001b[0;32m--> 114\u001b[0m \u001b[38;5;28;01mreturn\u001b[39;00m \u001b[38;5;28mself\u001b[39m\u001b[38;5;241m.\u001b[39mpredict(x, \u001b[38;5;241m*\u001b[39margs, \u001b[38;5;241m*\u001b[39m\u001b[38;5;241m*\u001b[39mkwargs)\n",
      "File \u001b[0;32m/opt/anaconda3/lib/python3.11/site-packages/ultralytics/nn/tasks.py:132\u001b[0m, in \u001b[0;36mBaseModel.predict\u001b[0;34m(self, x, profile, visualize, augment, embed)\u001b[0m\n\u001b[1;32m    130\u001b[0m \u001b[38;5;28;01mif\u001b[39;00m augment:\n\u001b[1;32m    131\u001b[0m     \u001b[38;5;28;01mreturn\u001b[39;00m \u001b[38;5;28mself\u001b[39m\u001b[38;5;241m.\u001b[39m_predict_augment(x)\n\u001b[0;32m--> 132\u001b[0m \u001b[38;5;28;01mreturn\u001b[39;00m \u001b[38;5;28mself\u001b[39m\u001b[38;5;241m.\u001b[39m_predict_once(x, profile, visualize, embed)\n",
      "File \u001b[0;32m/opt/anaconda3/lib/python3.11/site-packages/ultralytics/nn/tasks.py:153\u001b[0m, in \u001b[0;36mBaseModel._predict_once\u001b[0;34m(self, x, profile, visualize, embed)\u001b[0m\n\u001b[1;32m    151\u001b[0m \u001b[38;5;28;01mif\u001b[39;00m profile:\n\u001b[1;32m    152\u001b[0m     \u001b[38;5;28mself\u001b[39m\u001b[38;5;241m.\u001b[39m_profile_one_layer(m, x, dt)\n\u001b[0;32m--> 153\u001b[0m x \u001b[38;5;241m=\u001b[39m m(x)  \u001b[38;5;66;03m# run\u001b[39;00m\n\u001b[1;32m    154\u001b[0m y\u001b[38;5;241m.\u001b[39mappend(x \u001b[38;5;28;01mif\u001b[39;00m m\u001b[38;5;241m.\u001b[39mi \u001b[38;5;129;01min\u001b[39;00m \u001b[38;5;28mself\u001b[39m\u001b[38;5;241m.\u001b[39msave \u001b[38;5;28;01melse\u001b[39;00m \u001b[38;5;28;01mNone\u001b[39;00m)  \u001b[38;5;66;03m# save output\u001b[39;00m\n\u001b[1;32m    155\u001b[0m \u001b[38;5;28;01mif\u001b[39;00m visualize:\n",
      "File \u001b[0;32m/opt/anaconda3/lib/python3.11/site-packages/torch/nn/modules/module.py:1739\u001b[0m, in \u001b[0;36mModule._wrapped_call_impl\u001b[0;34m(self, *args, **kwargs)\u001b[0m\n\u001b[1;32m   1737\u001b[0m     \u001b[38;5;28;01mreturn\u001b[39;00m \u001b[38;5;28mself\u001b[39m\u001b[38;5;241m.\u001b[39m_compiled_call_impl(\u001b[38;5;241m*\u001b[39margs, \u001b[38;5;241m*\u001b[39m\u001b[38;5;241m*\u001b[39mkwargs)  \u001b[38;5;66;03m# type: ignore[misc]\u001b[39;00m\n\u001b[1;32m   1738\u001b[0m \u001b[38;5;28;01melse\u001b[39;00m:\n\u001b[0;32m-> 1739\u001b[0m     \u001b[38;5;28;01mreturn\u001b[39;00m \u001b[38;5;28mself\u001b[39m\u001b[38;5;241m.\u001b[39m_call_impl(\u001b[38;5;241m*\u001b[39margs, \u001b[38;5;241m*\u001b[39m\u001b[38;5;241m*\u001b[39mkwargs)\n",
      "File \u001b[0;32m/opt/anaconda3/lib/python3.11/site-packages/torch/nn/modules/module.py:1750\u001b[0m, in \u001b[0;36mModule._call_impl\u001b[0;34m(self, *args, **kwargs)\u001b[0m\n\u001b[1;32m   1745\u001b[0m \u001b[38;5;66;03m# If we don't have any hooks, we want to skip the rest of the logic in\u001b[39;00m\n\u001b[1;32m   1746\u001b[0m \u001b[38;5;66;03m# this function, and just call forward.\u001b[39;00m\n\u001b[1;32m   1747\u001b[0m \u001b[38;5;28;01mif\u001b[39;00m \u001b[38;5;129;01mnot\u001b[39;00m (\u001b[38;5;28mself\u001b[39m\u001b[38;5;241m.\u001b[39m_backward_hooks \u001b[38;5;129;01mor\u001b[39;00m \u001b[38;5;28mself\u001b[39m\u001b[38;5;241m.\u001b[39m_backward_pre_hooks \u001b[38;5;129;01mor\u001b[39;00m \u001b[38;5;28mself\u001b[39m\u001b[38;5;241m.\u001b[39m_forward_hooks \u001b[38;5;129;01mor\u001b[39;00m \u001b[38;5;28mself\u001b[39m\u001b[38;5;241m.\u001b[39m_forward_pre_hooks\n\u001b[1;32m   1748\u001b[0m         \u001b[38;5;129;01mor\u001b[39;00m _global_backward_pre_hooks \u001b[38;5;129;01mor\u001b[39;00m _global_backward_hooks\n\u001b[1;32m   1749\u001b[0m         \u001b[38;5;129;01mor\u001b[39;00m _global_forward_hooks \u001b[38;5;129;01mor\u001b[39;00m _global_forward_pre_hooks):\n\u001b[0;32m-> 1750\u001b[0m     \u001b[38;5;28;01mreturn\u001b[39;00m forward_call(\u001b[38;5;241m*\u001b[39margs, \u001b[38;5;241m*\u001b[39m\u001b[38;5;241m*\u001b[39mkwargs)\n\u001b[1;32m   1752\u001b[0m result \u001b[38;5;241m=\u001b[39m \u001b[38;5;28;01mNone\u001b[39;00m\n\u001b[1;32m   1753\u001b[0m called_always_called_hooks \u001b[38;5;241m=\u001b[39m \u001b[38;5;28mset\u001b[39m()\n",
      "File \u001b[0;32m/opt/anaconda3/lib/python3.11/site-packages/ultralytics/nn/modules/block.py:240\u001b[0m, in \u001b[0;36mC2f.forward\u001b[0;34m(self, x)\u001b[0m\n\u001b[1;32m    238\u001b[0m y \u001b[38;5;241m=\u001b[39m \u001b[38;5;28mlist\u001b[39m(\u001b[38;5;28mself\u001b[39m\u001b[38;5;241m.\u001b[39mcv1(x)\u001b[38;5;241m.\u001b[39mchunk(\u001b[38;5;241m2\u001b[39m, \u001b[38;5;241m1\u001b[39m))\n\u001b[1;32m    239\u001b[0m y\u001b[38;5;241m.\u001b[39mextend(m(y[\u001b[38;5;241m-\u001b[39m\u001b[38;5;241m1\u001b[39m]) \u001b[38;5;28;01mfor\u001b[39;00m m \u001b[38;5;129;01min\u001b[39;00m \u001b[38;5;28mself\u001b[39m\u001b[38;5;241m.\u001b[39mm)\n\u001b[0;32m--> 240\u001b[0m \u001b[38;5;28;01mreturn\u001b[39;00m \u001b[38;5;28mself\u001b[39m\u001b[38;5;241m.\u001b[39mcv2(torch\u001b[38;5;241m.\u001b[39mcat(y, \u001b[38;5;241m1\u001b[39m))\n",
      "File \u001b[0;32m/opt/anaconda3/lib/python3.11/site-packages/torch/nn/modules/module.py:1739\u001b[0m, in \u001b[0;36mModule._wrapped_call_impl\u001b[0;34m(self, *args, **kwargs)\u001b[0m\n\u001b[1;32m   1737\u001b[0m     \u001b[38;5;28;01mreturn\u001b[39;00m \u001b[38;5;28mself\u001b[39m\u001b[38;5;241m.\u001b[39m_compiled_call_impl(\u001b[38;5;241m*\u001b[39margs, \u001b[38;5;241m*\u001b[39m\u001b[38;5;241m*\u001b[39mkwargs)  \u001b[38;5;66;03m# type: ignore[misc]\u001b[39;00m\n\u001b[1;32m   1738\u001b[0m \u001b[38;5;28;01melse\u001b[39;00m:\n\u001b[0;32m-> 1739\u001b[0m     \u001b[38;5;28;01mreturn\u001b[39;00m \u001b[38;5;28mself\u001b[39m\u001b[38;5;241m.\u001b[39m_call_impl(\u001b[38;5;241m*\u001b[39margs, \u001b[38;5;241m*\u001b[39m\u001b[38;5;241m*\u001b[39mkwargs)\n",
      "File \u001b[0;32m/opt/anaconda3/lib/python3.11/site-packages/torch/nn/modules/module.py:1750\u001b[0m, in \u001b[0;36mModule._call_impl\u001b[0;34m(self, *args, **kwargs)\u001b[0m\n\u001b[1;32m   1745\u001b[0m \u001b[38;5;66;03m# If we don't have any hooks, we want to skip the rest of the logic in\u001b[39;00m\n\u001b[1;32m   1746\u001b[0m \u001b[38;5;66;03m# this function, and just call forward.\u001b[39;00m\n\u001b[1;32m   1747\u001b[0m \u001b[38;5;28;01mif\u001b[39;00m \u001b[38;5;129;01mnot\u001b[39;00m (\u001b[38;5;28mself\u001b[39m\u001b[38;5;241m.\u001b[39m_backward_hooks \u001b[38;5;129;01mor\u001b[39;00m \u001b[38;5;28mself\u001b[39m\u001b[38;5;241m.\u001b[39m_backward_pre_hooks \u001b[38;5;129;01mor\u001b[39;00m \u001b[38;5;28mself\u001b[39m\u001b[38;5;241m.\u001b[39m_forward_hooks \u001b[38;5;129;01mor\u001b[39;00m \u001b[38;5;28mself\u001b[39m\u001b[38;5;241m.\u001b[39m_forward_pre_hooks\n\u001b[1;32m   1748\u001b[0m         \u001b[38;5;129;01mor\u001b[39;00m _global_backward_pre_hooks \u001b[38;5;129;01mor\u001b[39;00m _global_backward_hooks\n\u001b[1;32m   1749\u001b[0m         \u001b[38;5;129;01mor\u001b[39;00m _global_forward_hooks \u001b[38;5;129;01mor\u001b[39;00m _global_forward_pre_hooks):\n\u001b[0;32m-> 1750\u001b[0m     \u001b[38;5;28;01mreturn\u001b[39;00m forward_call(\u001b[38;5;241m*\u001b[39margs, \u001b[38;5;241m*\u001b[39m\u001b[38;5;241m*\u001b[39mkwargs)\n\u001b[1;32m   1752\u001b[0m result \u001b[38;5;241m=\u001b[39m \u001b[38;5;28;01mNone\u001b[39;00m\n\u001b[1;32m   1753\u001b[0m called_always_called_hooks \u001b[38;5;241m=\u001b[39m \u001b[38;5;28mset\u001b[39m()\n",
      "File \u001b[0;32m/opt/anaconda3/lib/python3.11/site-packages/ultralytics/nn/modules/conv.py:55\u001b[0m, in \u001b[0;36mConv.forward_fuse\u001b[0;34m(self, x)\u001b[0m\n\u001b[1;32m     53\u001b[0m \u001b[38;5;28;01mdef\u001b[39;00m \u001b[38;5;21mforward_fuse\u001b[39m(\u001b[38;5;28mself\u001b[39m, x):\n\u001b[1;32m     54\u001b[0m \u001b[38;5;250m    \u001b[39m\u001b[38;5;124;03m\"\"\"Apply convolution and activation without batch normalization.\"\"\"\u001b[39;00m\n\u001b[0;32m---> 55\u001b[0m     \u001b[38;5;28;01mreturn\u001b[39;00m \u001b[38;5;28mself\u001b[39m\u001b[38;5;241m.\u001b[39mact(\u001b[38;5;28mself\u001b[39m\u001b[38;5;241m.\u001b[39mconv(x))\n",
      "File \u001b[0;32m/opt/anaconda3/lib/python3.11/site-packages/torch/nn/modules/module.py:1739\u001b[0m, in \u001b[0;36mModule._wrapped_call_impl\u001b[0;34m(self, *args, **kwargs)\u001b[0m\n\u001b[1;32m   1737\u001b[0m     \u001b[38;5;28;01mreturn\u001b[39;00m \u001b[38;5;28mself\u001b[39m\u001b[38;5;241m.\u001b[39m_compiled_call_impl(\u001b[38;5;241m*\u001b[39margs, \u001b[38;5;241m*\u001b[39m\u001b[38;5;241m*\u001b[39mkwargs)  \u001b[38;5;66;03m# type: ignore[misc]\u001b[39;00m\n\u001b[1;32m   1738\u001b[0m \u001b[38;5;28;01melse\u001b[39;00m:\n\u001b[0;32m-> 1739\u001b[0m     \u001b[38;5;28;01mreturn\u001b[39;00m \u001b[38;5;28mself\u001b[39m\u001b[38;5;241m.\u001b[39m_call_impl(\u001b[38;5;241m*\u001b[39margs, \u001b[38;5;241m*\u001b[39m\u001b[38;5;241m*\u001b[39mkwargs)\n",
      "File \u001b[0;32m/opt/anaconda3/lib/python3.11/site-packages/torch/nn/modules/module.py:1750\u001b[0m, in \u001b[0;36mModule._call_impl\u001b[0;34m(self, *args, **kwargs)\u001b[0m\n\u001b[1;32m   1745\u001b[0m \u001b[38;5;66;03m# If we don't have any hooks, we want to skip the rest of the logic in\u001b[39;00m\n\u001b[1;32m   1746\u001b[0m \u001b[38;5;66;03m# this function, and just call forward.\u001b[39;00m\n\u001b[1;32m   1747\u001b[0m \u001b[38;5;28;01mif\u001b[39;00m \u001b[38;5;129;01mnot\u001b[39;00m (\u001b[38;5;28mself\u001b[39m\u001b[38;5;241m.\u001b[39m_backward_hooks \u001b[38;5;129;01mor\u001b[39;00m \u001b[38;5;28mself\u001b[39m\u001b[38;5;241m.\u001b[39m_backward_pre_hooks \u001b[38;5;129;01mor\u001b[39;00m \u001b[38;5;28mself\u001b[39m\u001b[38;5;241m.\u001b[39m_forward_hooks \u001b[38;5;129;01mor\u001b[39;00m \u001b[38;5;28mself\u001b[39m\u001b[38;5;241m.\u001b[39m_forward_pre_hooks\n\u001b[1;32m   1748\u001b[0m         \u001b[38;5;129;01mor\u001b[39;00m _global_backward_pre_hooks \u001b[38;5;129;01mor\u001b[39;00m _global_backward_hooks\n\u001b[1;32m   1749\u001b[0m         \u001b[38;5;129;01mor\u001b[39;00m _global_forward_hooks \u001b[38;5;129;01mor\u001b[39;00m _global_forward_pre_hooks):\n\u001b[0;32m-> 1750\u001b[0m     \u001b[38;5;28;01mreturn\u001b[39;00m forward_call(\u001b[38;5;241m*\u001b[39margs, \u001b[38;5;241m*\u001b[39m\u001b[38;5;241m*\u001b[39mkwargs)\n\u001b[1;32m   1752\u001b[0m result \u001b[38;5;241m=\u001b[39m \u001b[38;5;28;01mNone\u001b[39;00m\n\u001b[1;32m   1753\u001b[0m called_always_called_hooks \u001b[38;5;241m=\u001b[39m \u001b[38;5;28mset\u001b[39m()\n",
      "File \u001b[0;32m/opt/anaconda3/lib/python3.11/site-packages/torch/nn/modules/activation.py:432\u001b[0m, in \u001b[0;36mSiLU.forward\u001b[0;34m(self, input)\u001b[0m\n\u001b[1;32m    431\u001b[0m \u001b[38;5;28;01mdef\u001b[39;00m \u001b[38;5;21mforward\u001b[39m(\u001b[38;5;28mself\u001b[39m, \u001b[38;5;28minput\u001b[39m: Tensor) \u001b[38;5;241m-\u001b[39m\u001b[38;5;241m>\u001b[39m Tensor:\n\u001b[0;32m--> 432\u001b[0m     \u001b[38;5;28;01mreturn\u001b[39;00m F\u001b[38;5;241m.\u001b[39msilu(\u001b[38;5;28minput\u001b[39m, inplace\u001b[38;5;241m=\u001b[39m\u001b[38;5;28mself\u001b[39m\u001b[38;5;241m.\u001b[39minplace)\n",
      "File \u001b[0;32m/opt/anaconda3/lib/python3.11/site-packages/torch/nn/functional.py:2379\u001b[0m, in \u001b[0;36msilu\u001b[0;34m(input, inplace)\u001b[0m\n\u001b[1;32m   2377\u001b[0m     \u001b[38;5;28;01mreturn\u001b[39;00m handle_torch_function(silu, (\u001b[38;5;28minput\u001b[39m,), \u001b[38;5;28minput\u001b[39m, inplace\u001b[38;5;241m=\u001b[39minplace)\n\u001b[1;32m   2378\u001b[0m \u001b[38;5;28;01mif\u001b[39;00m inplace:\n\u001b[0;32m-> 2379\u001b[0m     \u001b[38;5;28;01mreturn\u001b[39;00m torch\u001b[38;5;241m.\u001b[39m_C\u001b[38;5;241m.\u001b[39m_nn\u001b[38;5;241m.\u001b[39msilu_(\u001b[38;5;28minput\u001b[39m)\n\u001b[1;32m   2380\u001b[0m \u001b[38;5;28;01mreturn\u001b[39;00m torch\u001b[38;5;241m.\u001b[39m_C\u001b[38;5;241m.\u001b[39m_nn\u001b[38;5;241m.\u001b[39msilu(\u001b[38;5;28minput\u001b[39m)\n",
      "\u001b[0;31mKeyboardInterrupt\u001b[0m: "
     ]
    }
   ],
   "source": [
    "results = model.predict(source=0, show=True)"
   ]
  }
 ],
 "metadata": {
  "kernelspec": {
   "display_name": "base",
   "language": "python",
   "name": "python3"
  },
  "language_info": {
   "codemirror_mode": {
    "name": "ipython",
    "version": 3
   },
   "file_extension": ".py",
   "mimetype": "text/x-python",
   "name": "python",
   "nbconvert_exporter": "python",
   "pygments_lexer": "ipython3",
   "version": "3.11.7"
  }
 },
 "nbformat": 4,
 "nbformat_minor": 2
}
